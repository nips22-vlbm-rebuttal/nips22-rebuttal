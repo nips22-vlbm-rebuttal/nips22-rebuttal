{
 "cells": [
  {
   "cell_type": "code",
   "execution_count": 2,
   "id": "ea962673",
   "metadata": {},
   "outputs": [
    {
     "name": "stdout",
     "output_type": "stream",
     "text": [
      "WARNING:tensorflow:Deprecation warnings have been disabled. Set TF_ENABLE_DEPRECATION_WARNINGS=1 to re-enable them.\n"
     ]
    },
    {
     "name": "stderr",
     "output_type": "stream",
     "text": [
      "2022-05-16 22:03:28.827357: I tensorflow/stream_executor/platform/default/dso_loader.cc:49] Successfully opened dynamic library libcudart.so.11.0\n"
     ]
    },
    {
     "name": "stdout",
     "output_type": "stream",
     "text": [
      "WARNING:tensorflow:\n",
      "The TensorFlow contrib module will not be included in TensorFlow 2.0.\n",
      "For more information, please see:\n",
      "  * https://github.com/tensorflow/community/blob/master/rfcs/20180907-contrib-sunset.md\n",
      "  * https://github.com/tensorflow/addons\n",
      "  * https://github.com/tensorflow/io (for I/O related ops)\n",
      "If you depend on functionality not listed there, please file an issue.\n",
      "\n"
     ]
    },
    {
     "name": "stderr",
     "output_type": "stream",
     "text": [
      "\n"
     ]
    },
    {
     "name": "stdout",
     "output_type": "stream",
     "text": [
      "WARNING:tensorflow:From /home/Dropbox/OPE/Behavioral_OPE_SAC/halfcheetah/T-SNE/../../utils_latentPolicy_sac_lstm_zt_zt1_ensemble.py:610: The name tf.AUTO_REUSE is deprecated. Please use tf.compat.v1.AUTO_REUSE instead.\n",
      "\n"
     ]
    },
    {
     "name": "stderr",
     "output_type": "stream",
     "text": [
      "Warning: Flow failed to import. Set the environment variable D4RL_SUPPRESS_IMPORT_ERROR=1 to suppress this message.\n",
      "No module named 'flow'\n",
      "/home/anaconda3/envs/ope_py37/lib/python3.8/site-packages/glfw/__init__.py:906: GLFWError: (65544) b'X11: The DISPLAY environment variable is missing'\n",
      "  warnings.warn(message, GLFWError)\n",
      "Warning: CARLA failed to import. Set the environment variable D4RL_SUPPRESS_IMPORT_ERROR=1 to suppress this message.\n",
      "No module named 'carla'\n",
      "pybullet build time: Dec  1 2021 18:33:43\n"
     ]
    },
    {
     "name": "stdout",
     "output_type": "stream",
     "text": [
      "WARNING:tensorflow:From /tmp/ipykernel_637225/1293645834.py:30: The name tf.ConfigProto is deprecated. Please use tf.compat.v1.ConfigProto instead.\n",
      "\n"
     ]
    },
    {
     "name": "stderr",
     "output_type": "stream",
     "text": [
      "WARNING:tensorflow:From /tmp/ipykernel_637225/1293645834.py:30: The name tf.ConfigProto is deprecated. Please use tf.compat.v1.ConfigProto instead.\n",
      "\n"
     ]
    }
   ],
   "source": [
    "import sys\n",
    "sys.path.append(\"../../\")\n",
    "\n",
    "# from __future__ import division\n",
    "import tensorflow as tf\n",
    "import numpy as np\n",
    "from collections import deque\n",
    "import random\n",
    "import gym\n",
    "from gym import wrappers\n",
    "from gym.envs.classic_control.pendulum import angle_normalize, PendulumEnv\n",
    "from core import *\n",
    "from utils_latentPolicy_sac_lstm_zt_zt1_ensemble import *\n",
    "import os\n",
    "import tensorflow_probability as tfp\n",
    "import multiprocessing as mp\n",
    "import os\n",
    "import d4rl\n",
    "import json\n",
    "import pandas as pd\n",
    "import pickle\n",
    "import tqdm\n",
    "import os\n",
    "from matplotlib import pyplot as plt\n",
    "os.environ[\"CUDA_VISIBLE_DEVICES\"] = \"3\"\n",
    "\n",
    "slim = tf.contrib.slim\n",
    "rnn = tf.contrib.rnn\n",
    "tfd = tfp.distributions\n",
    "config=tf.ConfigProto(log_device_placement=False)\n",
    "config.gpu_options.allow_growth = True"
   ]
  },
  {
   "cell_type": "code",
   "execution_count": 3,
   "id": "d21ab0c4",
   "metadata": {},
   "outputs": [],
   "source": [
    "from sklearn.manifold import TSNE\n",
    "from sklearn.decomposition import PCA\n",
    "from sklearn.linear_model import LogisticRegression\n",
    "import seaborn as sns"
   ]
  },
  {
   "cell_type": "code",
   "execution_count": 4,
   "id": "5da54856",
   "metadata": {},
   "outputs": [],
   "source": [
    "ope_path = \"../saved_model/OPE_SAC_latentPolicy_lstm_zt_zt1_ensemble_d4rlOnly_halfcheetah-medium-expert-v2_850epi_repeat1_0.0003_0.0007_1000_0.997_16_1.0_2599/ope_best.ckpt\""
   ]
  },
  {
   "cell_type": "code",
   "execution_count": 5,
   "id": "fa153061",
   "metadata": {},
   "outputs": [],
   "source": [
    "def gen_zt(data_path):\n",
    "\n",
    "    LR = 0.0003\n",
    "    GAMMA = 0.995\n",
    "    BUFFER_SIZE_SAC = 2*10**6\n",
    "    MINIBATCH_SIZE_SAC = 256\n",
    "    MINIBATCH_SIZE_OPE = 64\n",
    "    RANDOM_SEED = 2599\n",
    "    MAX_EPISODES = 1000\n",
    "    MAX_EPISODE_LEN = 1000\n",
    "    NUM_OPE_MODELS = 10\n",
    "    CODE_SIZE = 16\n",
    "    EXPLORATION = .3\n",
    "    REPEAT = 1\n",
    "    BUFFER_SIZE_OPE = 2000\n",
    "    beta = 1.\n",
    "\n",
    "\n",
    "    OPE_LR = 0.001\n",
    "    OPE_DS = 1000\n",
    "    OPE_DR = 0.98\n",
    "\n",
    "    BEST_MAE = 9999.\n",
    "\n",
    "\n",
    "    network_params = {\n",
    "    'hidden_sizes':[256, 256],\n",
    "    'activation':'relu',\n",
    "    'policy':mlp_gaussian_policy\n",
    "    }\n",
    "\n",
    "    rl_params = {\n",
    "        'env_name':'halfcheetah-medium-expert-v2',\n",
    "\n",
    "        # control params\n",
    "        'seed': RANDOM_SEED,\n",
    "        'epochs': MAX_EPISODES,\n",
    "        'actor_critic':mlp_actor_critic,\n",
    "        'steps_per_epoch': MAX_EPISODE_LEN,\n",
    "        'replay_size': BUFFER_SIZE_SAC,\n",
    "        'batch_size': MINIBATCH_SIZE_SAC,\n",
    "        'start_epis': 0,\n",
    "        'max_ep_len': MAX_EPISODE_LEN,\n",
    "        'save_freq': 10,\n",
    "        'render': False,\n",
    "\n",
    "        # rl params\n",
    "        'gamma': 0.99,\n",
    "        'polyak': 0.995,\n",
    "        'lr': LR,\n",
    "        'grad_clip_val':None,\n",
    "\n",
    "        # entropy params\n",
    "        'alpha': 'auto',\n",
    "        'target_entropy':'auto' # fixed or auto define with -act_dim\n",
    "    }\n",
    "\n",
    "    file_appendix = (\n",
    "        \"OPE_SAC_latentPolicy_lstm_zt_zt1_d4rlOnly_\" + rl_params['env_name'] + \"_\" + str(MAX_EPISODES)\n",
    "        + \"epi_repeat\"+ str(REPEAT) + \"_\" + str(LR) + \"_\"\n",
    "        + str(OPE_LR) + \"_\"\n",
    "        + str(OPE_DS) + \"_\"\n",
    "        + str(OPE_DR) + \"_\"\n",
    "        + str(CODE_SIZE) + \"_\"\n",
    "        + str(beta) + \"_\"\n",
    "        + str(RANDOM_SEED)\n",
    "    )\n",
    "\n",
    "    env = gym.make(rl_params['env_name'])\n",
    "    np.random.seed(RANDOM_SEED)\n",
    "    tf.set_random_seed(RANDOM_SEED)\n",
    "    env.seed(RANDOM_SEED)\n",
    "\n",
    "    env_state_dim = env.observation_space.shape[0]\n",
    "    # state_dim = CODE_SIZE\n",
    "    env_action_dim = env.action_space.shape[0]\n",
    "    env_action_bound = env.action_space.high\n",
    "    env_state_bound = None\n",
    "    # Ensure action bound is symmetric\n",
    "    #     assert (env.action_space.high == -env.action_space.low)\n",
    "\n",
    "    graph_ope_models = tf.Graph()\n",
    "\n",
    "    graph_ac = tf.Graph()\n",
    "\n",
    "    all_zts = []\n",
    "\n",
    "#     data_path = \"./halfcheetah_online_0.data\"\n",
    "#     ope_path = \"../saved_model/OPE_SAC_latentPolicy_lstm_zt_zt1_ensemble_d4rlOnly_halfcheetah-medium-expert-v2_850epi_repeat1_0.0003_0.0007_1000_0.997_16_1.0_2599/ope_best.ckpt\"\n",
    "\n",
    "    with open(data_path, \"rb\") as f:\n",
    "        trajectories = pickle.load(f)\n",
    "\n",
    "    with tf.Session(config=config, graph=graph_ope_models) as sess_ope_models:\n",
    "\n",
    "        with graph_ope_models.as_default():\n",
    "\n",
    "            ope_model = OPE_Model(\n",
    "                NUM_OPE_MODELS, graph_ope_models, sess_ope_models, OPE_LR, OPE_DS, OPE_DR, CODE_SIZE,\n",
    "                env_state_dim, env_state_bound, env_action_dim, file_appendix,\n",
    "                BUFFER_SIZE_OPE, RANDOM_SEED, MINIBATCH_SIZE_OPE, MAX_EPISODE_LEN, beta,\n",
    "                is_training=False\n",
    "            )\n",
    "\n",
    "            ope_saver = ope_model.saver\n",
    "\n",
    "            ope_saver.restore(sess_ope_models, ope_path)\n",
    "\n",
    "\n",
    "            d4rl_qlearning = d4rl.qlearning_dataset(env)\n",
    "\n",
    "            obs_mean = d4rl_qlearning['observations'].mean(0).astype(np.float32)\n",
    "            obs_std = d4rl_qlearning['observations'].std(0).astype(np.float32)\n",
    "\n",
    "            rew_mean = d4rl_qlearning['rewards'].mean()\n",
    "            rew_std = d4rl_qlearning['rewards'].std()\n",
    "\n",
    "            for i in range(10):\n",
    "                lstm_h = np.zeros((1,64*2))\n",
    "                all_zts += [[]]\n",
    "                for j in tqdm.tqdm(range(len(trajectories['states'][i])-1), desc=data_path+\"\\t\"+str(i)):\n",
    "                    zt = sess_ope_models.run(\n",
    "                        ope_model.encoder_zt_out_from_st_sample, \n",
    "                        feed_dict={\n",
    "#                             ope_model.encoder_lstm_state_holder : lstm_h,\n",
    "                            ope_model.state_holder : [trajectories['states'][i][j]],\n",
    "#                             ope_model.action_holder : [trajectories['actions'][i][j]],\n",
    "                            ope_model.state2_holder : [trajectories['states'][i][j+1]],\n",
    "                        }\n",
    "                    )\n",
    "                    all_zts[i] += [zt]\n",
    "                    \n",
    "        return (data_path.split(\".\")[0], all_zts)\n",
    "\n"
   ]
  },
  {
   "cell_type": "code",
   "execution_count": 6,
   "id": "a380943a",
   "metadata": {},
   "outputs": [
    {
     "name": "stderr",
     "output_type": "stream",
     "text": [
      "/home/anaconda3/envs/ope_py37/lib/python3.8/site-packages/gym/spaces/box.py:78: UserWarning: \u001b[33mWARN: Box bound precision lowered by casting to float32\u001b[0m\n",
      "  logger.warn(f\"Box bound precision lowered by casting to {self.dtype}\")\n",
      "/home/anaconda3/envs/ope_py37/lib/python3.8/site-packages/gym/spaces/box.py:78: UserWarning: \u001b[33mWARN: Box bound precision lowered by casting to float32\u001b[0m\n",
      "  logger.warn(f\"Box bound precision lowered by casting to {self.dtype}\")\n",
      "/home/anaconda3/envs/ope_py37/lib/python3.8/site-packages/gym/spaces/box.py:78: UserWarning: \u001b[33mWARN: Box bound precision lowered by casting to float32\u001b[0m\n",
      "  logger.warn(f\"Box bound precision lowered by casting to {self.dtype}\")\n"
     ]
    },
    {
     "name": "stdout",
     "output_type": "stream",
     "text": [
      "WARNING:tensorflow:From /tmp/ipykernel_637225/1233805727.py:71: The name tf.set_random_seed is deprecated. Please use tf.compat.v1.set_random_seed instead.\n",
      "\n",
      "WARNING:tensorflow:From /tmp/ipykernel_637225/1233805727.py:71: The name tf.set_random_seed is deprecated. Please use tf.compat.v1.set_random_seed instead.\n",
      "\n"
     ]
    },
    {
     "name": "stderr",
     "output_type": "stream",
     "text": [
      "WARNING:tensorflow:From /tmp/ipykernel_637225/1233805727.py:71: The name tf.set_random_seed is deprecated. Please use tf.compat.v1.set_random_seed instead.\n",
      "\n"
     ]
    },
    {
     "name": "stdout",
     "output_type": "stream",
     "text": [
      "WARNING:tensorflow:From /tmp/ipykernel_637225/1233805727.py:71: The name tf.set_random_seed is deprecated. Please use tf.compat.v1.set_random_seed instead.\n",
      "\n"
     ]
    },
    {
     "name": "stderr",
     "output_type": "stream",
     "text": [
      "WARNING:tensorflow:From /tmp/ipykernel_637225/1233805727.py:71: The name tf.set_random_seed is deprecated. Please use tf.compat.v1.set_random_seed instead.\n",
      "\n",
      "WARNING:tensorflow:From /tmp/ipykernel_637225/1233805727.py:71: The name tf.set_random_seed is deprecated. Please use tf.compat.v1.set_random_seed instead.\n",
      "\n",
      "/home/anaconda3/envs/ope_py37/lib/python3.8/site-packages/gym/spaces/box.py:78: UserWarning: \u001b[33mWARN: Box bound precision lowered by casting to float32\u001b[0m\n",
      "  logger.warn(f\"Box bound precision lowered by casting to {self.dtype}\")\n"
     ]
    },
    {
     "name": "stdout",
     "output_type": "stream",
     "text": [
      "WARNING:tensorflow:From /tmp/ipykernel_637225/1233805727.py:71: The name tf.set_random_seed is deprecated. Please use tf.compat.v1.set_random_seed instead.\n",
      "\n"
     ]
    },
    {
     "name": "stderr",
     "output_type": "stream",
     "text": [
      "WARNING:tensorflow:From /tmp/ipykernel_637225/1233805727.py:71: The name tf.set_random_seed is deprecated. Please use tf.compat.v1.set_random_seed instead.\n",
      "\n"
     ]
    },
    {
     "name": "stdout",
     "output_type": "stream",
     "text": [
      "WARNING:tensorflow:From /tmp/ipykernel_637225/1233805727.py:94: The name tf.Session is deprecated. Please use tf.compat.v1.Session instead.\n",
      "\n"
     ]
    },
    {
     "name": "stderr",
     "output_type": "stream",
     "text": [
      "WARNING:tensorflow:From /tmp/ipykernel_637225/1233805727.py:94: The name tf.Session is deprecated. Please use tf.compat.v1.Session instead.\n",
      "\n"
     ]
    },
    {
     "name": "stdout",
     "output_type": "stream",
     "text": [
      "WARNING:tensorflow:From /tmp/ipykernel_637225/1233805727.py:94: The name tf.Session is deprecated. Please use tf.compat.v1.Session instead.\n",
      "\n"
     ]
    },
    {
     "name": "stderr",
     "output_type": "stream",
     "text": [
      "WARNING:tensorflow:From /tmp/ipykernel_637225/1233805727.py:94: The name tf.Session is deprecated. Please use tf.compat.v1.Session instead.\n",
      "\n"
     ]
    },
    {
     "name": "stdout",
     "output_type": "stream",
     "text": [
      "WARNING:tensorflow:From /tmp/ipykernel_637225/1233805727.py:94: The name tf.Session is deprecated. Please use tf.compat.v1.Session instead.\n",
      "\n"
     ]
    },
    {
     "name": "stderr",
     "output_type": "stream",
     "text": [
      "WARNING:tensorflow:From /tmp/ipykernel_637225/1233805727.py:94: The name tf.Session is deprecated. Please use tf.compat.v1.Session instead.\n",
      "\n"
     ]
    },
    {
     "name": "stdout",
     "output_type": "stream",
     "text": [
      "WARNING:tensorflow:From /tmp/ipykernel_637225/1233805727.py:94: The name tf.Session is deprecated. Please use tf.compat.v1.Session instead.\n",
      "\n"
     ]
    },
    {
     "name": "stderr",
     "output_type": "stream",
     "text": [
      "WARNING:tensorflow:From /tmp/ipykernel_637225/1233805727.py:94: The name tf.Session is deprecated. Please use tf.compat.v1.Session instead.\n",
      "\n",
      "2022-05-16 22:03:31.389571: I tensorflow/core/platform/profile_utils/cpu_utils.cc:94] CPU Frequency: 3493425000 Hz\n",
      "2022-05-16 22:03:31.391623: I tensorflow/compiler/xla/service/service.cc:168] XLA service 0x55cb33d14820 initialized for platform Host (this does not guarantee that XLA will be used). Devices:\n",
      "2022-05-16 22:03:31.391654: I tensorflow/compiler/xla/service/service.cc:176]   StreamExecutor device (0): Host, Default Version\n",
      "2022-05-16 22:03:31.393523: I tensorflow/stream_executor/platform/default/dso_loader.cc:49] Successfully opened dynamic library libcuda.so.1\n",
      "2022-05-16 22:03:31.394325: I tensorflow/core/platform/profile_utils/cpu_utils.cc:94] CPU Frequency: 3493425000 Hz\n",
      "2022-05-16 22:03:31.396296: I tensorflow/compiler/xla/service/service.cc:168] XLA service 0x55cb33d14820 initialized for platform Host (this does not guarantee that XLA will be used). Devices:\n",
      "2022-05-16 22:03:31.396334: I tensorflow/compiler/xla/service/service.cc:176]   StreamExecutor device (0): Host, Default Version\n",
      "2022-05-16 22:03:31.398244: I tensorflow/stream_executor/platform/default/dso_loader.cc:49] Successfully opened dynamic library libcuda.so.1\n",
      "2022-05-16 22:03:31.405240: I tensorflow/core/platform/profile_utils/cpu_utils.cc:94] CPU Frequency: 3493425000 Hz\n",
      "2022-05-16 22:03:31.405289: I tensorflow/core/platform/profile_utils/cpu_utils.cc:94] CPU Frequency: 3493425000 Hz\n",
      "2022-05-16 22:03:31.408641: I tensorflow/compiler/xla/service/service.cc:168] XLA service 0x55cb33d14820 initialized for platform Host (this does not guarantee that XLA will be used). Devices:\n",
      "2022-05-16 22:03:31.408686: I tensorflow/compiler/xla/service/service.cc:176]   StreamExecutor device (0): Host, Default Version\n",
      "2022-05-16 22:03:31.408700: I tensorflow/compiler/xla/service/service.cc:168] XLA service 0x55cb33d14820 initialized for platform Host (this does not guarantee that XLA will be used). Devices:\n",
      "2022-05-16 22:03:31.408746: I tensorflow/compiler/xla/service/service.cc:176]   StreamExecutor device (0): Host, Default Version\n",
      "2022-05-16 22:03:31.411762: I tensorflow/stream_executor/platform/default/dso_loader.cc:49] Successfully opened dynamic library libcuda.so.1\n",
      "2022-05-16 22:03:31.411842: I tensorflow/stream_executor/platform/default/dso_loader.cc:49] Successfully opened dynamic library libcuda.so.1\n",
      "2022-05-16 22:03:31.642488: I tensorflow/stream_executor/cuda/cuda_gpu_executor.cc:1082] successful NUMA node read from SysFS had negative value (-1), but there must be at least one NUMA node, so returning NUMA node zero\n",
      "2022-05-16 22:03:31.643501: I tensorflow/compiler/xla/service/service.cc:168] XLA service 0x55cb31d5ed40 initialized for platform CUDA (this does not guarantee that XLA will be used). Devices:\n",
      "2022-05-16 22:03:31.643532: I tensorflow/compiler/xla/service/service.cc:176]   StreamExecutor device (0): NVIDIA RTX A5000, Compute Capability 8.6\n",
      "2022-05-16 22:03:31.643810: I tensorflow/stream_executor/cuda/cuda_gpu_executor.cc:1082] successful NUMA node read from SysFS had negative value (-1), but there must be at least one NUMA node, so returning NUMA node zero\n",
      "2022-05-16 22:03:31.644925: I tensorflow/core/common_runtime/gpu/gpu_device.cc:1665] Found device 0 with properties: \n",
      "name: NVIDIA RTX A5000 major: 8 minor: 6 memoryClockRate(GHz): 1.695\n",
      "pciBusID: 0000:61:00.0\n",
      "2022-05-16 22:03:31.644953: I tensorflow/stream_executor/platform/default/dso_loader.cc:49] Successfully opened dynamic library libcudart.so.11.0\n",
      "2022-05-16 22:03:31.646104: I tensorflow/stream_executor/cuda/cuda_gpu_executor.cc:1082] successful NUMA node read from SysFS had negative value (-1), but there must be at least one NUMA node, so returning NUMA node zero\n",
      "2022-05-16 22:03:31.646477: I tensorflow/compiler/xla/service/service.cc:168] XLA service 0x55cb31d5ed40 initialized for platform CUDA (this does not guarantee that XLA will be used). Devices:\n",
      "2022-05-16 22:03:31.646506: I tensorflow/compiler/xla/service/service.cc:176]   StreamExecutor device (0): NVIDIA RTX A5000, Compute Capability 8.6\n",
      "2022-05-16 22:03:31.646590: I tensorflow/stream_executor/cuda/cuda_gpu_executor.cc:1082] successful NUMA node read from SysFS had negative value (-1), but there must be at least one NUMA node, so returning NUMA node zero\n",
      "2022-05-16 22:03:31.646777: I tensorflow/stream_executor/cuda/cuda_gpu_executor.cc:1082] successful NUMA node read from SysFS had negative value (-1), but there must be at least one NUMA node, so returning NUMA node zero\n",
      "2022-05-16 22:03:31.647339: I tensorflow/compiler/xla/service/service.cc:168] XLA service 0x55cb31d5ed40 initialized for platform CUDA (this does not guarantee that XLA will be used). Devices:\n",
      "2022-05-16 22:03:31.647365: I tensorflow/compiler/xla/service/service.cc:176]   StreamExecutor device (0): NVIDIA RTX A5000, Compute Capability 8.6\n",
      "2022-05-16 22:03:31.647372: I tensorflow/core/common_runtime/gpu/gpu_device.cc:1665] Found device 0 with properties: \n",
      "name: NVIDIA RTX A5000 major: 8 minor: 6 memoryClockRate(GHz): 1.695\n",
      "pciBusID: 0000:61:00.0\n",
      "2022-05-16 22:03:31.647405: I tensorflow/stream_executor/platform/default/dso_loader.cc:49] Successfully opened dynamic library libcudart.so.11.0\n",
      "2022-05-16 22:03:31.647618: I tensorflow/stream_executor/cuda/cuda_gpu_executor.cc:1082] successful NUMA node read from SysFS had negative value (-1), but there must be at least one NUMA node, so returning NUMA node zero\n",
      "2022-05-16 22:03:31.647948: I tensorflow/core/common_runtime/gpu/gpu_device.cc:1665] Found device 0 with properties: \n",
      "name: NVIDIA RTX A5000 major: 8 minor: 6 memoryClockRate(GHz): 1.695\n",
      "pciBusID: 0000:61:00.0\n",
      "2022-05-16 22:03:31.647975: I tensorflow/stream_executor/platform/default/dso_loader.cc:49] Successfully opened dynamic library libcudart.so.11.0\n",
      "2022-05-16 22:03:31.648291: I tensorflow/stream_executor/platform/default/dso_loader.cc:49] Successfully opened dynamic library libcublas.so.11\n",
      "2022-05-16 22:03:31.649499: I tensorflow/stream_executor/platform/default/dso_loader.cc:49] Successfully opened dynamic library libcufft.so.10\n",
      "2022-05-16 22:03:31.649816: I tensorflow/stream_executor/platform/default/dso_loader.cc:49] Successfully opened dynamic library libcurand.so.10\n",
      "2022-05-16 22:03:31.650749: I tensorflow/stream_executor/platform/default/dso_loader.cc:49] Successfully opened dynamic library libcublas.so.11\n",
      "2022-05-16 22:03:31.651239: I tensorflow/stream_executor/platform/default/dso_loader.cc:49] Successfully opened dynamic library libcublas.so.11\n",
      "2022-05-16 22:03:31.651876: I tensorflow/stream_executor/platform/default/dso_loader.cc:49] Successfully opened dynamic library libcufft.so.10\n",
      "2022-05-16 22:03:31.652161: I tensorflow/stream_executor/platform/default/dso_loader.cc:49] Successfully opened dynamic library libcurand.so.10\n",
      "2022-05-16 22:03:31.652409: I tensorflow/stream_executor/platform/default/dso_loader.cc:49] Successfully opened dynamic library libcufft.so.10\n",
      "2022-05-16 22:03:31.652709: I tensorflow/stream_executor/platform/default/dso_loader.cc:49] Successfully opened dynamic library libcurand.so.10\n",
      "2022-05-16 22:03:31.653025: I tensorflow/stream_executor/platform/default/dso_loader.cc:49] Successfully opened dynamic library libcusolver.so.11\n",
      "2022-05-16 22:03:31.653769: I tensorflow/stream_executor/platform/default/dso_loader.cc:49] Successfully opened dynamic library libcusparse.so.11\n",
      "2022-05-16 22:03:31.653878: I tensorflow/stream_executor/platform/default/dso_loader.cc:49] Successfully opened dynamic library libcudnn.so.8\n",
      "2022-05-16 22:03:31.654000: I tensorflow/stream_executor/cuda/cuda_gpu_executor.cc:1082] successful NUMA node read from SysFS had negative value (-1), but there must be at least one NUMA node, so returning NUMA node zero\n",
      "2022-05-16 22:03:31.654298: I tensorflow/stream_executor/cuda/cuda_gpu_executor.cc:1082] successful NUMA node read from SysFS had negative value (-1), but there must be at least one NUMA node, so returning NUMA node zero\n",
      "2022-05-16 22:03:31.654510: I tensorflow/core/common_runtime/gpu/gpu_device.cc:1793] Adding visible gpu devices: 0\n",
      "2022-05-16 22:03:31.654528: I tensorflow/stream_executor/platform/default/dso_loader.cc:49] Successfully opened dynamic library libcudart.so.11.0\n",
      "2022-05-16 22:03:31.654651: I tensorflow/stream_executor/platform/default/dso_loader.cc:49] Successfully opened dynamic library libcusolver.so.11\n",
      "2022-05-16 22:03:31.655110: I tensorflow/stream_executor/platform/default/dso_loader.cc:49] Successfully opened dynamic library libcusparse.so.11\n",
      "2022-05-16 22:03:31.655212: I tensorflow/stream_executor/platform/default/dso_loader.cc:49] Successfully opened dynamic library libcudnn.so.8\n",
      "2022-05-16 22:03:31.655319: I tensorflow/stream_executor/cuda/cuda_gpu_executor.cc:1082] successful NUMA node read from SysFS had negative value (-1), but there must be at least one NUMA node, so returning NUMA node zero\n",
      "2022-05-16 22:03:31.655615: I tensorflow/stream_executor/cuda/cuda_gpu_executor.cc:1082] successful NUMA node read from SysFS had negative value (-1), but there must be at least one NUMA node, so returning NUMA node zero\n",
      "2022-05-16 22:03:31.655945: I tensorflow/core/common_runtime/gpu/gpu_device.cc:1793] Adding visible gpu devices: 0\n",
      "2022-05-16 22:03:31.655962: I tensorflow/stream_executor/platform/default/dso_loader.cc:49] Successfully opened dynamic library libcudart.so.11.0\n",
      "2022-05-16 22:03:31.656036: I tensorflow/stream_executor/platform/default/dso_loader.cc:49] Successfully opened dynamic library libcusolver.so.11\n",
      "2022-05-16 22:03:31.656822: I tensorflow/stream_executor/platform/default/dso_loader.cc:49] Successfully opened dynamic library libcusparse.so.11\n",
      "2022-05-16 22:03:31.657011: I tensorflow/stream_executor/platform/default/dso_loader.cc:49] Successfully opened dynamic library libcudnn.so.8\n",
      "2022-05-16 22:03:31.657211: I tensorflow/stream_executor/cuda/cuda_gpu_executor.cc:1082] successful NUMA node read from SysFS had negative value (-1), but there must be at least one NUMA node, so returning NUMA node zero\n",
      "2022-05-16 22:03:31.657720: I tensorflow/stream_executor/cuda/cuda_gpu_executor.cc:1082] successful NUMA node read from SysFS had negative value (-1), but there must be at least one NUMA node, so returning NUMA node zero\n",
      "2022-05-16 22:03:31.657944: I tensorflow/core/common_runtime/gpu/gpu_device.cc:1793] Adding visible gpu devices: 0\n",
      "2022-05-16 22:03:31.657961: I tensorflow/stream_executor/platform/default/dso_loader.cc:49] Successfully opened dynamic library libcudart.so.11.0\n",
      "2022-05-16 22:03:31.663523: I tensorflow/stream_executor/cuda/cuda_gpu_executor.cc:1082] successful NUMA node read from SysFS had negative value (-1), but there must be at least one NUMA node, so returning NUMA node zero\n",
      "2022-05-16 22:03:31.663842: I tensorflow/compiler/xla/service/service.cc:168] XLA service 0x55cb31d5ed40 initialized for platform CUDA (this does not guarantee that XLA will be used). Devices:\n",
      "2022-05-16 22:03:31.663866: I tensorflow/compiler/xla/service/service.cc:176]   StreamExecutor device (0): NVIDIA RTX A5000, Compute Capability 8.6\n",
      "2022-05-16 22:03:31.664107: I tensorflow/stream_executor/cuda/cuda_gpu_executor.cc:1082] successful NUMA node read from SysFS had negative value (-1), but there must be at least one NUMA node, so returning NUMA node zero\n",
      "2022-05-16 22:03:31.664434: I tensorflow/core/common_runtime/gpu/gpu_device.cc:1665] Found device 0 with properties: \n",
      "name: NVIDIA RTX A5000 major: 8 minor: 6 memoryClockRate(GHz): 1.695\n",
      "pciBusID: 0000:61:00.0\n",
      "2022-05-16 22:03:31.664459: I tensorflow/stream_executor/platform/default/dso_loader.cc:49] Successfully opened dynamic library libcudart.so.11.0\n",
      "2022-05-16 22:03:31.667510: I tensorflow/stream_executor/platform/default/dso_loader.cc:49] Successfully opened dynamic library libcublas.so.11\n",
      "2022-05-16 22:03:31.668614: I tensorflow/stream_executor/platform/default/dso_loader.cc:49] Successfully opened dynamic library libcufft.so.10\n",
      "2022-05-16 22:03:31.668903: I tensorflow/stream_executor/platform/default/dso_loader.cc:49] Successfully opened dynamic library libcurand.so.10\n",
      "2022-05-16 22:03:31.671951: I tensorflow/stream_executor/platform/default/dso_loader.cc:49] Successfully opened dynamic library libcusolver.so.11\n",
      "2022-05-16 22:03:31.672704: I tensorflow/stream_executor/platform/default/dso_loader.cc:49] Successfully opened dynamic library libcusparse.so.11\n",
      "2022-05-16 22:03:31.672889: I tensorflow/stream_executor/platform/default/dso_loader.cc:49] Successfully opened dynamic library libcudnn.so.8\n",
      "2022-05-16 22:03:31.673057: I tensorflow/stream_executor/cuda/cuda_gpu_executor.cc:1082] successful NUMA node read from SysFS had negative value (-1), but there must be at least one NUMA node, so returning NUMA node zero\n",
      "2022-05-16 22:03:31.673520: I tensorflow/stream_executor/cuda/cuda_gpu_executor.cc:1082] successful NUMA node read from SysFS had negative value (-1), but there must be at least one NUMA node, so returning NUMA node zero\n",
      "2022-05-16 22:03:31.673812: I tensorflow/core/common_runtime/gpu/gpu_device.cc:1793] Adding visible gpu devices: 0\n",
      "2022-05-16 22:03:31.673841: I tensorflow/stream_executor/platform/default/dso_loader.cc:49] Successfully opened dynamic library libcudart.so.11.0\n"
     ]
    },
    {
     "name": "stdout",
     "output_type": "stream",
     "text": [
      "WARNING:tensorflow:From /home/Dropbox/OPE/Behavioral_OPE_SAC/halfcheetah/T-SNE/../../utils_latentPolicy_sac_lstm_zt_zt1_ensemble.py:384: The name tf.placeholder is deprecated. Please use tf.compat.v1.placeholder instead.\n",
      "\n"
     ]
    },
    {
     "name": "stderr",
     "output_type": "stream",
     "text": [
      "WARNING:tensorflow:From /home/Dropbox/OPE/Behavioral_OPE_SAC/halfcheetah/T-SNE/../../utils_latentPolicy_sac_lstm_zt_zt1_ensemble.py:384: The name tf.placeholder is deprecated. Please use tf.compat.v1.placeholder instead.\n",
      "\n"
     ]
    },
    {
     "name": "stdout",
     "output_type": "stream",
     "text": [
      "WARNING:tensorflow:From /home/Dropbox/OPE/Behavioral_OPE_SAC/halfcheetah/T-SNE/../../utils_latentPolicy_sac_lstm_zt_zt1_ensemble.py:611: The name tf.variable_scope is deprecated. Please use tf.compat.v1.variable_scope instead.\n",
      "\n"
     ]
    },
    {
     "name": "stderr",
     "output_type": "stream",
     "text": [
      "WARNING:tensorflow:From /home/Dropbox/OPE/Behavioral_OPE_SAC/halfcheetah/T-SNE/../../utils_latentPolicy_sac_lstm_zt_zt1_ensemble.py:611: The name tf.variable_scope is deprecated. Please use tf.compat.v1.variable_scope instead.\n",
      "\n"
     ]
    },
    {
     "name": "stdout",
     "output_type": "stream",
     "text": [
      "WARNING:tensorflow:From /home/Dropbox/OPE/Behavioral_OPE_SAC/halfcheetah/T-SNE/../../utils_latentPolicy_sac_lstm_zt_zt1_ensemble.py:384: The name tf.placeholder is deprecated. Please use tf.compat.v1.placeholder instead.\n",
      "\n"
     ]
    },
    {
     "name": "stderr",
     "output_type": "stream",
     "text": [
      "WARNING:tensorflow:From /home/Dropbox/OPE/Behavioral_OPE_SAC/halfcheetah/T-SNE/../../utils_latentPolicy_sac_lstm_zt_zt1_ensemble.py:384: The name tf.placeholder is deprecated. Please use tf.compat.v1.placeholder instead.\n",
      "\n"
     ]
    },
    {
     "name": "stdout",
     "output_type": "stream",
     "text": [
      "WARNING:tensorflow:From /home/Dropbox/OPE/Behavioral_OPE_SAC/halfcheetah/T-SNE/../../utils_latentPolicy_sac_lstm_zt_zt1_ensemble.py:384: The name tf.placeholder is deprecated. Please use tf.compat.v1.placeholder instead.\n",
      "\n"
     ]
    },
    {
     "name": "stderr",
     "output_type": "stream",
     "text": [
      "WARNING:tensorflow:From /home/Dropbox/OPE/Behavioral_OPE_SAC/halfcheetah/T-SNE/../../utils_latentPolicy_sac_lstm_zt_zt1_ensemble.py:384: The name tf.placeholder is deprecated. Please use tf.compat.v1.placeholder instead.\n",
      "\n"
     ]
    },
    {
     "name": "stdout",
     "output_type": "stream",
     "text": [
      "WARNING:tensorflow:From /home/Dropbox/OPE/Behavioral_OPE_SAC/halfcheetah/T-SNE/../../utils_latentPolicy_sac_lstm_zt_zt1_ensemble.py:611: The name tf.variable_scope is deprecated. Please use tf.compat.v1.variable_scope instead.\n",
      "\n"
     ]
    },
    {
     "name": "stderr",
     "output_type": "stream",
     "text": [
      "WARNING:tensorflow:From /home/Dropbox/OPE/Behavioral_OPE_SAC/halfcheetah/T-SNE/../../utils_latentPolicy_sac_lstm_zt_zt1_ensemble.py:611: The name tf.variable_scope is deprecated. Please use tf.compat.v1.variable_scope instead.\n",
      "\n"
     ]
    },
    {
     "name": "stdout",
     "output_type": "stream",
     "text": [
      "WARNING:tensorflow:From /home/Dropbox/OPE/Behavioral_OPE_SAC/halfcheetah/T-SNE/../../utils_latentPolicy_sac_lstm_zt_zt1_ensemble.py:611: The name tf.variable_scope is deprecated. Please use tf.compat.v1.variable_scope instead.\n",
      "\n"
     ]
    },
    {
     "name": "stderr",
     "output_type": "stream",
     "text": [
      "WARNING:tensorflow:From /home/Dropbox/OPE/Behavioral_OPE_SAC/halfcheetah/T-SNE/../../utils_latentPolicy_sac_lstm_zt_zt1_ensemble.py:611: The name tf.variable_scope is deprecated. Please use tf.compat.v1.variable_scope instead.\n",
      "\n"
     ]
    },
    {
     "name": "stdout",
     "output_type": "stream",
     "text": [
      "WARNING:tensorflow:From /home/Dropbox/OPE/Behavioral_OPE_SAC/halfcheetah/T-SNE/../../utils_latentPolicy_sac_lstm_zt_zt1_ensemble.py:384: The name tf.placeholder is deprecated. Please use tf.compat.v1.placeholder instead.\n",
      "\n"
     ]
    },
    {
     "name": "stderr",
     "output_type": "stream",
     "text": [
      "WARNING:tensorflow:From /home/Dropbox/OPE/Behavioral_OPE_SAC/halfcheetah/T-SNE/../../utils_latentPolicy_sac_lstm_zt_zt1_ensemble.py:384: The name tf.placeholder is deprecated. Please use tf.compat.v1.placeholder instead.\n",
      "\n"
     ]
    },
    {
     "name": "stdout",
     "output_type": "stream",
     "text": [
      "WARNING:tensorflow:From /home/Dropbox/OPE/Behavioral_OPE_SAC/halfcheetah/T-SNE/../../utils_latentPolicy_sac_lstm_zt_zt1_ensemble.py:611: The name tf.variable_scope is deprecated. Please use tf.compat.v1.variable_scope instead.\n",
      "\n"
     ]
    },
    {
     "name": "stderr",
     "output_type": "stream",
     "text": [
      "WARNING:tensorflow:From /home/Dropbox/OPE/Behavioral_OPE_SAC/halfcheetah/T-SNE/../../utils_latentPolicy_sac_lstm_zt_zt1_ensemble.py:611: The name tf.variable_scope is deprecated. Please use tf.compat.v1.variable_scope instead.\n",
      "\n"
     ]
    },
    {
     "name": "stdout",
     "output_type": "stream",
     "text": [
      "self.encoder_zt_out_from_st_dist tfp.distributions.MultivariateNormalDiag(\"Encoder_zt_MultivariateNormalDiag\", batch_shape=[?], event_shape=[16], dtype=float32)\n",
      "self.encoder_zt_out_from_st_distself.encoder_zt_out_from_st_sample  self.encoder_zt_out_from_st_distTensor(\"Encoder_zt/Encoder_zt_MultivariateNormalDiag/sample/Encoder_zt_MultivariateNormalDiag_affine_linear_operator/forward/add:0\", shape=(?, 16), dtype=float32)tfp.distributions.MultivariateNormalDiag(\"Encoder_zt_MultivariateNormalDiag\", batch_shape=[?], event_shape=[16], dtype=float32) \n",
      "\n",
      "self.encoder_zt1_out_from_st1_distself.encoder_zt_out_from_st_sampletfp.distributions.MultivariateNormalDiag(\"Encoder_zt_MultivariateNormalDiag\", batch_shape=[?], event_shape=[16], dtype=float32)  \n",
      "Tensor(\"Encoder_zt/Encoder_zt_MultivariateNormalDiag/sample/Encoder_zt_MultivariateNormalDiag_affine_linear_operator/forward/add:0\", shape=(?, 16), dtype=float32)self.encoder_zt_out_from_st_sample\n",
      "tfp.distributions.MultivariateNormalDiag(\"Encoder_zt_MultivariateNormalDiag_1\", batch_shape=[?], event_shape=[16], dtype=float32)self.encoder_zt1_out_from_st1_dist  \n",
      "Tensor(\"Encoder_zt/Encoder_zt_MultivariateNormalDiag/sample/Encoder_zt_MultivariateNormalDiag_affine_linear_operator/forward/add:0\", shape=(?, 16), dtype=float32)tfp.distributions.MultivariateNormalDiag(\"Encoder_zt_MultivariateNormalDiag_1\", batch_shape=[?], event_shape=[16], dtype=float32)self.encoder_zt1_out_from_st1_sample\n",
      "\n",
      "self.encoder_zt_out_from_st_distself.encoder_zt1_out_from_st1_dist self.encoder_zt1_out_from_st1_sample   Tensor(\"Encoder_zt/Encoder_zt_MultivariateNormalDiag_1/sample/Encoder_zt_MultivariateNormalDiag_1_affine_linear_operator/forward/add:0\", shape=(?, 16), dtype=float32)Tensor(\"Encoder_zt/Encoder_zt_MultivariateNormalDiag_1/sample/Encoder_zt_MultivariateNormalDiag_1_affine_linear_operator/forward/add:0\", shape=(?, 16), dtype=float32)tfp.distributions.MultivariateNormalDiag(\"Encoder_zt_MultivariateNormalDiag\", batch_shape=[?], event_shape=[16], dtype=float32)\n",
      "\n",
      "tfp.distributions.MultivariateNormalDiag(\"Encoder_zt_MultivariateNormalDiag_1\", batch_shape=[?], event_shape=[16], dtype=float32)\n",
      "\n",
      "self.encoder_zt_out_from_st_sampleself.encoder_zt1_out_from_st1_sample  Tensor(\"Encoder_zt/Encoder_zt_MultivariateNormalDiag/sample/Encoder_zt_MultivariateNormalDiag_affine_linear_operator/forward/add:0\", shape=(?, 16), dtype=float32)Tensor(\"Encoder_zt/Encoder_zt_MultivariateNormalDiag_1/sample/Encoder_zt_MultivariateNormalDiag_1_affine_linear_operator/forward/add:0\", shape=(?, 16), dtype=float32)\n",
      "\n",
      "self.encoder_zt1_out_from_st1_dist tfp.distributions.MultivariateNormalDiag(\"Encoder_zt_MultivariateNormalDiag_1\", batch_shape=[?], event_shape=[16], dtype=float32)\n",
      "self.encoder_zt1_out_from_st1_sample Tensor(\"Encoder_zt/Encoder_zt_MultivariateNormalDiag_1/sample/Encoder_zt_MultivariateNormalDiag_1_affine_linear_operator/forward/add:0\", shape=(?, 16), dtype=float32)\n",
      "self.encoder_zt1_out_from_zt_dist tfp.distributions.MultivariateNormalDiag(\"Encoder_zt1_1_MultivariateNormalDiag\", batch_shape=[?], event_shape=[16], dtype=float32)\n",
      "self.encoder_zt1_out_from_zt_sample "
     ]
    },
    {
     "name": "stderr",
     "output_type": "stream",
     "text": [
      "2022-05-16 22:03:31.857185: I tensorflow/core/common_runtime/gpu/gpu_device.cc:1206] Device interconnect StreamExecutor with strength 1 edge matrix:\n",
      "2022-05-16 22:03:31.857231: I tensorflow/core/common_runtime/gpu/gpu_device.cc:1212]      0 \n",
      "2022-05-16 22:03:31.857236: I tensorflow/core/common_runtime/gpu/gpu_device.cc:1225] 0:   N \n",
      "2022-05-16 22:03:31.857514: I tensorflow/stream_executor/cuda/cuda_gpu_executor.cc:1082] successful NUMA node read from SysFS had negative value (-1), but there must be at least one NUMA node, so returning NUMA node zero\n",
      "2022-05-16 22:03:31.857800: I tensorflow/stream_executor/cuda/cuda_gpu_executor.cc:1082] successful NUMA node read from SysFS had negative value (-1), but there must be at least one NUMA node, so returning NUMA node zero\n",
      "2022-05-16 22:03:31.858032: I tensorflow/core/common_runtime/gpu/gpu_device.cc:1351] Created TensorFlow device (/job:localhost/replica:0/task:0/device:GPU:0 with 21453 MB memory) -> physical GPU (device: 0, name: NVIDIA RTX A5000, pci bus id: 0000:61:00.0, compute capability: 8.6)\n",
      "2022-05-16 22:03:31.863153: I tensorflow/core/common_runtime/gpu/gpu_device.cc:1206] Device interconnect StreamExecutor with strength 1 edge matrix:\n",
      "2022-05-16 22:03:31.863199: I tensorflow/core/common_runtime/gpu/gpu_device.cc:1212]      0 \n",
      "2022-05-16 22:03:31.863204: I tensorflow/core/common_runtime/gpu/gpu_device.cc:1225] 0:   N \n",
      "2022-05-16 22:03:31.863469: I tensorflow/stream_executor/cuda/cuda_gpu_executor.cc:1082] successful NUMA node read from SysFS had negative value (-1), but there must be at least one NUMA node, so returning NUMA node zero\n",
      "2022-05-16 22:03:31.863550: I tensorflow/core/common_runtime/gpu/gpu_device.cc:1206] Device interconnect StreamExecutor with strength 1 edge matrix:\n",
      "2022-05-16 22:03:31.863588: I tensorflow/core/common_runtime/gpu/gpu_device.cc:1212]      0 \n",
      "2022-05-16 22:03:31.863594: I tensorflow/core/common_runtime/gpu/gpu_device.cc:1225] 0:   N \n",
      "2022-05-16 22:03:31.863895: I tensorflow/stream_executor/cuda/cuda_gpu_executor.cc:1082] successful NUMA node read from SysFS had negative value (-1), but there must be at least one NUMA node, so returning NUMA node zero\n",
      "2022-05-16 22:03:31.863919: I tensorflow/stream_executor/cuda/cuda_gpu_executor.cc:1082] successful NUMA node read from SysFS had negative value (-1), but there must be at least one NUMA node, so returning NUMA node zero\n",
      "2022-05-16 22:03:31.864465: I tensorflow/core/common_runtime/gpu/gpu_device.cc:1351] Created TensorFlow device (/job:localhost/replica:0/task:0/device:GPU:0 with 21445 MB memory) -> physical GPU (device: 0, name: NVIDIA RTX A5000, pci bus id: 0000:61:00.0, compute capability: 8.6)\n",
      "2022-05-16 22:03:31.864475: I tensorflow/stream_executor/cuda/cuda_gpu_executor.cc:1082] successful NUMA node read from SysFS had negative value (-1), but there must be at least one NUMA node, so returning NUMA node zero\n",
      "2022-05-16 22:03:31.864844: I tensorflow/core/common_runtime/gpu/gpu_device.cc:1351] Created TensorFlow device (/job:localhost/replica:0/task:0/device:GPU:0 with 21445 MB memory) -> physical GPU (device: 0, name: NVIDIA RTX A5000, pci bus id: 0000:61:00.0, compute capability: 8.6)\n",
      "2022-05-16 22:03:31.871874: I tensorflow/core/common_runtime/gpu/gpu_device.cc:1206] Device interconnect StreamExecutor with strength 1 edge matrix:\n",
      "2022-05-16 22:03:31.871915: I tensorflow/core/common_runtime/gpu/gpu_device.cc:1212]      0 \n",
      "2022-05-16 22:03:31.871921: I tensorflow/core/common_runtime/gpu/gpu_device.cc:1225] 0:   N \n",
      "2022-05-16 22:03:31.872186: I tensorflow/stream_executor/cuda/cuda_gpu_executor.cc:1082] successful NUMA node read from SysFS had negative value (-1), but there must be at least one NUMA node, so returning NUMA node zero\n",
      "2022-05-16 22:03:31.872483: I tensorflow/stream_executor/cuda/cuda_gpu_executor.cc:1082] successful NUMA node read from SysFS had negative value (-1), but there must be at least one NUMA node, so returning NUMA node zero\n",
      "2022-05-16 22:03:31.872724: I tensorflow/core/common_runtime/gpu/gpu_device.cc:1351] Created TensorFlow device (/job:localhost/replica:0/task:0/device:GPU:0 with 21437 MB memory) -> physical GPU (device: 0, name: NVIDIA RTX A5000, pci bus id: 0000:61:00.0, compute capability: 8.6)\n"
     ]
    },
    {
     "name": "stdout",
     "output_type": "stream",
     "text": [
      "self.encoder_zt1_out_from_zt_distTensor(\"Encoder_zt1_1/Encoder_zt1_1_MultivariateNormalDiag/sample/Encoder_zt1_1_MultivariateNormalDiag_affine_linear_operator/forward/add:0\", shape=(?, 16), dtype=float32) \n",
      "self.encoder_lstm_statetfp.distributions.MultivariateNormalDiag(\"Encoder_zt1_1_MultivariateNormalDiag\", batch_shape=[?], event_shape=[16], dtype=float32) \n",
      "Tensor(\"Encoder_zt1/concat_1:0\", shape=(?, 128), dtype=float32)self.encoder_zt1_out_from_zt_sample\n",
      " self.encoder_zt1_out_from_zt_distTensor(\"Encoder_zt1_1/Encoder_zt1_1_MultivariateNormalDiag/sample/Encoder_zt1_1_MultivariateNormalDiag_affine_linear_operator/forward/add:0\", shape=(?, 16), dtype=float32) \n",
      "tfp.distributions.MultivariateNormalDiag(\"Encoder_zt1_1_MultivariateNormalDiag\", batch_shape=[?], event_shape=[16], dtype=float32)self.encoder_lstm_state\n",
      " self.encoder_zt1_out_from_zt_sampleTensor(\"Encoder_zt1/concat_1:0\", shape=(?, 128), dtype=float32) \n",
      "Tensor(\"Encoder_zt1_1/Encoder_zt1_1_MultivariateNormalDiag/sample/Encoder_zt1_1_MultivariateNormalDiag_affine_linear_operator/forward/add:0\", shape=(?, 16), dtype=float32)self.encoder_zt1_out_from_zt_dist\n",
      " self.encoder_lstm_state tfp.distributions.MultivariateNormalDiag(\"Encoder_zt1_1_MultivariateNormalDiag\", batch_shape=[?], event_shape=[16], dtype=float32)\n",
      "Tensor(\"Encoder_zt1/concat_1:0\", shape=(?, 128), dtype=float32)self.encoder_zt1_out_from_zt_sample\n",
      " Tensor(\"Encoder_zt1_1/Encoder_zt1_1_MultivariateNormalDiag/sample/Encoder_zt1_1_MultivariateNormalDiag_affine_linear_operator/forward/add:0\", shape=(?, 16), dtype=float32)\n",
      "self.encoder_lstm_state Tensor(\"Encoder_zt1/concat_1:0\", shape=(?, 128), dtype=float32)\n",
      "new_lstm_state Tensor(\"Decoder_zt1_0/concat_1:0\", shape=(?, 128), dtype=float32)\n",
      "new_lstm_state Tensor(\"Decoder_zt1_0/concat_1:0\", shape=(?, 128), dtype=float32)\n",
      "new_lstm_state Tensor(\"Decoder_zt1_0/concat_1:0\", shape=(?, 128), dtype=float32)\n",
      "new_lstm_state Tensor(\"Decoder_zt1_0/concat_1:0\", shape=(?, 128), dtype=float32)\n",
      "self.decoder_zt1_sample Tensor(\"Decoder_zt1_0/Decoder_zt1_0_MultivariateNormalDiag/sample/Decoder_zt1_0_MultivariateNormalDiag_affine_linear_operator/forward/add:0\", shape=(?, 16), dtype=float32)\n",
      "self.decoder_zt1_dist self.decoder_zt1_sampletfp.distributions.MultivariateNormalDiag(\"Decoder_zt1_0_MultivariateNormalDiag\", batch_shape=[?], event_shape=[16], dtype=float32) \n",
      "Tensor(\"Decoder_zt1_0/Decoder_zt1_0_MultivariateNormalDiag/sample/Decoder_zt1_0_MultivariateNormalDiag_affine_linear_operator/forward/add:0\", shape=(?, 16), dtype=float32)self.decoder_lstm_state\n",
      " self.decoder_zt1_distTensor(\"Decoder_zt1_0/map_lstm_states/out/Relu:0\", shape=(?, 128), dtype=float32) \n",
      "tfp.distributions.MultivariateNormalDiag(\"Decoder_zt1_0_MultivariateNormalDiag\", batch_shape=[?], event_shape=[16], dtype=float32)\n",
      "self.decoder_lstm_stateself.decoder_zt1_sample  Tensor(\"Decoder_zt1_0/map_lstm_states/out/Relu:0\", shape=(?, 128), dtype=float32)Tensor(\"Decoder_zt1_0/Decoder_zt1_0_MultivariateNormalDiag/sample/Decoder_zt1_0_MultivariateNormalDiag_affine_linear_operator/forward/add:0\", shape=(?, 16), dtype=float32)\n",
      "self.decoder_zt1_sample\n",
      " self.decoder_zt1_distTensor(\"Decoder_zt1_0/Decoder_zt1_0_MultivariateNormalDiag/sample/Decoder_zt1_0_MultivariateNormalDiag_affine_linear_operator/forward/add:0\", shape=(?, 16), dtype=float32) \n",
      "self.decoder_zt1_disttfp.distributions.MultivariateNormalDiag(\"Decoder_zt1_0_MultivariateNormalDiag\", batch_shape=[?], event_shape=[16], dtype=float32) \n",
      "self.decoder_lstm_statetfp.distributions.MultivariateNormalDiag(\"Decoder_zt1_0_MultivariateNormalDiag\", batch_shape=[?], event_shape=[16], dtype=float32) \n",
      "Tensor(\"Decoder_zt1_0/map_lstm_states/out/Relu:0\", shape=(?, 128), dtype=float32)self.decoder_lstm_state\n",
      " Tensor(\"Decoder_zt1_0/map_lstm_states/out/Relu:0\", shape=(?, 128), dtype=float32)\n",
      "self.decoder_state_log_prob Tensor(\"Decoder_state_0_1/Decoder_state_0_1_MultivariateNormalDiag_1/log_prob/add:0\", shape=(?,), dtype=float32)\n",
      "self.decoder_state_sample Tensor(\"Decoder_state_0_1/Decoder_state_0_1_MultivariateNormalDiag/sample/Decoder_state_0_1_MultivariateNormalDiag_affine_linear_operator/forward/add:0\", shape=(?, 17), dtype=float32)\n",
      "self.decoder_r_diss tfp.distributions.MultivariateNormalDiag(\"Decoder_reward_0_MultivariateNormalDiag\", batch_shape=[?], event_shape=[1], dtype=float32)\n",
      "self.decoder_r_sampleself.decoder_state_log_prob  Tensor(\"Decoder_reward_0/Decoder_reward_0_MultivariateNormalDiag/sample/Decoder_reward_0_MultivariateNormalDiag_affine_linear_operator/forward/add:0\", shape=(?, 1), dtype=float32)Tensor(\"Decoder_state_0_1/Decoder_state_0_1_MultivariateNormalDiag_1/log_prob/add:0\", shape=(?,), dtype=float32)\n",
      "\n",
      "self.decoder_state_sampleself.decoder_state_log_probself.decoder_state_log_prob   Tensor(\"Decoder_state_0_1/Decoder_state_0_1_MultivariateNormalDiag/sample/Decoder_state_0_1_MultivariateNormalDiag_affine_linear_operator/forward/add:0\", shape=(?, 17), dtype=float32)Tensor(\"Decoder_state_0_1/Decoder_state_0_1_MultivariateNormalDiag_1/log_prob/add:0\", shape=(?,), dtype=float32)Tensor(\"Decoder_state_0_1/Decoder_state_0_1_MultivariateNormalDiag_1/log_prob/add:0\", shape=(?,), dtype=float32)\n",
      "\n",
      "\n",
      "self.decoder_r_dissself.decoder_state_sampleself.decoder_state_sample   tfp.distributions.MultivariateNormalDiag(\"Decoder_reward_0_MultivariateNormalDiag\", batch_shape=[?], event_shape=[1], dtype=float32)Tensor(\"Decoder_state_0_1/Decoder_state_0_1_MultivariateNormalDiag/sample/Decoder_state_0_1_MultivariateNormalDiag_affine_linear_operator/forward/add:0\", shape=(?, 17), dtype=float32)Tensor(\"Decoder_state_0_1/Decoder_state_0_1_MultivariateNormalDiag/sample/Decoder_state_0_1_MultivariateNormalDiag_affine_linear_operator/forward/add:0\", shape=(?, 17), dtype=float32)\n",
      "\n",
      "self.decoder_r_sample\n",
      "self.decoder_r_diss  self.decoder_r_dissTensor(\"Decoder_reward_0/Decoder_reward_0_MultivariateNormalDiag/sample/Decoder_reward_0_MultivariateNormalDiag_affine_linear_operator/forward/add:0\", shape=(?, 1), dtype=float32) \n",
      "tfp.distributions.MultivariateNormalDiag(\"Decoder_reward_0_MultivariateNormalDiag\", batch_shape=[?], event_shape=[1], dtype=float32)\n",
      "self.decoder_r_sampletfp.distributions.MultivariateNormalDiag(\"Decoder_reward_0_MultivariateNormalDiag\", batch_shape=[?], event_shape=[1], dtype=float32) \n",
      "Tensor(\"Decoder_reward_0/Decoder_reward_0_MultivariateNormalDiag/sample/Decoder_reward_0_MultivariateNormalDiag_affine_linear_operator/forward/add:0\", shape=(?, 1), dtype=float32)self.decoder_r_sample\n",
      " Tensor(\"Decoder_reward_0/Decoder_reward_0_MultivariateNormalDiag/sample/Decoder_reward_0_MultivariateNormalDiag_affine_linear_operator/forward/add:0\", shape=(?, 1), dtype=float32)\n",
      "new_lstm_state Tensor(\"Decoder_zt1_1/concat_1:0\", shape=(?, 128), dtype=float32)\n",
      "new_lstm_state Tensor(\"Decoder_zt1_1/concat_1:0\", shape=(?, 128), dtype=float32)\n",
      "new_lstm_state Tensor(\"Decoder_zt1_1/concat_1:0\", shape=(?, 128), dtype=float32)\n",
      "new_lstm_state Tensor(\"Decoder_zt1_1/concat_1:0\", shape=(?, 128), dtype=float32)\n",
      "self.decoder_zt1_sample Tensor(\"Decoder_zt1_1/Decoder_zt1_1_MultivariateNormalDiag/sample/Decoder_zt1_1_MultivariateNormalDiag_affine_linear_operator/forward/add:0\", shape=(?, 16), dtype=float32)\n",
      "self.decoder_zt1_dist tfp.distributions.MultivariateNormalDiag(\"Decoder_zt1_1_MultivariateNormalDiag\", batch_shape=[?], event_shape=[16], dtype=float32)\n",
      "self.decoder_lstm_state Tensor(\"Decoder_zt1_1/map_lstm_states/out/Relu:0\", shape=(?, 128), dtype=float32)\n",
      "self.decoder_zt1_sample Tensor(\"Decoder_zt1_1/Decoder_zt1_1_MultivariateNormalDiag/sample/Decoder_zt1_1_MultivariateNormalDiag_affine_linear_operator/forward/add:0\", shape=(?, 16), dtype=float32)\n",
      "self.decoder_zt1_dist tfp.distributions.MultivariateNormalDiag(\"Decoder_zt1_1_MultivariateNormalDiag\", batch_shape=[?], event_shape=[16], dtype=float32)\n",
      "self.decoder_lstm_stateself.decoder_zt1_sample  Tensor(\"Decoder_zt1_1/map_lstm_states/out/Relu:0\", shape=(?, 128), dtype=float32)Tensor(\"Decoder_zt1_1/Decoder_zt1_1_MultivariateNormalDiag/sample/Decoder_zt1_1_MultivariateNormalDiag_affine_linear_operator/forward/add:0\", shape=(?, 16), dtype=float32)\n",
      "\n"
     ]
    },
    {
     "name": "stdout",
     "output_type": "stream",
     "text": [
      "self.decoder_zt1_dist tfp.distributions.MultivariateNormalDiag(\"Decoder_zt1_1_MultivariateNormalDiag\", batch_shape=[?], event_shape=[16], dtype=float32)self.decoder_zt1_sample\n",
      " self.decoder_lstm_stateTensor(\"Decoder_zt1_1/Decoder_zt1_1_MultivariateNormalDiag/sample/Decoder_zt1_1_MultivariateNormalDiag_affine_linear_operator/forward/add:0\", shape=(?, 16), dtype=float32) \n",
      "Tensor(\"Decoder_zt1_1/map_lstm_states/out/Relu:0\", shape=(?, 128), dtype=float32)self.decoder_zt1_dist\n",
      " tfp.distributions.MultivariateNormalDiag(\"Decoder_zt1_1_MultivariateNormalDiag\", batch_shape=[?], event_shape=[16], dtype=float32)\n",
      "self.decoder_lstm_state Tensor(\"Decoder_zt1_1/map_lstm_states/out/Relu:0\", shape=(?, 128), dtype=float32)\n",
      "self.decoder_state_log_prob Tensor(\"Decoder_state_1_1/Decoder_state_1_1_MultivariateNormalDiag_1/log_prob/add:0\", shape=(?,), dtype=float32)\n",
      "self.decoder_state_sample Tensor(\"Decoder_state_1_1/Decoder_state_1_1_MultivariateNormalDiag/sample/Decoder_state_1_1_MultivariateNormalDiag_affine_linear_operator/forward/add:0\", shape=(?, 17), dtype=float32)\n",
      "self.decoder_r_dissself.decoder_state_log_prob  tfp.distributions.MultivariateNormalDiag(\"Decoder_reward_1_MultivariateNormalDiag\", batch_shape=[?], event_shape=[1], dtype=float32)Tensor(\"Decoder_state_1_1/Decoder_state_1_1_MultivariateNormalDiag_1/log_prob/add:0\", shape=(?,), dtype=float32)\n",
      "\n",
      "self.decoder_r_sampleself.decoder_state_sample  Tensor(\"Decoder_reward_1/Decoder_reward_1_MultivariateNormalDiag/sample/Decoder_reward_1_MultivariateNormalDiag_affine_linear_operator/forward/add:0\", shape=(?, 1), dtype=float32)Tensor(\"Decoder_state_1_1/Decoder_state_1_1_MultivariateNormalDiag/sample/Decoder_state_1_1_MultivariateNormalDiag_affine_linear_operator/forward/add:0\", shape=(?, 17), dtype=float32)\n",
      "\n",
      "self.decoder_r_diss tfp.distributions.MultivariateNormalDiag(\"Decoder_reward_1_MultivariateNormalDiag\", batch_shape=[?], event_shape=[1], dtype=float32)self.decoder_state_log_prob\n",
      " self.decoder_r_sampleTensor(\"Decoder_state_1_1/Decoder_state_1_1_MultivariateNormalDiag_1/log_prob/add:0\", shape=(?,), dtype=float32) \n",
      "Tensor(\"Decoder_reward_1/Decoder_reward_1_MultivariateNormalDiag/sample/Decoder_reward_1_MultivariateNormalDiag_affine_linear_operator/forward/add:0\", shape=(?, 1), dtype=float32)self.decoder_state_sampleself.decoder_state_log_prob\n",
      "  Tensor(\"Decoder_state_1_1/Decoder_state_1_1_MultivariateNormalDiag_1/log_prob/add:0\", shape=(?,), dtype=float32)Tensor(\"Decoder_state_1_1/Decoder_state_1_1_MultivariateNormalDiag/sample/Decoder_state_1_1_MultivariateNormalDiag_affine_linear_operator/forward/add:0\", shape=(?, 17), dtype=float32)\n",
      "\n",
      "self.decoder_state_sampleself.decoder_r_diss  Tensor(\"Decoder_state_1_1/Decoder_state_1_1_MultivariateNormalDiag/sample/Decoder_state_1_1_MultivariateNormalDiag_affine_linear_operator/forward/add:0\", shape=(?, 17), dtype=float32)\n",
      "self.decoder_r_disstfp.distributions.MultivariateNormalDiag(\"Decoder_reward_1_MultivariateNormalDiag\", batch_shape=[?], event_shape=[1], dtype=float32) \n",
      "self.decoder_r_sampletfp.distributions.MultivariateNormalDiag(\"Decoder_reward_1_MultivariateNormalDiag\", batch_shape=[?], event_shape=[1], dtype=float32) \n",
      "Tensor(\"Decoder_reward_1/Decoder_reward_1_MultivariateNormalDiag/sample/Decoder_reward_1_MultivariateNormalDiag_affine_linear_operator/forward/add:0\", shape=(?, 1), dtype=float32)self.decoder_r_sample\n",
      " Tensor(\"Decoder_reward_1/Decoder_reward_1_MultivariateNormalDiag/sample/Decoder_reward_1_MultivariateNormalDiag_affine_linear_operator/forward/add:0\", shape=(?, 1), dtype=float32)\n",
      "new_lstm_state Tensor(\"Decoder_zt1_2/concat_1:0\", shape=(?, 128), dtype=float32)\n",
      "new_lstm_state Tensor(\"Decoder_zt1_2/concat_1:0\", shape=(?, 128), dtype=float32)\n",
      "new_lstm_state new_lstm_stateTensor(\"Decoder_zt1_2/concat_1:0\", shape=(?, 128), dtype=float32) \n",
      "Tensor(\"Decoder_zt1_2/concat_1:0\", shape=(?, 128), dtype=float32)\n",
      "self.decoder_zt1_sample Tensor(\"Decoder_zt1_2/Decoder_zt1_2_MultivariateNormalDiag/sample/Decoder_zt1_2_MultivariateNormalDiag_affine_linear_operator/forward/add:0\", shape=(?, 16), dtype=float32)\n",
      "self.decoder_zt1_dist tfp.distributions.MultivariateNormalDiag(\"Decoder_zt1_2_MultivariateNormalDiag\", batch_shape=[?], event_shape=[16], dtype=float32)\n",
      "self.decoder_lstm_stateself.decoder_zt1_sample  Tensor(\"Decoder_zt1_2/map_lstm_states/out/Relu:0\", shape=(?, 128), dtype=float32)Tensor(\"Decoder_zt1_2/Decoder_zt1_2_MultivariateNormalDiag/sample/Decoder_zt1_2_MultivariateNormalDiag_affine_linear_operator/forward/add:0\", shape=(?, 16), dtype=float32)\n",
      "\n",
      "self.decoder_zt1_dist tfp.distributions.MultivariateNormalDiag(\"Decoder_zt1_2_MultivariateNormalDiag\", batch_shape=[?], event_shape=[16], dtype=float32)\n",
      "self.decoder_lstm_state Tensor(\"Decoder_zt1_2/map_lstm_states/out/Relu:0\", shape=(?, 128), dtype=float32)\n",
      "self.decoder_zt1_sampleself.decoder_zt1_sample  Tensor(\"Decoder_zt1_2/Decoder_zt1_2_MultivariateNormalDiag/sample/Decoder_zt1_2_MultivariateNormalDiag_affine_linear_operator/forward/add:0\", shape=(?, 16), dtype=float32)Tensor(\"Decoder_zt1_2/Decoder_zt1_2_MultivariateNormalDiag/sample/Decoder_zt1_2_MultivariateNormalDiag_affine_linear_operator/forward/add:0\", shape=(?, 16), dtype=float32)\n",
      "\n",
      "self.decoder_zt1_distself.decoder_zt1_dist  tfp.distributions.MultivariateNormalDiag(\"Decoder_zt1_2_MultivariateNormalDiag\", batch_shape=[?], event_shape=[16], dtype=float32)tfp.distributions.MultivariateNormalDiag(\"Decoder_zt1_2_MultivariateNormalDiag\", batch_shape=[?], event_shape=[16], dtype=float32)\n",
      "\n",
      "self.decoder_lstm_stateself.decoder_lstm_state  Tensor(\"Decoder_zt1_2/map_lstm_states/out/Relu:0\", shape=(?, 128), dtype=float32)Tensor(\"Decoder_zt1_2/map_lstm_states/out/Relu:0\", shape=(?, 128), dtype=float32)\n",
      "\n",
      "self.decoder_state_log_prob Tensor(\"Decoder_state_2_1/Decoder_state_2_1_MultivariateNormalDiag_1/log_prob/add:0\", shape=(?,), dtype=float32)\n",
      "self.decoder_state_sample Tensor(\"Decoder_state_2_1/Decoder_state_2_1_MultivariateNormalDiag/sample/Decoder_state_2_1_MultivariateNormalDiag_affine_linear_operator/forward/add:0\", shape=(?, 17), dtype=float32)\n",
      "self.decoder_r_diss self.decoder_state_log_prob tfp.distributions.MultivariateNormalDiag(\"Decoder_reward_2_MultivariateNormalDiag\", batch_shape=[?], event_shape=[1], dtype=float32)Tensor(\"Decoder_state_2_1/Decoder_state_2_1_MultivariateNormalDiag_1/log_prob/add:0\", shape=(?,), dtype=float32)\n",
      "\n",
      "self.decoder_r_sampleself.decoder_state_sample  Tensor(\"Decoder_reward_2/Decoder_reward_2_MultivariateNormalDiag/sample/Decoder_reward_2_MultivariateNormalDiag_affine_linear_operator/forward/add:0\", shape=(?, 1), dtype=float32)Tensor(\"Decoder_state_2_1/Decoder_state_2_1_MultivariateNormalDiag/sample/Decoder_state_2_1_MultivariateNormalDiag_affine_linear_operator/forward/add:0\", shape=(?, 17), dtype=float32)\n",
      "\n",
      "self.decoder_r_diss tfp.distributions.MultivariateNormalDiag(\"Decoder_reward_2_MultivariateNormalDiag\", batch_shape=[?], event_shape=[1], dtype=float32)\n",
      "self.decoder_r_sampleself.decoder_state_log_probself.decoder_state_log_prob   Tensor(\"Decoder_reward_2/Decoder_reward_2_MultivariateNormalDiag/sample/Decoder_reward_2_MultivariateNormalDiag_affine_linear_operator/forward/add:0\", shape=(?, 1), dtype=float32)Tensor(\"Decoder_state_2_1/Decoder_state_2_1_MultivariateNormalDiag_1/log_prob/add:0\", shape=(?,), dtype=float32)Tensor(\"Decoder_state_2_1/Decoder_state_2_1_MultivariateNormalDiag_1/log_prob/add:0\", shape=(?,), dtype=float32)\n",
      "\n",
      "\n",
      "self.decoder_state_sample self.decoder_state_sampleTensor(\"Decoder_state_2_1/Decoder_state_2_1_MultivariateNormalDiag/sample/Decoder_state_2_1_MultivariateNormalDiag_affine_linear_operator/forward/add:0\", shape=(?, 17), dtype=float32) \n",
      "self.decoder_r_dissTensor(\"Decoder_state_2_1/Decoder_state_2_1_MultivariateNormalDiag/sample/Decoder_state_2_1_MultivariateNormalDiag_affine_linear_operator/forward/add:0\", shape=(?, 17), dtype=float32) \n",
      "tfp.distributions.MultivariateNormalDiag(\"Decoder_reward_2_MultivariateNormalDiag\", batch_shape=[?], event_shape=[1], dtype=float32)self.decoder_r_diss\n"
     ]
    },
    {
     "name": "stdout",
     "output_type": "stream",
     "text": [
      " self.decoder_r_sample Tensor(\"Decoder_reward_2/Decoder_reward_2_MultivariateNormalDiag/sample/Decoder_reward_2_MultivariateNormalDiag_affine_linear_operator/forward/add:0\", shape=(?, 1), dtype=float32)tfp.distributions.MultivariateNormalDiag(\"Decoder_reward_2_MultivariateNormalDiag\", batch_shape=[?], event_shape=[1], dtype=float32)\n",
      "\n",
      "self.decoder_r_sample Tensor(\"Decoder_reward_2/Decoder_reward_2_MultivariateNormalDiag/sample/Decoder_reward_2_MultivariateNormalDiag_affine_linear_operator/forward/add:0\", shape=(?, 1), dtype=float32)\n",
      "new_lstm_state Tensor(\"Decoder_zt1_3/concat_1:0\", shape=(?, 128), dtype=float32)\n",
      "new_lstm_state Tensor(\"Decoder_zt1_3/concat_1:0\", shape=(?, 128), dtype=float32)\n",
      "new_lstm_state Tensor(\"Decoder_zt1_3/concat_1:0\", shape=(?, 128), dtype=float32)\n",
      "new_lstm_state Tensor(\"Decoder_zt1_3/concat_1:0\", shape=(?, 128), dtype=float32)\n",
      "self.decoder_zt1_sample Tensor(\"Decoder_zt1_3/Decoder_zt1_3_MultivariateNormalDiag/sample/Decoder_zt1_3_MultivariateNormalDiag_affine_linear_operator/forward/add:0\", shape=(?, 16), dtype=float32)\n",
      "self.decoder_zt1_dist tfp.distributions.MultivariateNormalDiag(\"Decoder_zt1_3_MultivariateNormalDiag\", batch_shape=[?], event_shape=[16], dtype=float32)\n",
      "self.decoder_lstm_state self.decoder_zt1_sampleTensor(\"Decoder_zt1_3/map_lstm_states/out/Relu:0\", shape=(?, 128), dtype=float32) \n",
      "Tensor(\"Decoder_zt1_3/Decoder_zt1_3_MultivariateNormalDiag/sample/Decoder_zt1_3_MultivariateNormalDiag_affine_linear_operator/forward/add:0\", shape=(?, 16), dtype=float32)\n",
      "self.decoder_zt1_dist tfp.distributions.MultivariateNormalDiag(\"Decoder_zt1_3_MultivariateNormalDiag\", batch_shape=[?], event_shape=[16], dtype=float32)\n",
      "self.decoder_lstm_state Tensor(\"Decoder_zt1_3/map_lstm_states/out/Relu:0\", shape=(?, 128), dtype=float32)self.decoder_zt1_sample\n",
      " Tensor(\"Decoder_zt1_3/Decoder_zt1_3_MultivariateNormalDiag/sample/Decoder_zt1_3_MultivariateNormalDiag_affine_linear_operator/forward/add:0\", shape=(?, 16), dtype=float32)\n",
      "self.decoder_zt1_dist tfp.distributions.MultivariateNormalDiag(\"Decoder_zt1_3_MultivariateNormalDiag\", batch_shape=[?], event_shape=[16], dtype=float32)\n",
      "self.decoder_lstm_state self.decoder_zt1_sampleTensor(\"Decoder_zt1_3/map_lstm_states/out/Relu:0\", shape=(?, 128), dtype=float32) \n",
      "Tensor(\"Decoder_zt1_3/Decoder_zt1_3_MultivariateNormalDiag/sample/Decoder_zt1_3_MultivariateNormalDiag_affine_linear_operator/forward/add:0\", shape=(?, 16), dtype=float32)\n",
      "self.decoder_zt1_dist tfp.distributions.MultivariateNormalDiag(\"Decoder_zt1_3_MultivariateNormalDiag\", batch_shape=[?], event_shape=[16], dtype=float32)\n",
      "self.decoder_lstm_state Tensor(\"Decoder_zt1_3/map_lstm_states/out/Relu:0\", shape=(?, 128), dtype=float32)\n",
      "self.decoder_state_log_prob Tensor(\"Decoder_state_3_1/Decoder_state_3_1_MultivariateNormalDiag_1/log_prob/add:0\", shape=(?,), dtype=float32)\n",
      "self.decoder_state_sample Tensor(\"Decoder_state_3_1/Decoder_state_3_1_MultivariateNormalDiag/sample/Decoder_state_3_1_MultivariateNormalDiag_affine_linear_operator/forward/add:0\", shape=(?, 17), dtype=float32)\n",
      "self.decoder_r_diss self.decoder_state_log_prob tfp.distributions.MultivariateNormalDiag(\"Decoder_reward_3_MultivariateNormalDiag\", batch_shape=[?], event_shape=[1], dtype=float32)Tensor(\"Decoder_state_3_1/Decoder_state_3_1_MultivariateNormalDiag_1/log_prob/add:0\", shape=(?,), dtype=float32)\n",
      "\n",
      "self.decoder_r_sampleself.decoder_state_sample  Tensor(\"Decoder_reward_3/Decoder_reward_3_MultivariateNormalDiag/sample/Decoder_reward_3_MultivariateNormalDiag_affine_linear_operator/forward/add:0\", shape=(?, 1), dtype=float32)Tensor(\"Decoder_state_3_1/Decoder_state_3_1_MultivariateNormalDiag/sample/Decoder_state_3_1_MultivariateNormalDiag_affine_linear_operator/forward/add:0\", shape=(?, 17), dtype=float32)\n",
      "\n",
      "self.decoder_r_dissself.decoder_state_log_prob  tfp.distributions.MultivariateNormalDiag(\"Decoder_reward_3_MultivariateNormalDiag\", batch_shape=[?], event_shape=[1], dtype=float32)Tensor(\"Decoder_state_3_1/Decoder_state_3_1_MultivariateNormalDiag_1/log_prob/add:0\", shape=(?,), dtype=float32)\n",
      "\n",
      "self.decoder_r_sampleself.decoder_state_sample  Tensor(\"Decoder_reward_3/Decoder_reward_3_MultivariateNormalDiag/sample/Decoder_reward_3_MultivariateNormalDiag_affine_linear_operator/forward/add:0\", shape=(?, 1), dtype=float32)Tensor(\"Decoder_state_3_1/Decoder_state_3_1_MultivariateNormalDiag/sample/Decoder_state_3_1_MultivariateNormalDiag_affine_linear_operator/forward/add:0\", shape=(?, 17), dtype=float32)\n",
      "\n",
      "self.decoder_r_dissself.decoder_state_log_prob  tfp.distributions.MultivariateNormalDiag(\"Decoder_reward_3_MultivariateNormalDiag\", batch_shape=[?], event_shape=[1], dtype=float32)Tensor(\"Decoder_state_3_1/Decoder_state_3_1_MultivariateNormalDiag_1/log_prob/add:0\", shape=(?,), dtype=float32)\n",
      "\n",
      "self.decoder_r_sampleself.decoder_state_sample  Tensor(\"Decoder_reward_3/Decoder_reward_3_MultivariateNormalDiag/sample/Decoder_reward_3_MultivariateNormalDiag_affine_linear_operator/forward/add:0\", shape=(?, 1), dtype=float32)Tensor(\"Decoder_state_3_1/Decoder_state_3_1_MultivariateNormalDiag/sample/Decoder_state_3_1_MultivariateNormalDiag_affine_linear_operator/forward/add:0\", shape=(?, 17), dtype=float32)\n",
      "\n",
      "self.decoder_r_diss tfp.distributions.MultivariateNormalDiag(\"Decoder_reward_3_MultivariateNormalDiag\", batch_shape=[?], event_shape=[1], dtype=float32)\n",
      "self.decoder_r_sample Tensor(\"Decoder_reward_3/Decoder_reward_3_MultivariateNormalDiag/sample/Decoder_reward_3_MultivariateNormalDiag_affine_linear_operator/forward/add:0\", shape=(?, 1), dtype=float32)\n",
      "new_lstm_state Tensor(\"Decoder_zt1_4/concat_1:0\", shape=(?, 128), dtype=float32)\n",
      "new_lstm_state Tensor(\"Decoder_zt1_4/concat_1:0\", shape=(?, 128), dtype=float32)\n",
      "new_lstm_state Tensor(\"Decoder_zt1_4/concat_1:0\", shape=(?, 128), dtype=float32)\n",
      "new_lstm_state Tensor(\"Decoder_zt1_4/concat_1:0\", shape=(?, 128), dtype=float32)\n",
      "self.decoder_zt1_sample Tensor(\"Decoder_zt1_4/Decoder_zt1_4_MultivariateNormalDiag/sample/Decoder_zt1_4_MultivariateNormalDiag_affine_linear_operator/forward/add:0\", shape=(?, 16), dtype=float32)\n",
      "self.decoder_zt1_distself.decoder_zt1_sample  Tensor(\"Decoder_zt1_4/Decoder_zt1_4_MultivariateNormalDiag/sample/Decoder_zt1_4_MultivariateNormalDiag_affine_linear_operator/forward/add:0\", shape=(?, 16), dtype=float32)tfp.distributions.MultivariateNormalDiag(\"Decoder_zt1_4_MultivariateNormalDiag\", batch_shape=[?], event_shape=[16], dtype=float32)\n",
      "\n",
      "self.decoder_zt1_dist self.decoder_lstm_state tfp.distributions.MultivariateNormalDiag(\"Decoder_zt1_4_MultivariateNormalDiag\", batch_shape=[?], event_shape=[16], dtype=float32)\n",
      "Tensor(\"Decoder_zt1_4/map_lstm_states/out/Relu:0\", shape=(?, 128), dtype=float32)self.decoder_zt1_sampleself.decoder_lstm_state\n",
      "  Tensor(\"Decoder_zt1_4/Decoder_zt1_4_MultivariateNormalDiag/sample/Decoder_zt1_4_MultivariateNormalDiag_affine_linear_operator/forward/add:0\", shape=(?, 16), dtype=float32)Tensor(\"Decoder_zt1_4/map_lstm_states/out/Relu:0\", shape=(?, 128), dtype=float32)\n",
      "\n",
      "self.decoder_zt1_dist tfp.distributions.MultivariateNormalDiag(\"Decoder_zt1_4_MultivariateNormalDiag\", batch_shape=[?], event_shape=[16], dtype=float32)self.decoder_zt1_sample\n",
      " self.decoder_lstm_stateTensor(\"Decoder_zt1_4/Decoder_zt1_4_MultivariateNormalDiag/sample/Decoder_zt1_4_MultivariateNormalDiag_affine_linear_operator/forward/add:0\", shape=(?, 16), dtype=float32)\n",
      " Tensor(\"Decoder_zt1_4/map_lstm_states/out/Relu:0\", shape=(?, 128), dtype=float32)self.decoder_zt1_dist\n",
      " tfp.distributions.MultivariateNormalDiag(\"Decoder_zt1_4_MultivariateNormalDiag\", batch_shape=[?], event_shape=[16], dtype=float32)\n",
      "self.decoder_lstm_state Tensor(\"Decoder_zt1_4/map_lstm_states/out/Relu:0\", shape=(?, 128), dtype=float32)\n",
      "self.decoder_state_log_prob Tensor(\"Decoder_state_4_1/Decoder_state_4_1_MultivariateNormalDiag_1/log_prob/add:0\", shape=(?,), dtype=float32)\n",
      "self.decoder_state_sample Tensor(\"Decoder_state_4_1/Decoder_state_4_1_MultivariateNormalDiag/sample/Decoder_state_4_1_MultivariateNormalDiag_affine_linear_operator/forward/add:0\", shape=(?, 17), dtype=float32)\n"
     ]
    },
    {
     "name": "stdout",
     "output_type": "stream",
     "text": [
      "self.decoder_state_log_probself.decoder_r_diss self.decoder_state_log_prob Tensor(\"Decoder_state_4_1/Decoder_state_4_1_MultivariateNormalDiag_1/log_prob/add:0\", shape=(?,), dtype=float32) tfp.distributions.MultivariateNormalDiag(\"Decoder_reward_4_MultivariateNormalDiag\", batch_shape=[?], event_shape=[1], dtype=float32)\n",
      "Tensor(\"Decoder_state_4_1/Decoder_state_4_1_MultivariateNormalDiag_1/log_prob/add:0\", shape=(?,), dtype=float32)\n",
      "self.decoder_state_sample\n",
      "self.decoder_r_sampleself.decoder_state_log_prob self.decoder_state_sample Tensor(\"Decoder_state_4_1/Decoder_state_4_1_MultivariateNormalDiag/sample/Decoder_state_4_1_MultivariateNormalDiag_affine_linear_operator/forward/add:0\", shape=(?, 17), dtype=float32)  Tensor(\"Decoder_reward_4/Decoder_reward_4_MultivariateNormalDiag/sample/Decoder_reward_4_MultivariateNormalDiag_affine_linear_operator/forward/add:0\", shape=(?, 1), dtype=float32)\n",
      "Tensor(\"Decoder_state_4_1/Decoder_state_4_1_MultivariateNormalDiag/sample/Decoder_state_4_1_MultivariateNormalDiag_affine_linear_operator/forward/add:0\", shape=(?, 17), dtype=float32)\n",
      "Tensor(\"Decoder_state_4_1/Decoder_state_4_1_MultivariateNormalDiag_1/log_prob/add:0\", shape=(?,), dtype=float32)self.decoder_r_diss\n",
      " \n",
      "self.decoder_r_diss tfp.distributions.MultivariateNormalDiag(\"Decoder_reward_4_MultivariateNormalDiag\", batch_shape=[?], event_shape=[1], dtype=float32)self.decoder_state_sample\n",
      "tfp.distributions.MultivariateNormalDiag(\"Decoder_reward_4_MultivariateNormalDiag\", batch_shape=[?], event_shape=[1], dtype=float32) self.decoder_r_sample\n",
      "Tensor(\"Decoder_state_4_1/Decoder_state_4_1_MultivariateNormalDiag/sample/Decoder_state_4_1_MultivariateNormalDiag_affine_linear_operator/forward/add:0\", shape=(?, 17), dtype=float32)self.decoder_r_sample  \n",
      "Tensor(\"Decoder_reward_4/Decoder_reward_4_MultivariateNormalDiag/sample/Decoder_reward_4_MultivariateNormalDiag_affine_linear_operator/forward/add:0\", shape=(?, 1), dtype=float32)Tensor(\"Decoder_reward_4/Decoder_reward_4_MultivariateNormalDiag/sample/Decoder_reward_4_MultivariateNormalDiag_affine_linear_operator/forward/add:0\", shape=(?, 1), dtype=float32)self.decoder_r_diss\n",
      "\n",
      " tfp.distributions.MultivariateNormalDiag(\"Decoder_reward_4_MultivariateNormalDiag\", batch_shape=[?], event_shape=[1], dtype=float32)\n",
      "self.decoder_r_sample Tensor(\"Decoder_reward_4/Decoder_reward_4_MultivariateNormalDiag/sample/Decoder_reward_4_MultivariateNormalDiag_affine_linear_operator/forward/add:0\", shape=(?, 1), dtype=float32)\n",
      "new_lstm_state Tensor(\"Decoder_zt1_5/concat_1:0\", shape=(?, 128), dtype=float32)\n",
      "new_lstm_state Tensor(\"Decoder_zt1_5/concat_1:0\", shape=(?, 128), dtype=float32)\n",
      "new_lstm_state Tensor(\"Decoder_zt1_5/concat_1:0\", shape=(?, 128), dtype=float32)new_lstm_state\n",
      " Tensor(\"Decoder_zt1_5/concat_1:0\", shape=(?, 128), dtype=float32)\n",
      "self.decoder_zt1_sample Tensor(\"Decoder_zt1_5/Decoder_zt1_5_MultivariateNormalDiag/sample/Decoder_zt1_5_MultivariateNormalDiag_affine_linear_operator/forward/add:0\", shape=(?, 16), dtype=float32)\n",
      "self.decoder_zt1_dist tfp.distributions.MultivariateNormalDiag(\"Decoder_zt1_5_MultivariateNormalDiag\", batch_shape=[?], event_shape=[16], dtype=float32)\n",
      "self.decoder_lstm_state self.decoder_zt1_sample Tensor(\"Decoder_zt1_5/map_lstm_states/out/Relu:0\", shape=(?, 128), dtype=float32)Tensor(\"Decoder_zt1_5/Decoder_zt1_5_MultivariateNormalDiag/sample/Decoder_zt1_5_MultivariateNormalDiag_affine_linear_operator/forward/add:0\", shape=(?, 16), dtype=float32)\n",
      "\n",
      "self.decoder_zt1_dist self.decoder_zt1_sampletfp.distributions.MultivariateNormalDiag(\"Decoder_zt1_5_MultivariateNormalDiag\", batch_shape=[?], event_shape=[16], dtype=float32)self.decoder_zt1_sample  \n",
      "Tensor(\"Decoder_zt1_5/Decoder_zt1_5_MultivariateNormalDiag/sample/Decoder_zt1_5_MultivariateNormalDiag_affine_linear_operator/forward/add:0\", shape=(?, 16), dtype=float32)self.decoder_lstm_stateTensor(\"Decoder_zt1_5/Decoder_zt1_5_MultivariateNormalDiag/sample/Decoder_zt1_5_MultivariateNormalDiag_affine_linear_operator/forward/add:0\", shape=(?, 16), dtype=float32)\n",
      " \n",
      "self.decoder_zt1_distTensor(\"Decoder_zt1_5/map_lstm_states/out/Relu:0\", shape=(?, 128), dtype=float32)self.decoder_zt1_dist\n",
      "  tfp.distributions.MultivariateNormalDiag(\"Decoder_zt1_5_MultivariateNormalDiag\", batch_shape=[?], event_shape=[16], dtype=float32)tfp.distributions.MultivariateNormalDiag(\"Decoder_zt1_5_MultivariateNormalDiag\", batch_shape=[?], event_shape=[16], dtype=float32)\n",
      "\n",
      "self.decoder_lstm_stateself.decoder_lstm_state  Tensor(\"Decoder_zt1_5/map_lstm_states/out/Relu:0\", shape=(?, 128), dtype=float32)Tensor(\"Decoder_zt1_5/map_lstm_states/out/Relu:0\", shape=(?, 128), dtype=float32)\n",
      "\n",
      "self.decoder_state_log_prob Tensor(\"Decoder_state_5_1/Decoder_state_5_1_MultivariateNormalDiag_1/log_prob/add:0\", shape=(?,), dtype=float32)\n",
      "self.decoder_state_sampleself.decoder_state_log_prob  self.decoder_state_log_probTensor(\"Decoder_state_5_1/Decoder_state_5_1_MultivariateNormalDiag/sample/Decoder_state_5_1_MultivariateNormalDiag_affine_linear_operator/forward/add:0\", shape=(?, 17), dtype=float32)Tensor(\"Decoder_state_5_1/Decoder_state_5_1_MultivariateNormalDiag_1/log_prob/add:0\", shape=(?,), dtype=float32) \n",
      "\n",
      "Tensor(\"Decoder_state_5_1/Decoder_state_5_1_MultivariateNormalDiag_1/log_prob/add:0\", shape=(?,), dtype=float32)self.decoder_r_dissself.decoder_state_sample\n",
      " self.decoder_state_log_prob self.decoder_state_sample Tensor(\"Decoder_state_5_1/Decoder_state_5_1_MultivariateNormalDiag/sample/Decoder_state_5_1_MultivariateNormalDiag_affine_linear_operator/forward/add:0\", shape=(?, 17), dtype=float32)tfp.distributions.MultivariateNormalDiag(\"Decoder_reward_5_MultivariateNormalDiag\", batch_shape=[?], event_shape=[1], dtype=float32) Tensor(\"Decoder_state_5_1/Decoder_state_5_1_MultivariateNormalDiag_1/log_prob/add:0\", shape=(?,), dtype=float32)\n",
      "\n",
      "Tensor(\"Decoder_state_5_1/Decoder_state_5_1_MultivariateNormalDiag/sample/Decoder_state_5_1_MultivariateNormalDiag_affine_linear_operator/forward/add:0\", shape=(?, 17), dtype=float32)self.decoder_r_diss\n",
      "self.decoder_r_sample \n",
      " self.decoder_state_sampleTensor(\"Decoder_reward_5/Decoder_reward_5_MultivariateNormalDiag/sample/Decoder_reward_5_MultivariateNormalDiag_affine_linear_operator/forward/add:0\", shape=(?, 1), dtype=float32)self.decoder_r_disstfp.distributions.MultivariateNormalDiag(\"Decoder_reward_5_MultivariateNormalDiag\", batch_shape=[?], event_shape=[1], dtype=float32) \n",
      "\n",
      " Tensor(\"Decoder_state_5_1/Decoder_state_5_1_MultivariateNormalDiag/sample/Decoder_state_5_1_MultivariateNormalDiag_affine_linear_operator/forward/add:0\", shape=(?, 17), dtype=float32)self.decoder_r_sample\n",
      " Tensor(\"Decoder_reward_5/Decoder_reward_5_MultivariateNormalDiag/sample/Decoder_reward_5_MultivariateNormalDiag_affine_linear_operator/forward/add:0\", shape=(?, 1), dtype=float32)self.decoder_r_disstfp.distributions.MultivariateNormalDiag(\"Decoder_reward_5_MultivariateNormalDiag\", batch_shape=[?], event_shape=[1], dtype=float32)\n",
      "\n",
      " self.decoder_r_sampletfp.distributions.MultivariateNormalDiag(\"Decoder_reward_5_MultivariateNormalDiag\", batch_shape=[?], event_shape=[1], dtype=float32) \n",
      "Tensor(\"Decoder_reward_5/Decoder_reward_5_MultivariateNormalDiag/sample/Decoder_reward_5_MultivariateNormalDiag_affine_linear_operator/forward/add:0\", shape=(?, 1), dtype=float32)self.decoder_r_sample\n",
      " Tensor(\"Decoder_reward_5/Decoder_reward_5_MultivariateNormalDiag/sample/Decoder_reward_5_MultivariateNormalDiag_affine_linear_operator/forward/add:0\", shape=(?, 1), dtype=float32)\n",
      "new_lstm_state Tensor(\"Decoder_zt1_6/concat_1:0\", shape=(?, 128), dtype=float32)new_lstm_state\n",
      " Tensor(\"Decoder_zt1_6/concat_1:0\", shape=(?, 128), dtype=float32)\n",
      "new_lstm_statenew_lstm_state  Tensor(\"Decoder_zt1_6/concat_1:0\", shape=(?, 128), dtype=float32)Tensor(\"Decoder_zt1_6/concat_1:0\", shape=(?, 128), dtype=float32)\n",
      "\n",
      "self.decoder_zt1_sample Tensor(\"Decoder_zt1_6/Decoder_zt1_6_MultivariateNormalDiag/sample/Decoder_zt1_6_MultivariateNormalDiag_affine_linear_operator/forward/add:0\", shape=(?, 16), dtype=float32)\n",
      "self.decoder_zt1_dist tfp.distributions.MultivariateNormalDiag(\"Decoder_zt1_6_MultivariateNormalDiag\", batch_shape=[?], event_shape=[16], dtype=float32)\n"
     ]
    },
    {
     "name": "stdout",
     "output_type": "stream",
     "text": [
      "self.decoder_lstm_state Tensor(\"Decoder_zt1_6/map_lstm_states/out/Relu:0\", shape=(?, 128), dtype=float32)\n",
      "self.decoder_zt1_sampleself.decoder_zt1_sample  Tensor(\"Decoder_zt1_6/Decoder_zt1_6_MultivariateNormalDiag/sample/Decoder_zt1_6_MultivariateNormalDiag_affine_linear_operator/forward/add:0\", shape=(?, 16), dtype=float32)Tensor(\"Decoder_zt1_6/Decoder_zt1_6_MultivariateNormalDiag/sample/Decoder_zt1_6_MultivariateNormalDiag_affine_linear_operator/forward/add:0\", shape=(?, 16), dtype=float32)\n",
      "\n",
      "self.decoder_zt1_distself.decoder_zt1_dist  tfp.distributions.MultivariateNormalDiag(\"Decoder_zt1_6_MultivariateNormalDiag\", batch_shape=[?], event_shape=[16], dtype=float32)tfp.distributions.MultivariateNormalDiag(\"Decoder_zt1_6_MultivariateNormalDiag\", batch_shape=[?], event_shape=[16], dtype=float32)\n",
      "\n",
      "self.decoder_lstm_stateself.decoder_lstm_state self.decoder_zt1_sample Tensor(\"Decoder_zt1_6/map_lstm_states/out/Relu:0\", shape=(?, 128), dtype=float32) Tensor(\"Decoder_zt1_6/map_lstm_states/out/Relu:0\", shape=(?, 128), dtype=float32)\n",
      "\n",
      "Tensor(\"Decoder_zt1_6/Decoder_zt1_6_MultivariateNormalDiag/sample/Decoder_zt1_6_MultivariateNormalDiag_affine_linear_operator/forward/add:0\", shape=(?, 16), dtype=float32)\n",
      "self.decoder_zt1_dist tfp.distributions.MultivariateNormalDiag(\"Decoder_zt1_6_MultivariateNormalDiag\", batch_shape=[?], event_shape=[16], dtype=float32)\n",
      "self.decoder_lstm_state Tensor(\"Decoder_zt1_6/map_lstm_states/out/Relu:0\", shape=(?, 128), dtype=float32)\n",
      "self.decoder_state_log_prob Tensor(\"Decoder_state_6_1/Decoder_state_6_1_MultivariateNormalDiag_1/log_prob/add:0\", shape=(?,), dtype=float32)\n",
      "self.decoder_state_sample Tensor(\"Decoder_state_6_1/Decoder_state_6_1_MultivariateNormalDiag/sample/Decoder_state_6_1_MultivariateNormalDiag_affine_linear_operator/forward/add:0\", shape=(?, 17), dtype=float32)\n",
      "self.decoder_r_diss tfp.distributions.MultivariateNormalDiag(\"Decoder_reward_6_MultivariateNormalDiag\", batch_shape=[?], event_shape=[1], dtype=float32)\n",
      "self.decoder_r_sample self.decoder_state_log_probTensor(\"Decoder_reward_6/Decoder_reward_6_MultivariateNormalDiag/sample/Decoder_reward_6_MultivariateNormalDiag_affine_linear_operator/forward/add:0\", shape=(?, 1), dtype=float32) self.decoder_state_log_prob\n",
      "Tensor(\"Decoder_state_6_1/Decoder_state_6_1_MultivariateNormalDiag_1/log_prob/add:0\", shape=(?,), dtype=float32) \n",
      "Tensor(\"Decoder_state_6_1/Decoder_state_6_1_MultivariateNormalDiag_1/log_prob/add:0\", shape=(?,), dtype=float32)self.decoder_state_sample\n",
      " self.decoder_state_sampleTensor(\"Decoder_state_6_1/Decoder_state_6_1_MultivariateNormalDiag/sample/Decoder_state_6_1_MultivariateNormalDiag_affine_linear_operator/forward/add:0\", shape=(?, 17), dtype=float32) \n",
      "Tensor(\"Decoder_state_6_1/Decoder_state_6_1_MultivariateNormalDiag/sample/Decoder_state_6_1_MultivariateNormalDiag_affine_linear_operator/forward/add:0\", shape=(?, 17), dtype=float32)self.decoder_r_diss\n",
      " self.decoder_r_diss tfp.distributions.MultivariateNormalDiag(\"Decoder_reward_6_MultivariateNormalDiag\", batch_shape=[?], event_shape=[1], dtype=float32)\n",
      "self.decoder_state_log_probtfp.distributions.MultivariateNormalDiag(\"Decoder_reward_6_MultivariateNormalDiag\", batch_shape=[?], event_shape=[1], dtype=float32)self.decoder_r_sample \n",
      " Tensor(\"Decoder_state_6_1/Decoder_state_6_1_MultivariateNormalDiag_1/log_prob/add:0\", shape=(?,), dtype=float32)self.decoder_r_sampleTensor(\"Decoder_reward_6/Decoder_reward_6_MultivariateNormalDiag/sample/Decoder_reward_6_MultivariateNormalDiag_affine_linear_operator/forward/add:0\", shape=(?, 1), dtype=float32)\n",
      " self.decoder_state_sample\n",
      "Tensor(\"Decoder_reward_6/Decoder_reward_6_MultivariateNormalDiag/sample/Decoder_reward_6_MultivariateNormalDiag_affine_linear_operator/forward/add:0\", shape=(?, 1), dtype=float32) \n",
      "Tensor(\"Decoder_state_6_1/Decoder_state_6_1_MultivariateNormalDiag/sample/Decoder_state_6_1_MultivariateNormalDiag_affine_linear_operator/forward/add:0\", shape=(?, 17), dtype=float32)\n",
      "self.decoder_r_diss tfp.distributions.MultivariateNormalDiag(\"Decoder_reward_6_MultivariateNormalDiag\", batch_shape=[?], event_shape=[1], dtype=float32)\n",
      "self.decoder_r_sample Tensor(\"Decoder_reward_6/Decoder_reward_6_MultivariateNormalDiag/sample/Decoder_reward_6_MultivariateNormalDiag_affine_linear_operator/forward/add:0\", shape=(?, 1), dtype=float32)\n",
      "new_lstm_state new_lstm_stateTensor(\"Decoder_zt1_7/concat_1:0\", shape=(?, 128), dtype=float32) \n",
      "Tensor(\"Decoder_zt1_7/concat_1:0\", shape=(?, 128), dtype=float32)new_lstm_state\n",
      " Tensor(\"Decoder_zt1_7/concat_1:0\", shape=(?, 128), dtype=float32)\n",
      "new_lstm_state Tensor(\"Decoder_zt1_7/concat_1:0\", shape=(?, 128), dtype=float32)\n",
      "self.decoder_zt1_sample self.decoder_zt1_sampleTensor(\"Decoder_zt1_7/Decoder_zt1_7_MultivariateNormalDiag/sample/Decoder_zt1_7_MultivariateNormalDiag_affine_linear_operator/forward/add:0\", shape=(?, 16), dtype=float32) \n",
      "Tensor(\"Decoder_zt1_7/Decoder_zt1_7_MultivariateNormalDiag/sample/Decoder_zt1_7_MultivariateNormalDiag_affine_linear_operator/forward/add:0\", shape=(?, 16), dtype=float32)self.decoder_zt1_dist\n",
      " self.decoder_zt1_sampleself.decoder_zt1_dist  tfp.distributions.MultivariateNormalDiag(\"Decoder_zt1_7_MultivariateNormalDiag\", batch_shape=[?], event_shape=[16], dtype=float32)Tensor(\"Decoder_zt1_7/Decoder_zt1_7_MultivariateNormalDiag/sample/Decoder_zt1_7_MultivariateNormalDiag_affine_linear_operator/forward/add:0\", shape=(?, 16), dtype=float32)\n",
      "tfp.distributions.MultivariateNormalDiag(\"Decoder_zt1_7_MultivariateNormalDiag\", batch_shape=[?], event_shape=[16], dtype=float32)\n",
      "self.decoder_lstm_state\n",
      "self.decoder_zt1_dist self.decoder_lstm_state Tensor(\"Decoder_zt1_7/map_lstm_states/out/Relu:0\", shape=(?, 128), dtype=float32) \n",
      "tfp.distributions.MultivariateNormalDiag(\"Decoder_zt1_7_MultivariateNormalDiag\", batch_shape=[?], event_shape=[16], dtype=float32)Tensor(\"Decoder_zt1_7/map_lstm_states/out/Relu:0\", shape=(?, 128), dtype=float32)\n",
      "\n",
      "self.decoder_zt1_sampleself.decoder_lstm_state  Tensor(\"Decoder_zt1_7/map_lstm_states/out/Relu:0\", shape=(?, 128), dtype=float32)Tensor(\"Decoder_zt1_7/Decoder_zt1_7_MultivariateNormalDiag/sample/Decoder_zt1_7_MultivariateNormalDiag_affine_linear_operator/forward/add:0\", shape=(?, 16), dtype=float32)\n",
      "\n",
      "self.decoder_zt1_dist tfp.distributions.MultivariateNormalDiag(\"Decoder_zt1_7_MultivariateNormalDiag\", batch_shape=[?], event_shape=[16], dtype=float32)\n",
      "self.decoder_lstm_state Tensor(\"Decoder_zt1_7/map_lstm_states/out/Relu:0\", shape=(?, 128), dtype=float32)\n",
      "self.decoder_state_log_prob Tensor(\"Decoder_state_7_1/Decoder_state_7_1_MultivariateNormalDiag_1/log_prob/add:0\", shape=(?,), dtype=float32)\n",
      "self.decoder_state_sample Tensor(\"Decoder_state_7_1/Decoder_state_7_1_MultivariateNormalDiag/sample/Decoder_state_7_1_MultivariateNormalDiag_affine_linear_operator/forward/add:0\", shape=(?, 17), dtype=float32)self.decoder_state_log_prob\n",
      " self.decoder_r_dissTensor(\"Decoder_state_7_1/Decoder_state_7_1_MultivariateNormalDiag_1/log_prob/add:0\", shape=(?,), dtype=float32) \n",
      "self.decoder_state_sampletfp.distributions.MultivariateNormalDiag(\"Decoder_reward_7_MultivariateNormalDiag\", batch_shape=[?], event_shape=[1], dtype=float32) \n",
      "Tensor(\"Decoder_state_7_1/Decoder_state_7_1_MultivariateNormalDiag/sample/Decoder_state_7_1_MultivariateNormalDiag_affine_linear_operator/forward/add:0\", shape=(?, 17), dtype=float32)self.decoder_r_sample\n",
      " self.decoder_state_log_probself.decoder_r_dissTensor(\"Decoder_reward_7/Decoder_reward_7_MultivariateNormalDiag/sample/Decoder_reward_7_MultivariateNormalDiag_affine_linear_operator/forward/add:0\", shape=(?, 1), dtype=float32)  \n",
      "Tensor(\"Decoder_state_7_1/Decoder_state_7_1_MultivariateNormalDiag_1/log_prob/add:0\", shape=(?,), dtype=float32)tfp.distributions.MultivariateNormalDiag(\"Decoder_reward_7_MultivariateNormalDiag\", batch_shape=[?], event_shape=[1], dtype=float32)\n",
      "\n"
     ]
    },
    {
     "name": "stdout",
     "output_type": "stream",
     "text": [
      "self.decoder_state_sampleself.decoder_r_sample  Tensor(\"Decoder_state_7_1/Decoder_state_7_1_MultivariateNormalDiag/sample/Decoder_state_7_1_MultivariateNormalDiag_affine_linear_operator/forward/add:0\", shape=(?, 17), dtype=float32)Tensor(\"Decoder_reward_7/Decoder_reward_7_MultivariateNormalDiag/sample/Decoder_reward_7_MultivariateNormalDiag_affine_linear_operator/forward/add:0\", shape=(?, 1), dtype=float32)\n",
      "\n",
      "self.decoder_r_diss tfp.distributions.MultivariateNormalDiag(\"Decoder_reward_7_MultivariateNormalDiag\", batch_shape=[?], event_shape=[1], dtype=float32)\n",
      "self.decoder_r_sample Tensor(\"Decoder_reward_7/Decoder_reward_7_MultivariateNormalDiag/sample/Decoder_reward_7_MultivariateNormalDiag_affine_linear_operator/forward/add:0\", shape=(?, 1), dtype=float32)\n",
      "self.decoder_state_log_prob Tensor(\"Decoder_state_7_1/Decoder_state_7_1_MultivariateNormalDiag_1/log_prob/add:0\", shape=(?,), dtype=float32)\n",
      "self.decoder_state_sample Tensor(\"Decoder_state_7_1/Decoder_state_7_1_MultivariateNormalDiag/sample/Decoder_state_7_1_MultivariateNormalDiag_affine_linear_operator/forward/add:0\", shape=(?, 17), dtype=float32)\n",
      "self.decoder_r_diss tfp.distributions.MultivariateNormalDiag(\"Decoder_reward_7_MultivariateNormalDiag\", batch_shape=[?], event_shape=[1], dtype=float32)\n",
      "self.decoder_r_sample Tensor(\"Decoder_reward_7/Decoder_reward_7_MultivariateNormalDiag/sample/Decoder_reward_7_MultivariateNormalDiag_affine_linear_operator/forward/add:0\", shape=(?, 1), dtype=float32)\n",
      "new_lstm_state Tensor(\"Decoder_zt1_8/concat_1:0\", shape=(?, 128), dtype=float32)\n",
      "new_lstm_state Tensor(\"Decoder_zt1_8/concat_1:0\", shape=(?, 128), dtype=float32)\n",
      "new_lstm_state Tensor(\"Decoder_zt1_8/concat_1:0\", shape=(?, 128), dtype=float32)\n",
      "new_lstm_state Tensor(\"Decoder_zt1_8/concat_1:0\", shape=(?, 128), dtype=float32)\n",
      "self.decoder_zt1_sample Tensor(\"Decoder_zt1_8/Decoder_zt1_8_MultivariateNormalDiag/sample/Decoder_zt1_8_MultivariateNormalDiag_affine_linear_operator/forward/add:0\", shape=(?, 16), dtype=float32)\n",
      "self.decoder_zt1_dist self.decoder_zt1_sampletfp.distributions.MultivariateNormalDiag(\"Decoder_zt1_8_MultivariateNormalDiag\", batch_shape=[?], event_shape=[16], dtype=float32) \n",
      "Tensor(\"Decoder_zt1_8/Decoder_zt1_8_MultivariateNormalDiag/sample/Decoder_zt1_8_MultivariateNormalDiag_affine_linear_operator/forward/add:0\", shape=(?, 16), dtype=float32)self.decoder_lstm_state\n",
      " self.decoder_zt1_distTensor(\"Decoder_zt1_8/map_lstm_states/out/Relu:0\", shape=(?, 128), dtype=float32) \n",
      "tfp.distributions.MultivariateNormalDiag(\"Decoder_zt1_8_MultivariateNormalDiag\", batch_shape=[?], event_shape=[16], dtype=float32)self.decoder_zt1_sample\n",
      " self.decoder_lstm_stateTensor(\"Decoder_zt1_8/Decoder_zt1_8_MultivariateNormalDiag/sample/Decoder_zt1_8_MultivariateNormalDiag_affine_linear_operator/forward/add:0\", shape=(?, 16), dtype=float32) \n",
      "Tensor(\"Decoder_zt1_8/map_lstm_states/out/Relu:0\", shape=(?, 128), dtype=float32)self.decoder_zt1_dist\n",
      " tfp.distributions.MultivariateNormalDiag(\"Decoder_zt1_8_MultivariateNormalDiag\", batch_shape=[?], event_shape=[16], dtype=float32)\n",
      "self.decoder_lstm_state Tensor(\"Decoder_zt1_8/map_lstm_states/out/Relu:0\", shape=(?, 128), dtype=float32)\n",
      "self.decoder_zt1_sample Tensor(\"Decoder_zt1_8/Decoder_zt1_8_MultivariateNormalDiag/sample/Decoder_zt1_8_MultivariateNormalDiag_affine_linear_operator/forward/add:0\", shape=(?, 16), dtype=float32)\n",
      "self.decoder_zt1_dist tfp.distributions.MultivariateNormalDiag(\"Decoder_zt1_8_MultivariateNormalDiag\", batch_shape=[?], event_shape=[16], dtype=float32)\n",
      "self.decoder_lstm_state Tensor(\"Decoder_zt1_8/map_lstm_states/out/Relu:0\", shape=(?, 128), dtype=float32)\n",
      "self.decoder_state_log_prob Tensor(\"Decoder_state_8_1/Decoder_state_8_1_MultivariateNormalDiag_1/log_prob/add:0\", shape=(?,), dtype=float32)\n",
      "self.decoder_state_sample Tensor(\"Decoder_state_8_1/Decoder_state_8_1_MultivariateNormalDiag/sample/Decoder_state_8_1_MultivariateNormalDiag_affine_linear_operator/forward/add:0\", shape=(?, 17), dtype=float32)\n",
      "self.decoder_r_diss self.decoder_state_log_prob tfp.distributions.MultivariateNormalDiag(\"Decoder_reward_8_MultivariateNormalDiag\", batch_shape=[?], event_shape=[1], dtype=float32)Tensor(\"Decoder_state_8_1/Decoder_state_8_1_MultivariateNormalDiag_1/log_prob/add:0\", shape=(?,), dtype=float32)\n",
      "\n",
      "self.decoder_r_sampleself.decoder_state_sample self.decoder_state_log_prob Tensor(\"Decoder_reward_8/Decoder_reward_8_MultivariateNormalDiag/sample/Decoder_reward_8_MultivariateNormalDiag_affine_linear_operator/forward/add:0\", shape=(?, 1), dtype=float32)Tensor(\"Decoder_state_8_1/Decoder_state_8_1_MultivariateNormalDiag/sample/Decoder_state_8_1_MultivariateNormalDiag_affine_linear_operator/forward/add:0\", shape=(?, 17), dtype=float32) \n",
      "\n",
      "Tensor(\"Decoder_state_8_1/Decoder_state_8_1_MultivariateNormalDiag_1/log_prob/add:0\", shape=(?,), dtype=float32)self.decoder_r_diss\n",
      " self.decoder_state_sample tfp.distributions.MultivariateNormalDiag(\"Decoder_reward_8_MultivariateNormalDiag\", batch_shape=[?], event_shape=[1], dtype=float32)Tensor(\"Decoder_state_8_1/Decoder_state_8_1_MultivariateNormalDiag/sample/Decoder_state_8_1_MultivariateNormalDiag_affine_linear_operator/forward/add:0\", shape=(?, 17), dtype=float32)\n",
      "\n",
      "self.decoder_r_sampleself.decoder_r_diss  Tensor(\"Decoder_reward_8/Decoder_reward_8_MultivariateNormalDiag/sample/Decoder_reward_8_MultivariateNormalDiag_affine_linear_operator/forward/add:0\", shape=(?, 1), dtype=float32)\n",
      "tfp.distributions.MultivariateNormalDiag(\"Decoder_reward_8_MultivariateNormalDiag\", batch_shape=[?], event_shape=[1], dtype=float32)\n",
      "self.decoder_r_sample Tensor(\"Decoder_reward_8/Decoder_reward_8_MultivariateNormalDiag/sample/Decoder_reward_8_MultivariateNormalDiag_affine_linear_operator/forward/add:0\", shape=(?, 1), dtype=float32)\n",
      "self.decoder_state_log_prob Tensor(\"Decoder_state_8_1/Decoder_state_8_1_MultivariateNormalDiag_1/log_prob/add:0\", shape=(?,), dtype=float32)\n",
      "self.decoder_state_sample Tensor(\"Decoder_state_8_1/Decoder_state_8_1_MultivariateNormalDiag/sample/Decoder_state_8_1_MultivariateNormalDiag_affine_linear_operator/forward/add:0\", shape=(?, 17), dtype=float32)\n",
      "self.decoder_r_diss tfp.distributions.MultivariateNormalDiag(\"Decoder_reward_8_MultivariateNormalDiag\", batch_shape=[?], event_shape=[1], dtype=float32)\n",
      "self.decoder_r_sample Tensor(\"Decoder_reward_8/Decoder_reward_8_MultivariateNormalDiag/sample/Decoder_reward_8_MultivariateNormalDiag_affine_linear_operator/forward/add:0\", shape=(?, 1), dtype=float32)\n",
      "new_lstm_state Tensor(\"Decoder_zt1_9/concat_1:0\", shape=(?, 128), dtype=float32)\n",
      "new_lstm_state Tensor(\"Decoder_zt1_9/concat_1:0\", shape=(?, 128), dtype=float32)\n",
      "new_lstm_state Tensor(\"Decoder_zt1_9/concat_1:0\", shape=(?, 128), dtype=float32)\n",
      "new_lstm_state Tensor(\"Decoder_zt1_9/concat_1:0\", shape=(?, 128), dtype=float32)\n",
      "self.decoder_zt1_sample Tensor(\"Decoder_zt1_9/Decoder_zt1_9_MultivariateNormalDiag/sample/Decoder_zt1_9_MultivariateNormalDiag_affine_linear_operator/forward/add:0\", shape=(?, 16), dtype=float32)\n",
      "self.decoder_zt1_dist tfp.distributions.MultivariateNormalDiag(\"Decoder_zt1_9_MultivariateNormalDiag\", batch_shape=[?], event_shape=[16], dtype=float32)\n",
      "self.decoder_lstm_state Tensor(\"Decoder_zt1_9/map_lstm_states/out/Relu:0\", shape=(?, 128), dtype=float32)\n",
      "self.decoder_zt1_sample Tensor(\"Decoder_zt1_9/Decoder_zt1_9_MultivariateNormalDiag/sample/Decoder_zt1_9_MultivariateNormalDiag_affine_linear_operator/forward/add:0\", shape=(?, 16), dtype=float32)\n",
      "self.decoder_zt1_dist tfp.distributions.MultivariateNormalDiag(\"Decoder_zt1_9_MultivariateNormalDiag\", batch_shape=[?], event_shape=[16], dtype=float32)\n",
      "self.decoder_lstm_state Tensor(\"Decoder_zt1_9/map_lstm_states/out/Relu:0\", shape=(?, 128), dtype=float32)\n",
      "self.decoder_zt1_sample Tensor(\"Decoder_zt1_9/Decoder_zt1_9_MultivariateNormalDiag/sample/Decoder_zt1_9_MultivariateNormalDiag_affine_linear_operator/forward/add:0\", shape=(?, 16), dtype=float32)\n",
      "self.decoder_zt1_dist tfp.distributions.MultivariateNormalDiag(\"Decoder_zt1_9_MultivariateNormalDiag\", batch_shape=[?], event_shape=[16], dtype=float32)\n",
      "self.decoder_lstm_state Tensor(\"Decoder_zt1_9/map_lstm_states/out/Relu:0\", shape=(?, 128), dtype=float32)\n"
     ]
    },
    {
     "name": "stdout",
     "output_type": "stream",
     "text": [
      "self.decoder_zt1_sample Tensor(\"Decoder_zt1_9/Decoder_zt1_9_MultivariateNormalDiag/sample/Decoder_zt1_9_MultivariateNormalDiag_affine_linear_operator/forward/add:0\", shape=(?, 16), dtype=float32)\n",
      "self.decoder_zt1_dist tfp.distributions.MultivariateNormalDiag(\"Decoder_zt1_9_MultivariateNormalDiag\", batch_shape=[?], event_shape=[16], dtype=float32)\n",
      "self.decoder_lstm_state Tensor(\"Decoder_zt1_9/map_lstm_states/out/Relu:0\", shape=(?, 128), dtype=float32)\n",
      "self.decoder_state_log_prob Tensor(\"Decoder_state_9_1/Decoder_state_9_1_MultivariateNormalDiag_1/log_prob/add:0\", shape=(?,), dtype=float32)\n",
      "self.decoder_state_sample Tensor(\"Decoder_state_9_1/Decoder_state_9_1_MultivariateNormalDiag/sample/Decoder_state_9_1_MultivariateNormalDiag_affine_linear_operator/forward/add:0\", shape=(?, 17), dtype=float32)\n",
      "self.decoder_r_diss tfp.distributions.MultivariateNormalDiag(\"Decoder_reward_9_MultivariateNormalDiag\", batch_shape=[?], event_shape=[1], dtype=float32)\n",
      "self.decoder_r_sample Tensor(\"Decoder_reward_9/Decoder_reward_9_MultivariateNormalDiag/sample/Decoder_reward_9_MultivariateNormalDiag_affine_linear_operator/forward/add:0\", shape=(?, 1), dtype=float32)\n",
      "self.decoder_state_log_prob Tensor(\"Decoder_state_9_1/Decoder_state_9_1_MultivariateNormalDiag_1/log_prob/add:0\", shape=(?,), dtype=float32)\n",
      "self.decoder_state_sample Tensor(\"Decoder_state_9_1/Decoder_state_9_1_MultivariateNormalDiag/sample/Decoder_state_9_1_MultivariateNormalDiag_affine_linear_operator/forward/add:0\", shape=(?, 17), dtype=float32)\n",
      "self.decoder_r_diss tfp.distributions.MultivariateNormalDiag(\"Decoder_reward_9_MultivariateNormalDiag\", batch_shape=[?], event_shape=[1], dtype=float32)\n",
      "self.decoder_r_sample self.decoder_state_log_probTensor(\"Decoder_reward_9/Decoder_reward_9_MultivariateNormalDiag/sample/Decoder_reward_9_MultivariateNormalDiag_affine_linear_operator/forward/add:0\", shape=(?, 1), dtype=float32) \n",
      "Tensor(\"Decoder_state_9_1/Decoder_state_9_1_MultivariateNormalDiag_1/log_prob/add:0\", shape=(?,), dtype=float32)\n",
      "self.decoder_state_sampleself.decoder_state_log_prob  Tensor(\"Decoder_state_9_1/Decoder_state_9_1_MultivariateNormalDiag/sample/Decoder_state_9_1_MultivariateNormalDiag_affine_linear_operator/forward/add:0\", shape=(?, 17), dtype=float32)Tensor(\"Decoder_state_9_1/Decoder_state_9_1_MultivariateNormalDiag_1/log_prob/add:0\", shape=(?,), dtype=float32)\n",
      "\n",
      "self.decoder_r_dissself.decoder_state_sample  tfp.distributions.MultivariateNormalDiag(\"Decoder_reward_9_MultivariateNormalDiag\", batch_shape=[?], event_shape=[1], dtype=float32)Tensor(\"Decoder_state_9_1/Decoder_state_9_1_MultivariateNormalDiag/sample/Decoder_state_9_1_MultivariateNormalDiag_affine_linear_operator/forward/add:0\", shape=(?, 17), dtype=float32)\n",
      "\n",
      "self.decoder_r_sampleself.decoder_r_diss  Tensor(\"Decoder_reward_9/Decoder_reward_9_MultivariateNormalDiag/sample/Decoder_reward_9_MultivariateNormalDiag_affine_linear_operator/forward/add:0\", shape=(?, 1), dtype=float32)tfp.distributions.MultivariateNormalDiag(\"Decoder_reward_9_MultivariateNormalDiag\", batch_shape=[?], event_shape=[1], dtype=float32)\n",
      "\n",
      "self.decoder_r_sample Tensor(\"Decoder_reward_9/Decoder_reward_9_MultivariateNormalDiag/sample/Decoder_reward_9_MultivariateNormalDiag_affine_linear_operator/forward/add:0\", shape=(?, 1), dtype=float32)\n",
      "WARNING:tensorflow:From /home/Dropbox/OPE/Behavioral_OPE_SAC/halfcheetah/T-SNE/../../utils_latentPolicy_sac_lstm_zt_zt1_ensemble.py:568: The name tf.losses.mean_pairwise_squared_error is deprecated. Please use tf.compat.v1.losses.mean_pairwise_squared_error instead.\n",
      "\n"
     ]
    },
    {
     "name": "stderr",
     "output_type": "stream",
     "text": [
      "WARNING:tensorflow:From /home/Dropbox/OPE/Behavioral_OPE_SAC/halfcheetah/T-SNE/../../utils_latentPolicy_sac_lstm_zt_zt1_ensemble.py:568: The name tf.losses.mean_pairwise_squared_error is deprecated. Please use tf.compat.v1.losses.mean_pairwise_squared_error instead.\n",
      "\n"
     ]
    },
    {
     "name": "stdout",
     "output_type": "stream",
     "text": [
      "WARNING:tensorflow:From /home/Dropbox/OPE/Behavioral_OPE_SAC/halfcheetah/T-SNE/../../utils_latentPolicy_sac_lstm_zt_zt1_ensemble.py:568: The name tf.losses.mean_pairwise_squared_error is deprecated. Please use tf.compat.v1.losses.mean_pairwise_squared_error instead.\n",
      "\n"
     ]
    },
    {
     "name": "stderr",
     "output_type": "stream",
     "text": [
      "WARNING:tensorflow:From /home/Dropbox/OPE/Behavioral_OPE_SAC/halfcheetah/T-SNE/../../utils_latentPolicy_sac_lstm_zt_zt1_ensemble.py:568: The name tf.losses.mean_pairwise_squared_error is deprecated. Please use tf.compat.v1.losses.mean_pairwise_squared_error instead.\n",
      "\n"
     ]
    },
    {
     "name": "stdout",
     "output_type": "stream",
     "text": [
      "WARNING:tensorflow:From /home/Dropbox/OPE/Behavioral_OPE_SAC/halfcheetah/T-SNE/../../utils_latentPolicy_sac_lstm_zt_zt1_ensemble.py:568: The name tf.losses.mean_pairwise_squared_error is deprecated. Please use tf.compat.v1.losses.mean_pairwise_squared_error instead.\n",
      "\n"
     ]
    },
    {
     "name": "stderr",
     "output_type": "stream",
     "text": [
      "WARNING:tensorflow:From /home/Dropbox/OPE/Behavioral_OPE_SAC/halfcheetah/T-SNE/../../utils_latentPolicy_sac_lstm_zt_zt1_ensemble.py:568: The name tf.losses.mean_pairwise_squared_error is deprecated. Please use tf.compat.v1.losses.mean_pairwise_squared_error instead.\n",
      "\n"
     ]
    },
    {
     "name": "stdout",
     "output_type": "stream",
     "text": [
      "WARNING:tensorflow:From /home/Dropbox/OPE/Behavioral_OPE_SAC/halfcheetah/T-SNE/../../utils_latentPolicy_sac_lstm_zt_zt1_ensemble.py:568: The name tf.losses.mean_pairwise_squared_error is deprecated. Please use tf.compat.v1.losses.mean_pairwise_squared_error instead.\n",
      "\n"
     ]
    },
    {
     "name": "stderr",
     "output_type": "stream",
     "text": [
      "WARNING:tensorflow:From /home/Dropbox/OPE/Behavioral_OPE_SAC/halfcheetah/T-SNE/../../utils_latentPolicy_sac_lstm_zt_zt1_ensemble.py:568: The name tf.losses.mean_pairwise_squared_error is deprecated. Please use tf.compat.v1.losses.mean_pairwise_squared_error instead.\n",
      "\n"
     ]
    },
    {
     "name": "stdout",
     "output_type": "stream",
     "text": [
      "self.likelihood_s Tensor(\"Mean:0\", shape=(), dtype=float32)\n",
      "self.likelihood_r Tensor(\"Mean_1:0\", shape=(), dtype=float32)\n",
      "self.divergence1 Tensor(\"Mean_2:0\", shape=(), dtype=float32)\n",
      "self.divergence2 Tensor(\"Mean_3:0\", shape=(), dtype=float32)\n",
      "self.encoder_decoder_lstm_states_mse Tensor(\"Mean_5:0\", shape=(), dtype=float32)\n",
      "self.likelihood_s Tensor(\"Mean:0\", shape=(), dtype=float32)\n",
      "self.likelihood_r Tensor(\"Mean_1:0\", shape=(), dtype=float32)\n",
      "self.divergence1 Tensor(\"Mean_2:0\", shape=(), dtype=float32)WARNING:tensorflow:From /home/Dropbox/OPE/Behavioral_OPE_SAC/halfcheetah/T-SNE/../../utils_latentPolicy_sac_lstm_zt_zt1_ensemble.py:581: The name tf.train.exponential_decay is deprecated. Please use tf.compat.v1.train.exponential_decay instead.\n",
      "\n",
      "\n"
     ]
    },
    {
     "name": "stderr",
     "output_type": "stream",
     "text": [
      "WARNING:tensorflow:From /home/Dropbox/OPE/Behavioral_OPE_SAC/halfcheetah/T-SNE/../../utils_latentPolicy_sac_lstm_zt_zt1_ensemble.py:581: The name tf.train.exponential_decay is deprecated. Please use tf.compat.v1.train.exponential_decay instead.\n",
      "\n"
     ]
    },
    {
     "name": "stdout",
     "output_type": "stream",
     "text": [
      "self.divergence2self.likelihood_s  Tensor(\"Mean_3:0\", shape=(), dtype=float32)Tensor(\"Mean:0\", shape=(), dtype=float32)self.likelihood_s\n",
      "\n",
      " WARNING:tensorflow:From /home/Dropbox/OPE/Behavioral_OPE_SAC/halfcheetah/T-SNE/../../utils_latentPolicy_sac_lstm_zt_zt1_ensemble.py:583: The name tf.get_collection is deprecated. Please use tf.compat.v1.get_collection instead.\n",
      "\n",
      "self.encoder_decoder_lstm_states_mseself.likelihood_rTensor(\"Mean:0\", shape=(), dtype=float32) "
     ]
    },
    {
     "name": "stderr",
     "output_type": "stream",
     "text": [
      "WARNING:tensorflow:From /home/Dropbox/OPE/Behavioral_OPE_SAC/halfcheetah/T-SNE/../../utils_latentPolicy_sac_lstm_zt_zt1_ensemble.py:583: The name tf.get_collection is deprecated. Please use tf.compat.v1.get_collection instead.\n",
      "\n"
     ]
    },
    {
     "name": "stdout",
     "output_type": "stream",
     "text": [
      "Tensor(\"Mean_5:0\", shape=(), dtype=float32) WARNING:tensorflow:From /home/Dropbox/OPE/Behavioral_OPE_SAC/halfcheetah/T-SNE/../../utils_latentPolicy_sac_lstm_zt_zt1_ensemble.py:583: The name tf.GraphKeys is deprecated. Please use tf.compat.v1.GraphKeys instead.\n",
      "\n",
      "\n",
      "\n"
     ]
    },
    {
     "name": "stderr",
     "output_type": "stream",
     "text": [
      "WARNING:tensorflow:From /home/Dropbox/OPE/Behavioral_OPE_SAC/halfcheetah/T-SNE/../../utils_latentPolicy_sac_lstm_zt_zt1_ensemble.py:583: The name tf.GraphKeys is deprecated. Please use tf.compat.v1.GraphKeys instead.\n",
      "\n"
     ]
    },
    {
     "name": "stdout",
     "output_type": "stream",
     "text": [
      "self.likelihood_rTensor(\"Mean_1:0\", shape=(), dtype=float32) WARNING:tensorflow:From /home/Dropbox/OPE/Behavioral_OPE_SAC/halfcheetah/T-SNE/../../utils_latentPolicy_sac_lstm_zt_zt1_ensemble.py:587: The name tf.train.AdamOptimizer is deprecated. Please use tf.compat.v1.train.AdamOptimizer instead.\n",
      "\n",
      "\n",
      "Tensor(\"Mean_1:0\", shape=(), dtype=float32)"
     ]
    },
    {
     "name": "stderr",
     "output_type": "stream",
     "text": [
      "WARNING:tensorflow:From /home/Dropbox/OPE/Behavioral_OPE_SAC/halfcheetah/T-SNE/../../utils_latentPolicy_sac_lstm_zt_zt1_ensemble.py:587: The name tf.train.AdamOptimizer is deprecated. Please use tf.compat.v1.train.AdamOptimizer instead.\n",
      "\n"
     ]
    },
    {
     "name": "stdout",
     "output_type": "stream",
     "text": [
      "\n",
      "self.divergence1self.divergence1  Tensor(\"Mean_2:0\", shape=(), dtype=float32)Tensor(\"Mean_2:0\", shape=(), dtype=float32)\n",
      "\n",
      "self.divergence2self.divergence2  Tensor(\"Mean_3:0\", shape=(), dtype=float32)\n",
      "Tensor(\"Mean_3:0\", shape=(), dtype=float32)WARNING:tensorflow:From /home/Dropbox/OPE/Behavioral_OPE_SAC/halfcheetah/T-SNE/../../utils_latentPolicy_sac_lstm_zt_zt1_ensemble.py:581: The name tf.train.exponential_decay is deprecated. Please use tf.compat.v1.train.exponential_decay instead.\n",
      "\n",
      "self.encoder_decoder_lstm_states_mse"
     ]
    },
    {
     "name": "stderr",
     "output_type": "stream",
     "text": [
      "WARNING:tensorflow:From /home/Dropbox/OPE/Behavioral_OPE_SAC/halfcheetah/T-SNE/../../utils_latentPolicy_sac_lstm_zt_zt1_ensemble.py:581: The name tf.train.exponential_decay is deprecated. Please use tf.compat.v1.train.exponential_decay instead.\n",
      "\n"
     ]
    },
    {
     "name": "stdout",
     "output_type": "stream",
     "text": [
      "\n",
      " Tensor(\"Mean_5:0\", shape=(), dtype=float32)self.encoder_decoder_lstm_states_mse\n",
      " Tensor(\"Mean_5:0\", shape=(), dtype=float32)WARNING:tensorflow:From /home/Dropbox/OPE/Behavioral_OPE_SAC/halfcheetah/T-SNE/../../utils_latentPolicy_sac_lstm_zt_zt1_ensemble.py:583: The name tf.get_collection is deprecated. Please use tf.compat.v1.get_collection instead.\n",
      "\n",
      "\n"
     ]
    },
    {
     "name": "stderr",
     "output_type": "stream",
     "text": [
      "WARNING:tensorflow:From /home/Dropbox/OPE/Behavioral_OPE_SAC/halfcheetah/T-SNE/../../utils_latentPolicy_sac_lstm_zt_zt1_ensemble.py:583: The name tf.get_collection is deprecated. Please use tf.compat.v1.get_collection instead.\n",
      "\n"
     ]
    },
    {
     "name": "stdout",
     "output_type": "stream",
     "text": [
      "WARNING:tensorflow:From /home/Dropbox/OPE/Behavioral_OPE_SAC/halfcheetah/T-SNE/../../utils_latentPolicy_sac_lstm_zt_zt1_ensemble.py:583: The name tf.GraphKeys is deprecated. Please use tf.compat.v1.GraphKeys instead.\n",
      "\n"
     ]
    },
    {
     "name": "stderr",
     "output_type": "stream",
     "text": [
      "WARNING:tensorflow:From /home/Dropbox/OPE/Behavioral_OPE_SAC/halfcheetah/T-SNE/../../utils_latentPolicy_sac_lstm_zt_zt1_ensemble.py:583: The name tf.GraphKeys is deprecated. Please use tf.compat.v1.GraphKeys instead.\n",
      "\n"
     ]
    },
    {
     "name": "stdout",
     "output_type": "stream",
     "text": [
      "WARNING:tensorflow:From /home/Dropbox/OPE/Behavioral_OPE_SAC/halfcheetah/T-SNE/../../utils_latentPolicy_sac_lstm_zt_zt1_ensemble.py:587: The name tf.train.AdamOptimizer is deprecated. Please use tf.compat.v1.train.AdamOptimizer instead.\n",
      "\n"
     ]
    },
    {
     "name": "stderr",
     "output_type": "stream",
     "text": [
      "WARNING:tensorflow:From /home/Dropbox/OPE/Behavioral_OPE_SAC/halfcheetah/T-SNE/../../utils_latentPolicy_sac_lstm_zt_zt1_ensemble.py:587: The name tf.train.AdamOptimizer is deprecated. Please use tf.compat.v1.train.AdamOptimizer instead.\n",
      "\n"
     ]
    },
    {
     "name": "stdout",
     "output_type": "stream",
     "text": [
      "WARNING:tensorflow:From /home/Dropbox/OPE/Behavioral_OPE_SAC/halfcheetah/T-SNE/../../utils_latentPolicy_sac_lstm_zt_zt1_ensemble.py:581: The name tf.train.exponential_decay is deprecated. Please use tf.compat.v1.train.exponential_decay instead.\n",
      "\n"
     ]
    },
    {
     "name": "stderr",
     "output_type": "stream",
     "text": [
      "WARNING:tensorflow:From /home/Dropbox/OPE/Behavioral_OPE_SAC/halfcheetah/T-SNE/../../utils_latentPolicy_sac_lstm_zt_zt1_ensemble.py:581: The name tf.train.exponential_decay is deprecated. Please use tf.compat.v1.train.exponential_decay instead.\n",
      "\n"
     ]
    },
    {
     "name": "stdout",
     "output_type": "stream",
     "text": [
      "WARNING:tensorflow:From /home/Dropbox/OPE/Behavioral_OPE_SAC/halfcheetah/T-SNE/../../utils_latentPolicy_sac_lstm_zt_zt1_ensemble.py:581: The name tf.train.exponential_decay is deprecated. Please use tf.compat.v1.train.exponential_decay instead.\n",
      "\n"
     ]
    },
    {
     "name": "stderr",
     "output_type": "stream",
     "text": [
      "WARNING:tensorflow:From /home/Dropbox/OPE/Behavioral_OPE_SAC/halfcheetah/T-SNE/../../utils_latentPolicy_sac_lstm_zt_zt1_ensemble.py:581: The name tf.train.exponential_decay is deprecated. Please use tf.compat.v1.train.exponential_decay instead.\n",
      "\n"
     ]
    },
    {
     "name": "stdout",
     "output_type": "stream",
     "text": [
      "WARNING:tensorflow:From /home/Dropbox/OPE/Behavioral_OPE_SAC/halfcheetah/T-SNE/../../utils_latentPolicy_sac_lstm_zt_zt1_ensemble.py:583: The name tf.get_collection is deprecated. Please use tf.compat.v1.get_collection instead.\n",
      "\n"
     ]
    },
    {
     "name": "stderr",
     "output_type": "stream",
     "text": [
      "WARNING:tensorflow:From /home/Dropbox/OPE/Behavioral_OPE_SAC/halfcheetah/T-SNE/../../utils_latentPolicy_sac_lstm_zt_zt1_ensemble.py:583: The name tf.get_collection is deprecated. Please use tf.compat.v1.get_collection instead.\n",
      "\n"
     ]
    },
    {
     "name": "stdout",
     "output_type": "stream",
     "text": [
      "WARNING:tensorflow:From /home/Dropbox/OPE/Behavioral_OPE_SAC/halfcheetah/T-SNE/../../utils_latentPolicy_sac_lstm_zt_zt1_ensemble.py:583: The name tf.GraphKeys is deprecated. Please use tf.compat.v1.GraphKeys instead.\n",
      "\n"
     ]
    },
    {
     "name": "stderr",
     "output_type": "stream",
     "text": [
      "WARNING:tensorflow:From /home/Dropbox/OPE/Behavioral_OPE_SAC/halfcheetah/T-SNE/../../utils_latentPolicy_sac_lstm_zt_zt1_ensemble.py:583: The name tf.GraphKeys is deprecated. Please use tf.compat.v1.GraphKeys instead.\n",
      "\n"
     ]
    },
    {
     "name": "stdout",
     "output_type": "stream",
     "text": [
      "WARNING:tensorflow:From /home/Dropbox/OPE/Behavioral_OPE_SAC/halfcheetah/T-SNE/../../utils_latentPolicy_sac_lstm_zt_zt1_ensemble.py:587: The name tf.train.AdamOptimizer is deprecated. Please use tf.compat.v1.train.AdamOptimizer instead.\n",
      "\n",
      "WARNING:tensorflow:From /home/Dropbox/OPE/Behavioral_OPE_SAC/halfcheetah/T-SNE/../../utils_latentPolicy_sac_lstm_zt_zt1_ensemble.py:583: The name tf.get_collection is deprecated. Please use tf.compat.v1.get_collection instead.\n",
      "\n"
     ]
    },
    {
     "name": "stderr",
     "output_type": "stream",
     "text": [
      "WARNING:tensorflow:From /home/Dropbox/OPE/Behavioral_OPE_SAC/halfcheetah/T-SNE/../../utils_latentPolicy_sac_lstm_zt_zt1_ensemble.py:587: The name tf.train.AdamOptimizer is deprecated. Please use tf.compat.v1.train.AdamOptimizer instead.\n",
      "\n",
      "WARNING:tensorflow:From /home/Dropbox/OPE/Behavioral_OPE_SAC/halfcheetah/T-SNE/../../utils_latentPolicy_sac_lstm_zt_zt1_ensemble.py:583: The name tf.get_collection is deprecated. Please use tf.compat.v1.get_collection instead.\n",
      "\n"
     ]
    },
    {
     "name": "stdout",
     "output_type": "stream",
     "text": [
      "WARNING:tensorflow:From /home/Dropbox/OPE/Behavioral_OPE_SAC/halfcheetah/T-SNE/../../utils_latentPolicy_sac_lstm_zt_zt1_ensemble.py:583: The name tf.GraphKeys is deprecated. Please use tf.compat.v1.GraphKeys instead.\n",
      "\n"
     ]
    },
    {
     "name": "stderr",
     "output_type": "stream",
     "text": [
      "WARNING:tensorflow:From /home/Dropbox/OPE/Behavioral_OPE_SAC/halfcheetah/T-SNE/../../utils_latentPolicy_sac_lstm_zt_zt1_ensemble.py:583: The name tf.GraphKeys is deprecated. Please use tf.compat.v1.GraphKeys instead.\n",
      "\n"
     ]
    },
    {
     "name": "stdout",
     "output_type": "stream",
     "text": [
      "WARNING:tensorflow:From /home/Dropbox/OPE/Behavioral_OPE_SAC/halfcheetah/T-SNE/../../utils_latentPolicy_sac_lstm_zt_zt1_ensemble.py:587: The name tf.train.AdamOptimizer is deprecated. Please use tf.compat.v1.train.AdamOptimizer instead.\n",
      "\n"
     ]
    },
    {
     "name": "stderr",
     "output_type": "stream",
     "text": [
      "WARNING:tensorflow:From /home/Dropbox/OPE/Behavioral_OPE_SAC/halfcheetah/T-SNE/../../utils_latentPolicy_sac_lstm_zt_zt1_ensemble.py:587: The name tf.train.AdamOptimizer is deprecated. Please use tf.compat.v1.train.AdamOptimizer instead.\n",
      "\n"
     ]
    },
    {
     "name": "stdout",
     "output_type": "stream",
     "text": [
      "WARNING:tensorflow:From /home/Dropbox/OPE/Behavioral_OPE_SAC/halfcheetah/T-SNE/../../utils_latentPolicy_sac_lstm_zt_zt1_ensemble.py:607: The name tf.train.Saver is deprecated. Please use tf.compat.v1.train.Saver instead.\n",
      "\n"
     ]
    },
    {
     "name": "stderr",
     "output_type": "stream",
     "text": [
      "WARNING:tensorflow:From /home/Dropbox/OPE/Behavioral_OPE_SAC/halfcheetah/T-SNE/../../utils_latentPolicy_sac_lstm_zt_zt1_ensemble.py:607: The name tf.train.Saver is deprecated. Please use tf.compat.v1.train.Saver instead.\n",
      "\n"
     ]
    },
    {
     "name": "stdout",
     "output_type": "stream",
     "text": [
      "WARNING:tensorflow:From /home/Dropbox/OPE/Behavioral_OPE_SAC/halfcheetah/T-SNE/../../utils_latentPolicy_sac_lstm_zt_zt1_ensemble.py:607: The name tf.train.Saver is deprecated. Please use tf.compat.v1.train.Saver instead.\n",
      "\n"
     ]
    },
    {
     "name": "stderr",
     "output_type": "stream",
     "text": [
      "WARNING:tensorflow:From /home/Dropbox/OPE/Behavioral_OPE_SAC/halfcheetah/T-SNE/../../utils_latentPolicy_sac_lstm_zt_zt1_ensemble.py:607: The name tf.train.Saver is deprecated. Please use tf.compat.v1.train.Saver instead.\n",
      "\n"
     ]
    },
    {
     "name": "stdout",
     "output_type": "stream",
     "text": [
      "WARNING:tensorflow:From /home/Dropbox/OPE/Behavioral_OPE_SAC/halfcheetah/T-SNE/../../utils_latentPolicy_sac_lstm_zt_zt1_ensemble.py:607: The name tf.train.Saver is deprecated. Please use tf.compat.v1.train.Saver instead.\n",
      "\n"
     ]
    },
    {
     "name": "stderr",
     "output_type": "stream",
     "text": [
      "WARNING:tensorflow:From /home/Dropbox/OPE/Behavioral_OPE_SAC/halfcheetah/T-SNE/../../utils_latentPolicy_sac_lstm_zt_zt1_ensemble.py:607: The name tf.train.Saver is deprecated. Please use tf.compat.v1.train.Saver instead.\n",
      "\n"
     ]
    },
    {
     "name": "stdout",
     "output_type": "stream",
     "text": [
      "WARNING:tensorflow:From /home/Dropbox/OPE/Behavioral_OPE_SAC/halfcheetah/T-SNE/../../utils_latentPolicy_sac_lstm_zt_zt1_ensemble.py:607: The name tf.train.Saver is deprecated. Please use tf.compat.v1.train.Saver instead.\n",
      "\n"
     ]
    },
    {
     "name": "stderr",
     "output_type": "stream",
     "text": [
      "WARNING:tensorflow:From /home/Dropbox/OPE/Behavioral_OPE_SAC/halfcheetah/T-SNE/../../utils_latentPolicy_sac_lstm_zt_zt1_ensemble.py:607: The name tf.train.Saver is deprecated. Please use tf.compat.v1.train.Saver instead.\n",
      "\n"
     ]
    },
    {
     "name": "stdout",
     "output_type": "stream",
     "text": [
      "INFO:tensorflow:Restoring parameters from ../saved_model/OPE_SAC_latentPolicy_lstm_zt_zt1_ensemble_d4rlOnly_halfcheetah-medium-expert-v2_850epi_repeat1_0.0003_0.0007_1000_0.997_16_1.0_2599/ope_best.ckpt\n"
     ]
    },
    {
     "name": "stderr",
     "output_type": "stream",
     "text": [
      "INFO:tensorflow:Restoring parameters from ../saved_model/OPE_SAC_latentPolicy_lstm_zt_zt1_ensemble_d4rlOnly_halfcheetah-medium-expert-v2_850epi_repeat1_0.0003_0.0007_1000_0.997_16_1.0_2599/ope_best.ckpt\n"
     ]
    },
    {
     "name": "stdout",
     "output_type": "stream",
     "text": [
      "INFO:tensorflow:Restoring parameters from ../saved_model/OPE_SAC_latentPolicy_lstm_zt_zt1_ensemble_d4rlOnly_halfcheetah-medium-expert-v2_850epi_repeat1_0.0003_0.0007_1000_0.997_16_1.0_2599/ope_best.ckpt\n"
     ]
    },
    {
     "name": "stderr",
     "output_type": "stream",
     "text": [
      "INFO:tensorflow:Restoring parameters from ../saved_model/OPE_SAC_latentPolicy_lstm_zt_zt1_ensemble_d4rlOnly_halfcheetah-medium-expert-v2_850epi_repeat1_0.0003_0.0007_1000_0.997_16_1.0_2599/ope_best.ckpt\n"
     ]
    },
    {
     "name": "stdout",
     "output_type": "stream",
     "text": [
      "INFO:tensorflow:Restoring parameters from ../saved_model/OPE_SAC_latentPolicy_lstm_zt_zt1_ensemble_d4rlOnly_halfcheetah-medium-expert-v2_850epi_repeat1_0.0003_0.0007_1000_0.997_16_1.0_2599/ope_best.ckpt\n"
     ]
    },
    {
     "name": "stderr",
     "output_type": "stream",
     "text": [
      "INFO:tensorflow:Restoring parameters from ../saved_model/OPE_SAC_latentPolicy_lstm_zt_zt1_ensemble_d4rlOnly_halfcheetah-medium-expert-v2_850epi_repeat1_0.0003_0.0007_1000_0.997_16_1.0_2599/ope_best.ckpt\n"
     ]
    },
    {
     "name": "stdout",
     "output_type": "stream",
     "text": [
      "INFO:tensorflow:Restoring parameters from ../saved_model/OPE_SAC_latentPolicy_lstm_zt_zt1_ensemble_d4rlOnly_halfcheetah-medium-expert-v2_850epi_repeat1_0.0003_0.0007_1000_0.997_16_1.0_2599/ope_best.ckpt\n"
     ]
    },
    {
     "name": "stderr",
     "output_type": "stream",
     "text": [
      "INFO:tensorflow:Restoring parameters from ../saved_model/OPE_SAC_latentPolicy_lstm_zt_zt1_ensemble_d4rlOnly_halfcheetah-medium-expert-v2_850epi_repeat1_0.0003_0.0007_1000_0.997_16_1.0_2599/ope_best.ckpt\n",
      "load datafile: 100%|██████████| 9/9 [00:02<00:00,  3.25it/s]\n",
      "\n",
      "\n",
      "\n",
      "halfcheetah_online_4.data\t0:   0%|          | 0/999 [00:00<?, ?it/s]]2022-05-16 22:03:56.237224: I tensorflow/stream_executor/platform/default/dso_loader.cc:49] Successfully opened dynamic library libcublas.so.11\n",
      "2022-05-16 22:03:56.258937: I tensorflow/stream_executor/platform/default/dso_loader.cc:49] Successfully opened dynamic library libcublas.so.11\n",
      "2022-05-16 22:03:56.329864: I tensorflow/stream_executor/platform/default/dso_loader.cc:49] Successfully opened dynamic library libcublas.so.11\n",
      "2022-05-16 22:03:56.342602: I tensorflow/stream_executor/platform/default/dso_loader.cc:49] Successfully opened dynamic library libcublas.so.11\n",
      "2022-05-16 22:03:56.545809: I tensorflow/stream_executor/platform/default/dso_loader.cc:49] Successfully opened dynamic library libcudnn.so.8\n",
      "2022-05-16 22:03:56.567189: I tensorflow/stream_executor/platform/default/dso_loader.cc:49] Successfully opened dynamic library libcudnn.so.8\n",
      "2022-05-16 22:03:56.652568: I tensorflow/stream_executor/platform/default/dso_loader.cc:49] Successfully opened dynamic library libcudnn.so.8\n",
      "2022-05-16 22:03:56.658802: I tensorflow/stream_executor/platform/default/dso_loader.cc:49] Successfully opened dynamic library libcudnn.so.8\n",
      "halfcheetah_online_3.data\t0:  94%|█████████▍| 942/999 [00:04<00:00, 328.64it/s]]\n",
      "halfcheetah_online_10.data\t0: 100%|██████████| 999/999 [00:04<00:00, 243.21it/s]\n",
      "halfcheetah_online_3.data\t0: 100%|██████████| 999/999 [00:04<00:00, 238.27it/s]\n",
      "halfcheetah_online_4.data\t0: 100%|██████████| 999/999 [00:04<00:00, 238.37it/s]\n",
      "halfcheetah_online_0.data\t1: 100%|██████████| 999/999 [00:03<00:00, 328.37it/s]]\n",
      "halfcheetah_online_10.data\t1: 100%|██████████| 999/999 [00:03<00:00, 329.02it/s]\n",
      "halfcheetah_online_3.data\t1: 100%|██████████| 999/999 [00:03<00:00, 329.02it/s]\n",
      "halfcheetah_online_4.data\t1: 100%|██████████| 999/999 [00:03<00:00, 328.50it/s]\n",
      "halfcheetah_online_10.data\t2: 100%|██████████| 999/999 [00:03<00:00, 329.79it/s]\n",
      "halfcheetah_online_0.data\t2: 100%|██████████| 999/999 [00:03<00:00, 328.03it/s]\n",
      "halfcheetah_online_3.data\t2: 100%|██████████| 999/999 [00:03<00:00, 328.07it/s]\n",
      "halfcheetah_online_4.data\t2: 100%|██████████| 999/999 [00:03<00:00, 327.57it/s]\n",
      "halfcheetah_online_10.data\t3: 100%|██████████| 999/999 [00:03<00:00, 329.45it/s]\n",
      "halfcheetah_online_0.data\t3: 100%|██████████| 999/999 [00:03<00:00, 328.70it/s]\n",
      "halfcheetah_online_3.data\t3: 100%|██████████| 999/999 [00:03<00:00, 328.61it/s]\n",
      "halfcheetah_online_4.data\t3: 100%|██████████| 999/999 [00:03<00:00, 328.60it/s]\n",
      "halfcheetah_online_10.data\t4: 100%|██████████| 999/999 [00:03<00:00, 328.95it/s]\n",
      "halfcheetah_online_0.data\t4: 100%|██████████| 999/999 [00:03<00:00, 327.75it/s]\n",
      "halfcheetah_online_3.data\t4: 100%|██████████| 999/999 [00:03<00:00, 329.56it/s]\n",
      "halfcheetah_online_4.data\t4: 100%|██████████| 999/999 [00:03<00:00, 328.31it/s]\n",
      "halfcheetah_online_10.data\t5: 100%|██████████| 999/999 [00:03<00:00, 326.62it/s]\n",
      "halfcheetah_online_0.data\t5: 100%|██████████| 999/999 [00:03<00:00, 325.97it/s]\n",
      "halfcheetah_online_3.data\t5: 100%|██████████| 999/999 [00:03<00:00, 326.86it/s]\n",
      "halfcheetah_online_4.data\t5: 100%|██████████| 999/999 [00:03<00:00, 326.26it/s]\n",
      "halfcheetah_online_10.data\t6: 100%|██████████| 999/999 [00:03<00:00, 326.45it/s]\n",
      "halfcheetah_online_0.data\t6: 100%|██████████| 999/999 [00:03<00:00, 325.75it/s]\n",
      "halfcheetah_online_3.data\t6: 100%|██████████| 999/999 [00:03<00:00, 326.55it/s]\n",
      "halfcheetah_online_4.data\t6: 100%|██████████| 999/999 [00:03<00:00, 325.60it/s]\n",
      "halfcheetah_online_10.data\t7: 100%|██████████| 999/999 [00:03<00:00, 326.61it/s]\n",
      "halfcheetah_online_0.data\t7: 100%|██████████| 999/999 [00:03<00:00, 325.41it/s]\n",
      "halfcheetah_online_3.data\t7: 100%|██████████| 999/999 [00:03<00:00, 325.15it/s]\n",
      "halfcheetah_online_4.data\t7: 100%|██████████| 999/999 [00:03<00:00, 326.52it/s]\n",
      "halfcheetah_online_10.data\t8: 100%|██████████| 999/999 [00:03<00:00, 325.06it/s]\n",
      "halfcheetah_online_0.data\t8: 100%|██████████| 999/999 [00:03<00:00, 324.73it/s]\n",
      "halfcheetah_online_3.data\t8: 100%|██████████| 999/999 [00:03<00:00, 325.80it/s]\n",
      "halfcheetah_online_4.data\t8: 100%|██████████| 999/999 [00:03<00:00, 326.25it/s]\n",
      "halfcheetah_online_10.data\t9: 100%|██████████| 999/999 [00:03<00:00, 324.87it/s]\n",
      "halfcheetah_online_0.data\t9: 100%|██████████| 999/999 [00:03<00:00, 327.83it/s]\n",
      "halfcheetah_online_3.data\t9: 100%|██████████| 999/999 [00:02<00:00, 333.15it/s]\n",
      "halfcheetah_online_4.data\t9: 100%|██████████| 999/999 [00:02<00:00, 334.79it/s]\n",
      "/home/anaconda3/envs/ope_py37/lib/python3.8/site-packages/gym/spaces/box.py:78: UserWarning: \u001b[33mWARN: Box bound precision lowered by casting to float32\u001b[0m\n",
      "  logger.warn(f\"Box bound precision lowered by casting to {self.dtype}\")\n",
      "/home/anaconda3/envs/ope_py37/lib/python3.8/site-packages/gym/spaces/box.py:78: UserWarning: \u001b[33mWARN: Box bound precision lowered by casting to float32\u001b[0m\n",
      "  logger.warn(f\"Box bound precision lowered by casting to {self.dtype}\")\n",
      "/home/anaconda3/envs/ope_py37/lib/python3.8/site-packages/gym/spaces/box.py:78: UserWarning: \u001b[33mWARN: Box bound precision lowered by casting to float32\u001b[0m\n",
      "  logger.warn(f\"Box bound precision lowered by casting to {self.dtype}\")\n",
      "/home/anaconda3/envs/ope_py37/lib/python3.8/site-packages/gym/spaces/box.py:78: UserWarning: \u001b[33mWARN: Box bound precision lowered by casting to float32\u001b[0m\n",
      "  logger.warn(f\"Box bound precision lowered by casting to {self.dtype}\")\n"
     ]
    },
    {
     "name": "stdout",
     "output_type": "stream",
     "text": [
      "self.encoder_zt_out_from_st_dist tfp.distributions.MultivariateNormalDiag(\"Encoder_zt_MultivariateNormalDiag\", batch_shape=[?], event_shape=[16], dtype=float32)\n",
      "self.encoder_zt_out_from_st_sample Tensor(\"Encoder_zt/Encoder_zt_MultivariateNormalDiag/sample/Encoder_zt_MultivariateNormalDiag_affine_linear_operator/forward/add:0\", shape=(?, 16), dtype=float32)\n",
      "self.encoder_zt1_out_from_st1_dist tfp.distributions.MultivariateNormalDiag(\"Encoder_zt_MultivariateNormalDiag_1\", batch_shape=[?], event_shape=[16], dtype=float32)\n",
      "self.encoder_zt1_out_from_st1_sample Tensor(\"Encoder_zt/Encoder_zt_MultivariateNormalDiag_1/sample/Encoder_zt_MultivariateNormalDiag_1_affine_linear_operator/forward/add:0\", shape=(?, 16), dtype=float32)\n",
      "self.encoder_zt_out_from_st_dist tfp.distributions.MultivariateNormalDiag(\"Encoder_zt_MultivariateNormalDiag\", batch_shape=[?], event_shape=[16], dtype=float32)\n",
      "self.encoder_zt_out_from_st_sample Tensor(\"Encoder_zt/Encoder_zt_MultivariateNormalDiag/sample/Encoder_zt_MultivariateNormalDiag_affine_linear_operator/forward/add:0\", shape=(?, 16), dtype=float32)\n",
      "self.encoder_zt1_out_from_st1_dist tfp.distributions.MultivariateNormalDiag(\"Encoder_zt_MultivariateNormalDiag_1\", batch_shape=[?], event_shape=[16], dtype=float32)\n",
      "self.encoder_zt1_out_from_st1_sample Tensor(\"Encoder_zt/Encoder_zt_MultivariateNormalDiag_1/sample/Encoder_zt_MultivariateNormalDiag_1_affine_linear_operator/forward/add:0\", shape=(?, 16), dtype=float32)\n",
      "self.encoder_zt1_out_from_zt_dist tfp.distributions.MultivariateNormalDiag(\"Encoder_zt1_1_MultivariateNormalDiag\", batch_shape=[?], event_shape=[16], dtype=float32)\n",
      "self.encoder_zt1_out_from_zt_sample Tensor(\"Encoder_zt1_1/Encoder_zt1_1_MultivariateNormalDiag/sample/Encoder_zt1_1_MultivariateNormalDiag_affine_linear_operator/forward/add:0\", shape=(?, 16), dtype=float32)\n",
      "self.encoder_lstm_state Tensor(\"Encoder_zt1/concat_1:0\", shape=(?, 128), dtype=float32)\n",
      "self.encoder_zt_out_from_st_dist tfp.distributions.MultivariateNormalDiag(\"Encoder_zt_MultivariateNormalDiag\", batch_shape=[?], event_shape=[16], dtype=float32)\n",
      "self.encoder_zt_out_from_st_sample Tensor(\"Encoder_zt/Encoder_zt_MultivariateNormalDiag/sample/Encoder_zt_MultivariateNormalDiag_affine_linear_operator/forward/add:0\", shape=(?, 16), dtype=float32)\n",
      "self.encoder_zt1_out_from_st1_dist tfp.distributions.MultivariateNormalDiag(\"Encoder_zt_MultivariateNormalDiag_1\", batch_shape=[?], event_shape=[16], dtype=float32)\n",
      "self.encoder_zt1_out_from_st1_sample"
     ]
    },
    {
     "name": "stderr",
     "output_type": "stream",
     "text": [
      "2022-05-16 22:04:27.564345: I tensorflow/stream_executor/cuda/cuda_gpu_executor.cc:1082] successful NUMA node read from SysFS had negative value (-1), but there must be at least one NUMA node, so returning NUMA node zero\n",
      "2022-05-16 22:04:27.564646: I tensorflow/core/common_runtime/gpu/gpu_device.cc:1665] Found device 0 with properties: \n",
      "name: NVIDIA RTX A5000 major: 8 minor: 6 memoryClockRate(GHz): 1.695\n",
      "pciBusID: 0000:61:00.0\n",
      "2022-05-16 22:04:27.564670: I tensorflow/stream_executor/platform/default/dso_loader.cc:49] Successfully opened dynamic library libcudart.so.11.0\n",
      "2022-05-16 22:04:27.564708: I tensorflow/stream_executor/platform/default/dso_loader.cc:49] Successfully opened dynamic library libcublas.so.11\n",
      "2022-05-16 22:04:27.564720: I tensorflow/stream_executor/platform/default/dso_loader.cc:49] Successfully opened dynamic library libcufft.so.10\n",
      "2022-05-16 22:04:27.564731: I tensorflow/stream_executor/platform/default/dso_loader.cc:49] Successfully opened dynamic library libcurand.so.10\n",
      "2022-05-16 22:04:27.564742: I tensorflow/stream_executor/platform/default/dso_loader.cc:49] Successfully opened dynamic library libcusolver.so.11\n",
      "2022-05-16 22:04:27.564752: I tensorflow/stream_executor/platform/default/dso_loader.cc:49] Successfully opened dynamic library libcusparse.so.11\n",
      "2022-05-16 22:04:27.564763: I tensorflow/stream_executor/platform/default/dso_loader.cc:49] Successfully opened dynamic library libcudnn.so.8\n",
      "2022-05-16 22:04:27.564815: I tensorflow/stream_executor/cuda/cuda_gpu_executor.cc:1082] successful NUMA node read from SysFS had negative value (-1), but there must be at least one NUMA node, so returning NUMA node zero\n",
      "2022-05-16 22:04:27.565074: I tensorflow/stream_executor/cuda/cuda_gpu_executor.cc:1082] successful NUMA node read from SysFS had negative value (-1), but there must be at least one NUMA node, so returning NUMA node zero\n",
      "2022-05-16 22:04:27.565312: I tensorflow/core/common_runtime/gpu/gpu_device.cc:1793] Adding visible gpu devices: 0\n",
      "2022-05-16 22:04:27.565335: I tensorflow/core/common_runtime/gpu/gpu_device.cc:1206] Device interconnect StreamExecutor with strength 1 edge matrix:\n",
      "2022-05-16 22:04:27.565339: I tensorflow/core/common_runtime/gpu/gpu_device.cc:1212]      0 \n",
      "2022-05-16 22:04:27.565342: I tensorflow/core/common_runtime/gpu/gpu_device.cc:1225] 0:   N \n",
      "2022-05-16 22:04:27.565414: I tensorflow/stream_executor/cuda/cuda_gpu_executor.cc:1082] successful NUMA node read from SysFS had negative value (-1), but there must be at least one NUMA node, so returning NUMA node zero\n",
      "2022-05-16 22:04:27.565675: I tensorflow/stream_executor/cuda/cuda_gpu_executor.cc:1082] successful NUMA node read from SysFS had negative value (-1), but there must be at least one NUMA node, so returning NUMA node zero\n",
      "2022-05-16 22:04:27.565898: I tensorflow/core/common_runtime/gpu/gpu_device.cc:1351] Created TensorFlow device (/job:localhost/replica:0/task:0/device:GPU:0 with 21445 MB memory) -> physical GPU (device: 0, name: NVIDIA RTX A5000, pci bus id: 0000:61:00.0, compute capability: 8.6)\n",
      "2022-05-16 22:04:27.588785: I tensorflow/stream_executor/cuda/cuda_gpu_executor.cc:1082] successful NUMA node read from SysFS had negative value (-1), but there must be at least one NUMA node, so returning NUMA node zero\n",
      "2022-05-16 22:04:27.589079: I tensorflow/core/common_runtime/gpu/gpu_device.cc:1665] Found device 0 with properties: \n",
      "name: NVIDIA RTX A5000 major: 8 minor: 6 memoryClockRate(GHz): 1.695\n",
      "pciBusID: 0000:61:00.0\n",
      "2022-05-16 22:04:27.589106: I tensorflow/stream_executor/platform/default/dso_loader.cc:49] Successfully opened dynamic library libcudart.so.11.0\n",
      "2022-05-16 22:04:27.589169: I tensorflow/stream_executor/platform/default/dso_loader.cc:49] Successfully opened dynamic library libcublas.so.11\n",
      "2022-05-16 22:04:27.589185: I tensorflow/stream_executor/platform/default/dso_loader.cc:49] Successfully opened dynamic library libcufft.so.10\n",
      "2022-05-16 22:04:27.589199: I tensorflow/stream_executor/platform/default/dso_loader.cc:49] Successfully opened dynamic library libcurand.so.10\n",
      "2022-05-16 22:04:27.589212: I tensorflow/stream_executor/platform/default/dso_loader.cc:49] Successfully opened dynamic library libcusolver.so.11\n",
      "2022-05-16 22:04:27.589225: I tensorflow/stream_executor/platform/default/dso_loader.cc:49] Successfully opened dynamic library libcusparse.so.11\n",
      "2022-05-16 22:04:27.589238: I tensorflow/stream_executor/platform/default/dso_loader.cc:49] Successfully opened dynamic library libcudnn.so.8\n",
      "2022-05-16 22:04:27.589292: I tensorflow/stream_executor/cuda/cuda_gpu_executor.cc:1082] successful NUMA node read from SysFS had negative value (-1), but there must be at least one NUMA node, so returning NUMA node zero\n",
      "2022-05-16 22:04:27.589549: I tensorflow/stream_executor/cuda/cuda_gpu_executor.cc:1082] successful NUMA node read from SysFS had negative value (-1), but there must be at least one NUMA node, so returning NUMA node zero\n",
      "2022-05-16 22:04:27.589758: I tensorflow/core/common_runtime/gpu/gpu_device.cc:1793] Adding visible gpu devices: 0\n",
      "2022-05-16 22:04:27.589780: I tensorflow/core/common_runtime/gpu/gpu_device.cc:1206] Device interconnect StreamExecutor with strength 1 edge matrix:\n",
      "2022-05-16 22:04:27.589784: I tensorflow/core/common_runtime/gpu/gpu_device.cc:1212]      0 \n",
      "2022-05-16 22:04:27.589788: I tensorflow/core/common_runtime/gpu/gpu_device.cc:1225] 0:   N \n",
      "2022-05-16 22:04:27.589859: I tensorflow/stream_executor/cuda/cuda_gpu_executor.cc:1082] successful NUMA node read from SysFS had negative value (-1), but there must be at least one NUMA node, so returning NUMA node zero\n",
      "2022-05-16 22:04:27.590118: I tensorflow/stream_executor/cuda/cuda_gpu_executor.cc:1082] successful NUMA node read from SysFS had negative value (-1), but there must be at least one NUMA node, so returning NUMA node zero\n",
      "2022-05-16 22:04:27.590337: I tensorflow/core/common_runtime/gpu/gpu_device.cc:1351] Created TensorFlow device (/job:localhost/replica:0/task:0/device:GPU:0 with 21445 MB memory) -> physical GPU (device: 0, name: NVIDIA RTX A5000, pci bus id: 0000:61:00.0, compute capability: 8.6)\n",
      "2022-05-16 22:04:27.657975: I tensorflow/stream_executor/cuda/cuda_gpu_executor.cc:1082] successful NUMA node read from SysFS had negative value (-1), but there must be at least one NUMA node, so returning NUMA node zero\n",
      "2022-05-16 22:04:27.658269: I tensorflow/core/common_runtime/gpu/gpu_device.cc:1665] Found device 0 with properties: \n",
      "name: NVIDIA RTX A5000 major: 8 minor: 6 memoryClockRate(GHz): 1.695\n",
      "pciBusID: 0000:61:00.0\n",
      "2022-05-16 22:04:27.658293: I tensorflow/stream_executor/platform/default/dso_loader.cc:49] Successfully opened dynamic library libcudart.so.11.0\n",
      "2022-05-16 22:04:27.658332: I tensorflow/stream_executor/platform/default/dso_loader.cc:49] Successfully opened dynamic library libcublas.so.11\n",
      "2022-05-16 22:04:27.658344: I tensorflow/stream_executor/platform/default/dso_loader.cc:49] Successfully opened dynamic library libcufft.so.10\n",
      "2022-05-16 22:04:27.658355: I tensorflow/stream_executor/platform/default/dso_loader.cc:49] Successfully opened dynamic library libcurand.so.10\n",
      "2022-05-16 22:04:27.658365: I tensorflow/stream_executor/platform/default/dso_loader.cc:49] Successfully opened dynamic library libcusolver.so.11\n",
      "2022-05-16 22:04:27.658376: I tensorflow/stream_executor/platform/default/dso_loader.cc:49] Successfully opened dynamic library libcusparse.so.11\n",
      "2022-05-16 22:04:27.658386: I tensorflow/stream_executor/platform/default/dso_loader.cc:49] Successfully opened dynamic library libcudnn.so.8\n",
      "2022-05-16 22:04:27.658438: I tensorflow/stream_executor/cuda/cuda_gpu_executor.cc:1082] successful NUMA node read from SysFS had negative value (-1), but there must be at least one NUMA node, so returning NUMA node zero\n",
      "2022-05-16 22:04:27.658692: I tensorflow/stream_executor/cuda/cuda_gpu_executor.cc:1082] successful NUMA node read from SysFS had negative value (-1), but there must be at least one NUMA node, so returning NUMA node zero\n",
      "2022-05-16 22:04:27.658900: I tensorflow/core/common_runtime/gpu/gpu_device.cc:1793] Adding visible gpu devices: 0\n",
      "2022-05-16 22:04:27.658922: I tensorflow/core/common_runtime/gpu/gpu_device.cc:1206] Device interconnect StreamExecutor with strength 1 edge matrix:\n",
      "2022-05-16 22:04:27.658926: I tensorflow/core/common_runtime/gpu/gpu_device.cc:1212]      0 \n",
      "2022-05-16 22:04:27.658930: I tensorflow/core/common_runtime/gpu/gpu_device.cc:1225] 0:   N \n",
      "2022-05-16 22:04:27.659001: I tensorflow/stream_executor/cuda/cuda_gpu_executor.cc:1082] successful NUMA node read from SysFS had negative value (-1), but there must be at least one NUMA node, so returning NUMA node zero\n",
      "2022-05-16 22:04:27.659256: I tensorflow/stream_executor/cuda/cuda_gpu_executor.cc:1082] successful NUMA node read from SysFS had negative value (-1), but there must be at least one NUMA node, so returning NUMA node zero\n",
      "2022-05-16 22:04:27.659472: I tensorflow/core/common_runtime/gpu/gpu_device.cc:1351] Created TensorFlow device (/job:localhost/replica:0/task:0/device:GPU:0 with 21453 MB memory) -> physical GPU (device: 0, name: NVIDIA RTX A5000, pci bus id: 0000:61:00.0, compute capability: 8.6)\n",
      "2022-05-16 22:04:27.673492: I tensorflow/stream_executor/cuda/cuda_gpu_executor.cc:1082] successful NUMA node read from SysFS had negative value (-1), but there must be at least one NUMA node, so returning NUMA node zero\n",
      "2022-05-16 22:04:27.673786: I tensorflow/core/common_runtime/gpu/gpu_device.cc:1665] Found device 0 with properties: \n",
      "name: NVIDIA RTX A5000 major: 8 minor: 6 memoryClockRate(GHz): 1.695\n",
      "pciBusID: 0000:61:00.0\n",
      "2022-05-16 22:04:27.673814: I tensorflow/stream_executor/platform/default/dso_loader.cc:49] Successfully opened dynamic library libcudart.so.11.0\n",
      "2022-05-16 22:04:27.673858: I tensorflow/stream_executor/platform/default/dso_loader.cc:49] Successfully opened dynamic library libcublas.so.11\n",
      "2022-05-16 22:04:27.673873: I tensorflow/stream_executor/platform/default/dso_loader.cc:49] Successfully opened dynamic library libcufft.so.10\n",
      "2022-05-16 22:04:27.673886: I tensorflow/stream_executor/platform/default/dso_loader.cc:49] Successfully opened dynamic library libcurand.so.10\n",
      "2022-05-16 22:04:27.673899: I tensorflow/stream_executor/platform/default/dso_loader.cc:49] Successfully opened dynamic library libcusolver.so.11\n",
      "2022-05-16 22:04:27.673912: I tensorflow/stream_executor/platform/default/dso_loader.cc:49] Successfully opened dynamic library libcusparse.so.11\n",
      "2022-05-16 22:04:27.673925: I tensorflow/stream_executor/platform/default/dso_loader.cc:49] Successfully opened dynamic library libcudnn.so.8\n",
      "2022-05-16 22:04:27.673977: I tensorflow/stream_executor/cuda/cuda_gpu_executor.cc:1082] successful NUMA node read from SysFS had negative value (-1), but there must be at least one NUMA node, so returning NUMA node zero\n",
      "2022-05-16 22:04:27.674234: I tensorflow/stream_executor/cuda/cuda_gpu_executor.cc:1082] successful NUMA node read from SysFS had negative value (-1), but there must be at least one NUMA node, so returning NUMA node zero\n",
      "2022-05-16 22:04:27.674444: I tensorflow/core/common_runtime/gpu/gpu_device.cc:1793] Adding visible gpu devices: 0\n",
      "2022-05-16 22:04:27.674466: I tensorflow/core/common_runtime/gpu/gpu_device.cc:1206] Device interconnect StreamExecutor with strength 1 edge matrix:\n",
      "2022-05-16 22:04:27.674470: I tensorflow/core/common_runtime/gpu/gpu_device.cc:1212]      0 \n",
      "2022-05-16 22:04:27.674474: I tensorflow/core/common_runtime/gpu/gpu_device.cc:1225] 0:   N \n",
      "2022-05-16 22:04:27.674545: I tensorflow/stream_executor/cuda/cuda_gpu_executor.cc:1082] successful NUMA node read from SysFS had negative value (-1), but there must be at least one NUMA node, so returning NUMA node zero\n",
      "2022-05-16 22:04:27.674800: I tensorflow/stream_executor/cuda/cuda_gpu_executor.cc:1082] successful NUMA node read from SysFS had negative value (-1), but there must be at least one NUMA node, so returning NUMA node zero\n",
      "2022-05-16 22:04:27.675019: I tensorflow/core/common_runtime/gpu/gpu_device.cc:1351] Created TensorFlow device (/job:localhost/replica:0/task:0/device:GPU:0 with 21437 MB memory) -> physical GPU (device: 0, name: NVIDIA RTX A5000, pci bus id: 0000:61:00.0, compute capability: 8.6)\n"
     ]
    },
    {
     "name": "stdout",
     "output_type": "stream",
     "text": [
      " Tensor(\"Encoder_zt/Encoder_zt_MultivariateNormalDiag_1/sample/Encoder_zt_MultivariateNormalDiag_1_affine_linear_operator/forward/add:0\", shape=(?, 16), dtype=float32)\n",
      "self.encoder_zt_out_from_st_dist tfp.distributions.MultivariateNormalDiag(\"Encoder_zt_MultivariateNormalDiag\", batch_shape=[?], event_shape=[16], dtype=float32)\n",
      "self.encoder_zt_out_from_st_sample Tensor(\"Encoder_zt/Encoder_zt_MultivariateNormalDiag/sample/Encoder_zt_MultivariateNormalDiag_affine_linear_operator/forward/add:0\", shape=(?, 16), dtype=float32)\n",
      "self.encoder_zt1_out_from_st1_dist tfp.distributions.MultivariateNormalDiag(\"Encoder_zt_MultivariateNormalDiag_1\", batch_shape=[?], event_shape=[16], dtype=float32)\n",
      "self.encoder_zt1_out_from_st1_sampleself.encoder_zt1_out_from_zt_dist  Tensor(\"Encoder_zt/Encoder_zt_MultivariateNormalDiag_1/sample/Encoder_zt_MultivariateNormalDiag_1_affine_linear_operator/forward/add:0\", shape=(?, 16), dtype=float32)\n",
      "tfp.distributions.MultivariateNormalDiag(\"Encoder_zt1_1_MultivariateNormalDiag\", batch_shape=[?], event_shape=[16], dtype=float32)\n",
      "self.encoder_zt1_out_from_zt_sample Tensor(\"Encoder_zt1_1/Encoder_zt1_1_MultivariateNormalDiag/sample/Encoder_zt1_1_MultivariateNormalDiag_affine_linear_operator/forward/add:0\", shape=(?, 16), dtype=float32)\n",
      "self.encoder_lstm_state Tensor(\"Encoder_zt1/concat_1:0\", shape=(?, 128), dtype=float32)\n",
      "new_lstm_state Tensor(\"Decoder_zt1_0/concat_1:0\", shape=(?, 128), dtype=float32)\n",
      "new_lstm_state Tensor(\"Decoder_zt1_0/concat_1:0\", shape=(?, 128), dtype=float32)\n",
      "self.encoder_zt1_out_from_zt_dist tfp.distributions.MultivariateNormalDiag(\"Encoder_zt1_1_MultivariateNormalDiag\", batch_shape=[?], event_shape=[16], dtype=float32)\n",
      "self.encoder_zt1_out_from_zt_sample Tensor(\"Encoder_zt1_1/Encoder_zt1_1_MultivariateNormalDiag/sample/Encoder_zt1_1_MultivariateNormalDiag_affine_linear_operator/forward/add:0\", shape=(?, 16), dtype=float32)\n",
      "self.encoder_lstm_state Tensor(\"Encoder_zt1/concat_1:0\", shape=(?, 128), dtype=float32)\n",
      "self.encoder_zt1_out_from_zt_dist tfp.distributions.MultivariateNormalDiag(\"Encoder_zt1_1_MultivariateNormalDiag\", batch_shape=[?], event_shape=[16], dtype=float32)\n",
      "self.encoder_zt1_out_from_zt_sample Tensor(\"Encoder_zt1_1/Encoder_zt1_1_MultivariateNormalDiag/sample/Encoder_zt1_1_MultivariateNormalDiag_affine_linear_operator/forward/add:0\", shape=(?, 16), dtype=float32)\n",
      "self.encoder_lstm_state Tensor(\"Encoder_zt1/concat_1:0\", shape=(?, 128), dtype=float32)\n",
      "new_lstm_state Tensor(\"Decoder_zt1_0/concat_1:0\", shape=(?, 128), dtype=float32)\n",
      "new_lstm_state Tensor(\"Decoder_zt1_0/concat_1:0\", shape=(?, 128), dtype=float32)\n",
      "self.decoder_zt1_sample Tensor(\"Decoder_zt1_0/Decoder_zt1_0_MultivariateNormalDiag/sample/Decoder_zt1_0_MultivariateNormalDiag_affine_linear_operator/forward/add:0\", shape=(?, 16), dtype=float32)\n",
      "self.decoder_zt1_dist tfp.distributions.MultivariateNormalDiag(\"Decoder_zt1_0_MultivariateNormalDiag\", batch_shape=[?], event_shape=[16], dtype=float32)\n",
      "self.decoder_lstm_state Tensor(\"Decoder_zt1_0/map_lstm_states/out/Relu:0\", shape=(?, 128), dtype=float32)\n",
      "self.decoder_zt1_sample Tensor(\"Decoder_zt1_0/Decoder_zt1_0_MultivariateNormalDiag/sample/Decoder_zt1_0_MultivariateNormalDiag_affine_linear_operator/forward/add:0\", shape=(?, 16), dtype=float32)\n",
      "self.decoder_zt1_dist tfp.distributions.MultivariateNormalDiag(\"Decoder_zt1_0_MultivariateNormalDiag\", batch_shape=[?], event_shape=[16], dtype=float32)\n",
      "self.decoder_lstm_state Tensor(\"Decoder_zt1_0/map_lstm_states/out/Relu:0\", shape=(?, 128), dtype=float32)\n",
      "self.decoder_state_log_prob self.decoder_zt1_sampleTensor(\"Decoder_state_0_1/Decoder_state_0_1_MultivariateNormalDiag_1/log_prob/add:0\", shape=(?,), dtype=float32) \n",
      "Tensor(\"Decoder_zt1_0/Decoder_zt1_0_MultivariateNormalDiag/sample/Decoder_zt1_0_MultivariateNormalDiag_affine_linear_operator/forward/add:0\", shape=(?, 16), dtype=float32)self.decoder_state_sample\n",
      " self.decoder_zt1_dist Tensor(\"Decoder_state_0_1/Decoder_state_0_1_MultivariateNormalDiag/sample/Decoder_state_0_1_MultivariateNormalDiag_affine_linear_operator/forward/add:0\", shape=(?, 17), dtype=float32)tfp.distributions.MultivariateNormalDiag(\"Decoder_zt1_0_MultivariateNormalDiag\", batch_shape=[?], event_shape=[16], dtype=float32)\n",
      "\n",
      "self.decoder_r_dissself.decoder_lstm_state  Tensor(\"Decoder_zt1_0/map_lstm_states/out/Relu:0\", shape=(?, 128), dtype=float32)\n",
      "tfp.distributions.MultivariateNormalDiag(\"Decoder_reward_0_MultivariateNormalDiag\", batch_shape=[?], event_shape=[1], dtype=float32)\n",
      "self.decoder_r_sample Tensor(\"Decoder_reward_0/Decoder_reward_0_MultivariateNormalDiag/sample/Decoder_reward_0_MultivariateNormalDiag_affine_linear_operator/forward/add:0\", shape=(?, 1), dtype=float32)\n",
      "self.decoder_zt1_sample Tensor(\"Decoder_zt1_0/Decoder_zt1_0_MultivariateNormalDiag/sample/Decoder_zt1_0_MultivariateNormalDiag_affine_linear_operator/forward/add:0\", shape=(?, 16), dtype=float32)\n",
      "self.decoder_zt1_dist tfp.distributions.MultivariateNormalDiag(\"Decoder_zt1_0_MultivariateNormalDiag\", batch_shape=[?], event_shape=[16], dtype=float32)\n",
      "self.decoder_lstm_state Tensor(\"Decoder_zt1_0/map_lstm_states/out/Relu:0\", shape=(?, 128), dtype=float32)\n",
      "new_lstm_state Tensor(\"Decoder_zt1_1/concat_1:0\", shape=(?, 128), dtype=float32)\n",
      "self.decoder_state_log_prob Tensor(\"Decoder_state_0_1/Decoder_state_0_1_MultivariateNormalDiag_1/log_prob/add:0\", shape=(?,), dtype=float32)\n",
      "self.decoder_state_sample Tensor(\"Decoder_state_0_1/Decoder_state_0_1_MultivariateNormalDiag/sample/Decoder_state_0_1_MultivariateNormalDiag_affine_linear_operator/forward/add:0\", shape=(?, 17), dtype=float32)\n",
      "self.decoder_r_diss tfp.distributions.MultivariateNormalDiag(\"Decoder_reward_0_MultivariateNormalDiag\", batch_shape=[?], event_shape=[1], dtype=float32)\n",
      "self.decoder_r_sample Tensor(\"Decoder_reward_0/Decoder_reward_0_MultivariateNormalDiag/sample/Decoder_reward_0_MultivariateNormalDiag_affine_linear_operator/forward/add:0\", shape=(?, 1), dtype=float32)\n",
      "new_lstm_state Tensor(\"Decoder_zt1_1/concat_1:0\", shape=(?, 128), dtype=float32)\n",
      "self.decoder_state_log_prob Tensor(\"Decoder_state_0_1/Decoder_state_0_1_MultivariateNormalDiag_1/log_prob/add:0\", shape=(?,), dtype=float32)\n",
      "self.decoder_state_sample Tensor(\"Decoder_state_0_1/Decoder_state_0_1_MultivariateNormalDiag/sample/Decoder_state_0_1_MultivariateNormalDiag_affine_linear_operator/forward/add:0\", shape=(?, 17), dtype=float32)\n",
      "self.decoder_r_diss tfp.distributions.MultivariateNormalDiag(\"Decoder_reward_0_MultivariateNormalDiag\", batch_shape=[?], event_shape=[1], dtype=float32)\n",
      "self.decoder_r_sample Tensor(\"Decoder_reward_0/Decoder_reward_0_MultivariateNormalDiag/sample/Decoder_reward_0_MultivariateNormalDiag_affine_linear_operator/forward/add:0\", shape=(?, 1), dtype=float32)\n",
      "self.decoder_state_log_prob Tensor(\"Decoder_state_0_1/Decoder_state_0_1_MultivariateNormalDiag_1/log_prob/add:0\", shape=(?,), dtype=float32)\n",
      "self.decoder_state_sample Tensor(\"Decoder_state_0_1/Decoder_state_0_1_MultivariateNormalDiag/sample/Decoder_state_0_1_MultivariateNormalDiag_affine_linear_operator/forward/add:0\", shape=(?, 17), dtype=float32)\n",
      "self.decoder_r_diss tfp.distributions.MultivariateNormalDiag(\"Decoder_reward_0_MultivariateNormalDiag\", batch_shape=[?], event_shape=[1], dtype=float32)\n",
      "self.decoder_r_sample Tensor(\"Decoder_reward_0/Decoder_reward_0_MultivariateNormalDiag/sample/Decoder_reward_0_MultivariateNormalDiag_affine_linear_operator/forward/add:0\", shape=(?, 1), dtype=float32)\n",
      "new_lstm_state Tensor(\"Decoder_zt1_1/concat_1:0\", shape=(?, 128), dtype=float32)\n",
      "new_lstm_state Tensor(\"Decoder_zt1_1/concat_1:0\", shape=(?, 128), dtype=float32)\n",
      "self.decoder_zt1_sample Tensor(\"Decoder_zt1_1/Decoder_zt1_1_MultivariateNormalDiag/sample/Decoder_zt1_1_MultivariateNormalDiag_affine_linear_operator/forward/add:0\", shape=(?, 16), dtype=float32)\n",
      "self.decoder_zt1_dist tfp.distributions.MultivariateNormalDiag(\"Decoder_zt1_1_MultivariateNormalDiag\", batch_shape=[?], event_shape=[16], dtype=float32)\n",
      "self.decoder_lstm_state Tensor(\"Decoder_zt1_1/map_lstm_states/out/Relu:0\", shape=(?, 128), dtype=float32)\n"
     ]
    },
    {
     "name": "stdout",
     "output_type": "stream",
     "text": [
      "self.decoder_zt1_sample Tensor(\"Decoder_zt1_1/Decoder_zt1_1_MultivariateNormalDiag/sample/Decoder_zt1_1_MultivariateNormalDiag_affine_linear_operator/forward/add:0\", shape=(?, 16), dtype=float32)\n",
      "self.decoder_zt1_dist tfp.distributions.MultivariateNormalDiag(\"Decoder_zt1_1_MultivariateNormalDiag\", batch_shape=[?], event_shape=[16], dtype=float32)\n",
      "self.decoder_lstm_state Tensor(\"Decoder_zt1_1/map_lstm_states/out/Relu:0\", shape=(?, 128), dtype=float32)\n",
      "self.decoder_zt1_sample Tensor(\"Decoder_zt1_1/Decoder_zt1_1_MultivariateNormalDiag/sample/Decoder_zt1_1_MultivariateNormalDiag_affine_linear_operator/forward/add:0\", shape=(?, 16), dtype=float32)\n",
      "self.decoder_zt1_dist tfp.distributions.MultivariateNormalDiag(\"Decoder_zt1_1_MultivariateNormalDiag\", batch_shape=[?], event_shape=[16], dtype=float32)\n",
      "self.decoder_lstm_state Tensor(\"Decoder_zt1_1/map_lstm_states/out/Relu:0\", shape=(?, 128), dtype=float32)\n",
      "self.decoder_state_log_prob Tensor(\"Decoder_state_1_1/Decoder_state_1_1_MultivariateNormalDiag_1/log_prob/add:0\", shape=(?,), dtype=float32)\n",
      "self.decoder_state_sample Tensor(\"Decoder_state_1_1/Decoder_state_1_1_MultivariateNormalDiag/sample/Decoder_state_1_1_MultivariateNormalDiag_affine_linear_operator/forward/add:0\", shape=(?, 17), dtype=float32)\n",
      "self.decoder_r_diss tfp.distributions.MultivariateNormalDiag(\"Decoder_reward_1_MultivariateNormalDiag\", batch_shape=[?], event_shape=[1], dtype=float32)\n",
      "self.decoder_r_sample Tensor(\"Decoder_reward_1/Decoder_reward_1_MultivariateNormalDiag/sample/Decoder_reward_1_MultivariateNormalDiag_affine_linear_operator/forward/add:0\", shape=(?, 1), dtype=float32)\n",
      "self.decoder_zt1_sample Tensor(\"Decoder_zt1_1/Decoder_zt1_1_MultivariateNormalDiag/sample/Decoder_zt1_1_MultivariateNormalDiag_affine_linear_operator/forward/add:0\", shape=(?, 16), dtype=float32)\n",
      "self.decoder_zt1_dist tfp.distributions.MultivariateNormalDiag(\"Decoder_zt1_1_MultivariateNormalDiag\", batch_shape=[?], event_shape=[16], dtype=float32)\n",
      "self.decoder_lstm_state Tensor(\"Decoder_zt1_1/map_lstm_states/out/Relu:0\", shape=(?, 128), dtype=float32)\n",
      "new_lstm_state Tensor(\"Decoder_zt1_2/concat_1:0\", shape=(?, 128), dtype=float32)\n",
      "self.decoder_state_log_prob Tensor(\"Decoder_state_1_1/Decoder_state_1_1_MultivariateNormalDiag_1/log_prob/add:0\", shape=(?,), dtype=float32)\n",
      "self.decoder_state_sample Tensor(\"Decoder_state_1_1/Decoder_state_1_1_MultivariateNormalDiag/sample/Decoder_state_1_1_MultivariateNormalDiag_affine_linear_operator/forward/add:0\", shape=(?, 17), dtype=float32)\n",
      "self.decoder_r_diss tfp.distributions.MultivariateNormalDiag(\"Decoder_reward_1_MultivariateNormalDiag\", batch_shape=[?], event_shape=[1], dtype=float32)\n",
      "self.decoder_r_sample Tensor(\"Decoder_reward_1/Decoder_reward_1_MultivariateNormalDiag/sample/Decoder_reward_1_MultivariateNormalDiag_affine_linear_operator/forward/add:0\", shape=(?, 1), dtype=float32)\n",
      "self.decoder_state_log_prob Tensor(\"Decoder_state_1_1/Decoder_state_1_1_MultivariateNormalDiag_1/log_prob/add:0\", shape=(?,), dtype=float32)\n",
      "self.decoder_state_sample Tensor(\"Decoder_state_1_1/Decoder_state_1_1_MultivariateNormalDiag/sample/Decoder_state_1_1_MultivariateNormalDiag_affine_linear_operator/forward/add:0\", shape=(?, 17), dtype=float32)\n",
      "self.decoder_r_diss tfp.distributions.MultivariateNormalDiag(\"Decoder_reward_1_MultivariateNormalDiag\", batch_shape=[?], event_shape=[1], dtype=float32)\n",
      "self.decoder_r_sample Tensor(\"Decoder_reward_1/Decoder_reward_1_MultivariateNormalDiag/sample/Decoder_reward_1_MultivariateNormalDiag_affine_linear_operator/forward/add:0\", shape=(?, 1), dtype=float32)\n",
      "new_lstm_state Tensor(\"Decoder_zt1_2/concat_1:0\", shape=(?, 128), dtype=float32)\n",
      "self.decoder_state_log_prob Tensor(\"Decoder_state_1_1/Decoder_state_1_1_MultivariateNormalDiag_1/log_prob/add:0\", shape=(?,), dtype=float32)\n",
      "self.decoder_state_sample Tensor(\"Decoder_state_1_1/Decoder_state_1_1_MultivariateNormalDiag/sample/Decoder_state_1_1_MultivariateNormalDiag_affine_linear_operator/forward/add:0\", shape=(?, 17), dtype=float32)\n",
      "self.decoder_r_diss tfp.distributions.MultivariateNormalDiag(\"Decoder_reward_1_MultivariateNormalDiag\", batch_shape=[?], event_shape=[1], dtype=float32)\n",
      "self.decoder_r_sample Tensor(\"Decoder_reward_1/Decoder_reward_1_MultivariateNormalDiag/sample/Decoder_reward_1_MultivariateNormalDiag_affine_linear_operator/forward/add:0\", shape=(?, 1), dtype=float32)\n",
      "new_lstm_state Tensor(\"Decoder_zt1_2/concat_1:0\", shape=(?, 128), dtype=float32)\n",
      "new_lstm_state Tensor(\"Decoder_zt1_2/concat_1:0\", shape=(?, 128), dtype=float32)\n",
      "self.decoder_zt1_sample Tensor(\"Decoder_zt1_2/Decoder_zt1_2_MultivariateNormalDiag/sample/Decoder_zt1_2_MultivariateNormalDiag_affine_linear_operator/forward/add:0\", shape=(?, 16), dtype=float32)\n",
      "self.decoder_zt1_dist tfp.distributions.MultivariateNormalDiag(\"Decoder_zt1_2_MultivariateNormalDiag\", batch_shape=[?], event_shape=[16], dtype=float32)\n",
      "self.decoder_lstm_state Tensor(\"Decoder_zt1_2/map_lstm_states/out/Relu:0\", shape=(?, 128), dtype=float32)\n",
      "self.decoder_zt1_sample Tensor(\"Decoder_zt1_2/Decoder_zt1_2_MultivariateNormalDiag/sample/Decoder_zt1_2_MultivariateNormalDiag_affine_linear_operator/forward/add:0\", shape=(?, 16), dtype=float32)\n",
      "self.decoder_zt1_dist tfp.distributions.MultivariateNormalDiag(\"Decoder_zt1_2_MultivariateNormalDiag\", batch_shape=[?], event_shape=[16], dtype=float32)\n",
      "self.decoder_lstm_state Tensor(\"Decoder_zt1_2/map_lstm_states/out/Relu:0\", shape=(?, 128), dtype=float32)\n",
      "self.decoder_zt1_sample Tensor(\"Decoder_zt1_2/Decoder_zt1_2_MultivariateNormalDiag/sample/Decoder_zt1_2_MultivariateNormalDiag_affine_linear_operator/forward/add:0\", shape=(?, 16), dtype=float32)\n",
      "self.decoder_zt1_dist self.decoder_state_log_probtfp.distributions.MultivariateNormalDiag(\"Decoder_zt1_2_MultivariateNormalDiag\", batch_shape=[?], event_shape=[16], dtype=float32) \n",
      "Tensor(\"Decoder_state_2_1/Decoder_state_2_1_MultivariateNormalDiag_1/log_prob/add:0\", shape=(?,), dtype=float32)\n",
      "self.decoder_lstm_stateself.decoder_state_sample  Tensor(\"Decoder_state_2_1/Decoder_state_2_1_MultivariateNormalDiag/sample/Decoder_state_2_1_MultivariateNormalDiag_affine_linear_operator/forward/add:0\", shape=(?, 17), dtype=float32)Tensor(\"Decoder_zt1_2/map_lstm_states/out/Relu:0\", shape=(?, 128), dtype=float32)\n",
      "self.decoder_r_diss\n",
      " tfp.distributions.MultivariateNormalDiag(\"Decoder_reward_2_MultivariateNormalDiag\", batch_shape=[?], event_shape=[1], dtype=float32)\n",
      "self.decoder_r_sample Tensor(\"Decoder_reward_2/Decoder_reward_2_MultivariateNormalDiag/sample/Decoder_reward_2_MultivariateNormalDiag_affine_linear_operator/forward/add:0\", shape=(?, 1), dtype=float32)\n",
      "self.decoder_zt1_sample Tensor(\"Decoder_zt1_2/Decoder_zt1_2_MultivariateNormalDiag/sample/Decoder_zt1_2_MultivariateNormalDiag_affine_linear_operator/forward/add:0\", shape=(?, 16), dtype=float32)\n",
      "self.decoder_zt1_dist tfp.distributions.MultivariateNormalDiag(\"Decoder_zt1_2_MultivariateNormalDiag\", batch_shape=[?], event_shape=[16], dtype=float32)\n",
      "self.decoder_lstm_state Tensor(\"Decoder_zt1_2/map_lstm_states/out/Relu:0\", shape=(?, 128), dtype=float32)\n",
      "new_lstm_state Tensor(\"Decoder_zt1_3/concat_1:0\", shape=(?, 128), dtype=float32)\n",
      "self.decoder_state_log_prob Tensor(\"Decoder_state_2_1/Decoder_state_2_1_MultivariateNormalDiag_1/log_prob/add:0\", shape=(?,), dtype=float32)\n",
      "self.decoder_state_sample Tensor(\"Decoder_state_2_1/Decoder_state_2_1_MultivariateNormalDiag/sample/Decoder_state_2_1_MultivariateNormalDiag_affine_linear_operator/forward/add:0\", shape=(?, 17), dtype=float32)\n",
      "self.decoder_r_diss tfp.distributions.MultivariateNormalDiag(\"Decoder_reward_2_MultivariateNormalDiag\", batch_shape=[?], event_shape=[1], dtype=float32)\n",
      "self.decoder_r_sample Tensor(\"Decoder_reward_2/Decoder_reward_2_MultivariateNormalDiag/sample/Decoder_reward_2_MultivariateNormalDiag_affine_linear_operator/forward/add:0\", shape=(?, 1), dtype=float32)\n",
      "self.decoder_state_log_prob Tensor(\"Decoder_state_2_1/Decoder_state_2_1_MultivariateNormalDiag_1/log_prob/add:0\", shape=(?,), dtype=float32)\n",
      "self.decoder_state_sample Tensor(\"Decoder_state_2_1/Decoder_state_2_1_MultivariateNormalDiag/sample/Decoder_state_2_1_MultivariateNormalDiag_affine_linear_operator/forward/add:0\", shape=(?, 17), dtype=float32)\n"
     ]
    },
    {
     "name": "stdout",
     "output_type": "stream",
     "text": [
      "self.decoder_r_diss tfp.distributions.MultivariateNormalDiag(\"Decoder_reward_2_MultivariateNormalDiag\", batch_shape=[?], event_shape=[1], dtype=float32)\n",
      "self.decoder_r_sample Tensor(\"Decoder_reward_2/Decoder_reward_2_MultivariateNormalDiag/sample/Decoder_reward_2_MultivariateNormalDiag_affine_linear_operator/forward/add:0\", shape=(?, 1), dtype=float32)\n",
      "new_lstm_state Tensor(\"Decoder_zt1_3/concat_1:0\", shape=(?, 128), dtype=float32)\n",
      "self.decoder_state_log_prob Tensor(\"Decoder_state_2_1/Decoder_state_2_1_MultivariateNormalDiag_1/log_prob/add:0\", shape=(?,), dtype=float32)\n",
      "self.decoder_state_sample Tensor(\"Decoder_state_2_1/Decoder_state_2_1_MultivariateNormalDiag/sample/Decoder_state_2_1_MultivariateNormalDiag_affine_linear_operator/forward/add:0\", shape=(?, 17), dtype=float32)\n",
      "self.decoder_r_diss tfp.distributions.MultivariateNormalDiag(\"Decoder_reward_2_MultivariateNormalDiag\", batch_shape=[?], event_shape=[1], dtype=float32)\n",
      "self.decoder_r_sample Tensor(\"Decoder_reward_2/Decoder_reward_2_MultivariateNormalDiag/sample/Decoder_reward_2_MultivariateNormalDiag_affine_linear_operator/forward/add:0\", shape=(?, 1), dtype=float32)\n",
      "new_lstm_state Tensor(\"Decoder_zt1_3/concat_1:0\", shape=(?, 128), dtype=float32)\n",
      "self.decoder_zt1_sample Tensor(\"Decoder_zt1_3/Decoder_zt1_3_MultivariateNormalDiag/sample/Decoder_zt1_3_MultivariateNormalDiag_affine_linear_operator/forward/add:0\", shape=(?, 16), dtype=float32)\n",
      "self.decoder_zt1_distnew_lstm_state  Tensor(\"Decoder_zt1_3/concat_1:0\", shape=(?, 128), dtype=float32)\n",
      "tfp.distributions.MultivariateNormalDiag(\"Decoder_zt1_3_MultivariateNormalDiag\", batch_shape=[?], event_shape=[16], dtype=float32)\n",
      "self.decoder_lstm_state Tensor(\"Decoder_zt1_3/map_lstm_states/out/Relu:0\", shape=(?, 128), dtype=float32)\n",
      "self.decoder_zt1_sample Tensor(\"Decoder_zt1_3/Decoder_zt1_3_MultivariateNormalDiag/sample/Decoder_zt1_3_MultivariateNormalDiag_affine_linear_operator/forward/add:0\", shape=(?, 16), dtype=float32)\n",
      "self.decoder_zt1_dist tfp.distributions.MultivariateNormalDiag(\"Decoder_zt1_3_MultivariateNormalDiag\", batch_shape=[?], event_shape=[16], dtype=float32)\n",
      "self.decoder_lstm_state Tensor(\"Decoder_zt1_3/map_lstm_states/out/Relu:0\", shape=(?, 128), dtype=float32)\n",
      "self.decoder_zt1_sample Tensor(\"Decoder_zt1_3/Decoder_zt1_3_MultivariateNormalDiag/sample/Decoder_zt1_3_MultivariateNormalDiag_affine_linear_operator/forward/add:0\", shape=(?, 16), dtype=float32)\n",
      "self.decoder_zt1_dist tfp.distributions.MultivariateNormalDiag(\"Decoder_zt1_3_MultivariateNormalDiag\", batch_shape=[?], event_shape=[16], dtype=float32)self.decoder_state_log_prob\n",
      " self.decoder_lstm_state Tensor(\"Decoder_state_3_1/Decoder_state_3_1_MultivariateNormalDiag_1/log_prob/add:0\", shape=(?,), dtype=float32)Tensor(\"Decoder_zt1_3/map_lstm_states/out/Relu:0\", shape=(?, 128), dtype=float32)\n",
      "\n",
      "self.decoder_state_sample Tensor(\"Decoder_state_3_1/Decoder_state_3_1_MultivariateNormalDiag/sample/Decoder_state_3_1_MultivariateNormalDiag_affine_linear_operator/forward/add:0\", shape=(?, 17), dtype=float32)\n",
      "self.decoder_r_diss tfp.distributions.MultivariateNormalDiag(\"Decoder_reward_3_MultivariateNormalDiag\", batch_shape=[?], event_shape=[1], dtype=float32)\n",
      "self.decoder_r_sample Tensor(\"Decoder_reward_3/Decoder_reward_3_MultivariateNormalDiag/sample/Decoder_reward_3_MultivariateNormalDiag_affine_linear_operator/forward/add:0\", shape=(?, 1), dtype=float32)\n",
      "self.decoder_zt1_sample Tensor(\"Decoder_zt1_3/Decoder_zt1_3_MultivariateNormalDiag/sample/Decoder_zt1_3_MultivariateNormalDiag_affine_linear_operator/forward/add:0\", shape=(?, 16), dtype=float32)\n",
      "self.decoder_zt1_dist tfp.distributions.MultivariateNormalDiag(\"Decoder_zt1_3_MultivariateNormalDiag\", batch_shape=[?], event_shape=[16], dtype=float32)\n",
      "self.decoder_lstm_state Tensor(\"Decoder_zt1_3/map_lstm_states/out/Relu:0\", shape=(?, 128), dtype=float32)\n",
      "new_lstm_state Tensor(\"Decoder_zt1_4/concat_1:0\", shape=(?, 128), dtype=float32)\n",
      "self.decoder_state_log_prob Tensor(\"Decoder_state_3_1/Decoder_state_3_1_MultivariateNormalDiag_1/log_prob/add:0\", shape=(?,), dtype=float32)\n",
      "self.decoder_state_sample Tensor(\"Decoder_state_3_1/Decoder_state_3_1_MultivariateNormalDiag/sample/Decoder_state_3_1_MultivariateNormalDiag_affine_linear_operator/forward/add:0\", shape=(?, 17), dtype=float32)\n",
      "self.decoder_r_diss tfp.distributions.MultivariateNormalDiag(\"Decoder_reward_3_MultivariateNormalDiag\", batch_shape=[?], event_shape=[1], dtype=float32)\n",
      "self.decoder_r_sample Tensor(\"Decoder_reward_3/Decoder_reward_3_MultivariateNormalDiag/sample/Decoder_reward_3_MultivariateNormalDiag_affine_linear_operator/forward/add:0\", shape=(?, 1), dtype=float32)\n",
      "self.decoder_state_log_prob Tensor(\"Decoder_state_3_1/Decoder_state_3_1_MultivariateNormalDiag_1/log_prob/add:0\", shape=(?,), dtype=float32)\n",
      "self.decoder_state_sample Tensor(\"Decoder_state_3_1/Decoder_state_3_1_MultivariateNormalDiag/sample/Decoder_state_3_1_MultivariateNormalDiag_affine_linear_operator/forward/add:0\", shape=(?, 17), dtype=float32)\n",
      "self.decoder_r_diss tfp.distributions.MultivariateNormalDiag(\"Decoder_reward_3_MultivariateNormalDiag\", batch_shape=[?], event_shape=[1], dtype=float32)\n",
      "self.decoder_r_sample Tensor(\"Decoder_reward_3/Decoder_reward_3_MultivariateNormalDiag/sample/Decoder_reward_3_MultivariateNormalDiag_affine_linear_operator/forward/add:0\", shape=(?, 1), dtype=float32)\n",
      "self.decoder_state_log_probnew_lstm_state  Tensor(\"Decoder_state_3_1/Decoder_state_3_1_MultivariateNormalDiag_1/log_prob/add:0\", shape=(?,), dtype=float32)Tensor(\"Decoder_zt1_4/concat_1:0\", shape=(?, 128), dtype=float32)\n",
      "\n",
      "self.decoder_state_sample Tensor(\"Decoder_state_3_1/Decoder_state_3_1_MultivariateNormalDiag/sample/Decoder_state_3_1_MultivariateNormalDiag_affine_linear_operator/forward/add:0\", shape=(?, 17), dtype=float32)\n",
      "self.decoder_r_diss tfp.distributions.MultivariateNormalDiag(\"Decoder_reward_3_MultivariateNormalDiag\", batch_shape=[?], event_shape=[1], dtype=float32)\n",
      "self.decoder_r_sample Tensor(\"Decoder_reward_3/Decoder_reward_3_MultivariateNormalDiag/sample/Decoder_reward_3_MultivariateNormalDiag_affine_linear_operator/forward/add:0\", shape=(?, 1), dtype=float32)\n",
      "new_lstm_state Tensor(\"Decoder_zt1_4/concat_1:0\", shape=(?, 128), dtype=float32)\n",
      "new_lstm_state Tensor(\"Decoder_zt1_4/concat_1:0\", shape=(?, 128), dtype=float32)self.decoder_zt1_sample\n",
      " Tensor(\"Decoder_zt1_4/Decoder_zt1_4_MultivariateNormalDiag/sample/Decoder_zt1_4_MultivariateNormalDiag_affine_linear_operator/forward/add:0\", shape=(?, 16), dtype=float32)\n",
      "self.decoder_zt1_dist tfp.distributions.MultivariateNormalDiag(\"Decoder_zt1_4_MultivariateNormalDiag\", batch_shape=[?], event_shape=[16], dtype=float32)\n",
      "self.decoder_lstm_state Tensor(\"Decoder_zt1_4/map_lstm_states/out/Relu:0\", shape=(?, 128), dtype=float32)\n",
      "self.decoder_zt1_sample Tensor(\"Decoder_zt1_4/Decoder_zt1_4_MultivariateNormalDiag/sample/Decoder_zt1_4_MultivariateNormalDiag_affine_linear_operator/forward/add:0\", shape=(?, 16), dtype=float32)\n",
      "self.decoder_zt1_dist tfp.distributions.MultivariateNormalDiag(\"Decoder_zt1_4_MultivariateNormalDiag\", batch_shape=[?], event_shape=[16], dtype=float32)\n",
      "self.decoder_lstm_state Tensor(\"Decoder_zt1_4/map_lstm_states/out/Relu:0\", shape=(?, 128), dtype=float32)\n",
      "self.decoder_state_log_prob Tensor(\"Decoder_state_4_1/Decoder_state_4_1_MultivariateNormalDiag_1/log_prob/add:0\", shape=(?,), dtype=float32)\n",
      "self.decoder_state_sample Tensor(\"Decoder_state_4_1/Decoder_state_4_1_MultivariateNormalDiag/sample/Decoder_state_4_1_MultivariateNormalDiag_affine_linear_operator/forward/add:0\", shape=(?, 17), dtype=float32)\n",
      "self.decoder_r_diss tfp.distributions.MultivariateNormalDiag(\"Decoder_reward_4_MultivariateNormalDiag\", batch_shape=[?], event_shape=[1], dtype=float32)self.decoder_zt1_sample \n",
      "Tensor(\"Decoder_zt1_4/Decoder_zt1_4_MultivariateNormalDiag/sample/Decoder_zt1_4_MultivariateNormalDiag_affine_linear_operator/forward/add:0\", shape=(?, 16), dtype=float32)self.decoder_r_sample\n",
      " self.decoder_zt1_distTensor(\"Decoder_reward_4/Decoder_reward_4_MultivariateNormalDiag/sample/Decoder_reward_4_MultivariateNormalDiag_affine_linear_operator/forward/add:0\", shape=(?, 1), dtype=float32) \n"
     ]
    },
    {
     "name": "stdout",
     "output_type": "stream",
     "text": [
      "tfp.distributions.MultivariateNormalDiag(\"Decoder_zt1_4_MultivariateNormalDiag\", batch_shape=[?], event_shape=[16], dtype=float32)\n",
      "self.decoder_lstm_state Tensor(\"Decoder_zt1_4/map_lstm_states/out/Relu:0\", shape=(?, 128), dtype=float32)\n",
      "self.decoder_zt1_sample Tensor(\"Decoder_zt1_4/Decoder_zt1_4_MultivariateNormalDiag/sample/Decoder_zt1_4_MultivariateNormalDiag_affine_linear_operator/forward/add:0\", shape=(?, 16), dtype=float32)\n",
      "self.decoder_zt1_dist tfp.distributions.MultivariateNormalDiag(\"Decoder_zt1_4_MultivariateNormalDiag\", batch_shape=[?], event_shape=[16], dtype=float32)\n",
      "self.decoder_lstm_state Tensor(\"Decoder_zt1_4/map_lstm_states/out/Relu:0\", shape=(?, 128), dtype=float32)\n",
      "new_lstm_state Tensor(\"Decoder_zt1_5/concat_1:0\", shape=(?, 128), dtype=float32)\n",
      "self.decoder_state_log_prob Tensor(\"Decoder_state_4_1/Decoder_state_4_1_MultivariateNormalDiag_1/log_prob/add:0\", shape=(?,), dtype=float32)\n",
      "self.decoder_state_sample Tensor(\"Decoder_state_4_1/Decoder_state_4_1_MultivariateNormalDiag/sample/Decoder_state_4_1_MultivariateNormalDiag_affine_linear_operator/forward/add:0\", shape=(?, 17), dtype=float32)\n",
      "self.decoder_r_diss tfp.distributions.MultivariateNormalDiag(\"Decoder_reward_4_MultivariateNormalDiag\", batch_shape=[?], event_shape=[1], dtype=float32)\n",
      "self.decoder_r_sample Tensor(\"Decoder_reward_4/Decoder_reward_4_MultivariateNormalDiag/sample/Decoder_reward_4_MultivariateNormalDiag_affine_linear_operator/forward/add:0\", shape=(?, 1), dtype=float32)\n",
      "self.decoder_state_log_prob Tensor(\"Decoder_state_4_1/Decoder_state_4_1_MultivariateNormalDiag_1/log_prob/add:0\", shape=(?,), dtype=float32)\n",
      "self.decoder_state_sample Tensor(\"Decoder_state_4_1/Decoder_state_4_1_MultivariateNormalDiag/sample/Decoder_state_4_1_MultivariateNormalDiag_affine_linear_operator/forward/add:0\", shape=(?, 17), dtype=float32)\n",
      "self.decoder_r_diss tfp.distributions.MultivariateNormalDiag(\"Decoder_reward_4_MultivariateNormalDiag\", batch_shape=[?], event_shape=[1], dtype=float32)\n",
      "self.decoder_r_sample Tensor(\"Decoder_reward_4/Decoder_reward_4_MultivariateNormalDiag/sample/Decoder_reward_4_MultivariateNormalDiag_affine_linear_operator/forward/add:0\", shape=(?, 1), dtype=float32)\n",
      "new_lstm_state Tensor(\"Decoder_zt1_5/concat_1:0\", shape=(?, 128), dtype=float32)\n",
      "self.decoder_state_log_prob Tensor(\"Decoder_state_4_1/Decoder_state_4_1_MultivariateNormalDiag_1/log_prob/add:0\", shape=(?,), dtype=float32)\n",
      "self.decoder_state_sample Tensor(\"Decoder_state_4_1/Decoder_state_4_1_MultivariateNormalDiag/sample/Decoder_state_4_1_MultivariateNormalDiag_affine_linear_operator/forward/add:0\", shape=(?, 17), dtype=float32)\n",
      "self.decoder_r_diss tfp.distributions.MultivariateNormalDiag(\"Decoder_reward_4_MultivariateNormalDiag\", batch_shape=[?], event_shape=[1], dtype=float32)\n",
      "self.decoder_r_sample Tensor(\"Decoder_reward_4/Decoder_reward_4_MultivariateNormalDiag/sample/Decoder_reward_4_MultivariateNormalDiag_affine_linear_operator/forward/add:0\", shape=(?, 1), dtype=float32)\n",
      "new_lstm_state Tensor(\"Decoder_zt1_5/concat_1:0\", shape=(?, 128), dtype=float32)\n",
      "new_lstm_state Tensor(\"Decoder_zt1_5/concat_1:0\", shape=(?, 128), dtype=float32)\n",
      "self.decoder_zt1_sample Tensor(\"Decoder_zt1_5/Decoder_zt1_5_MultivariateNormalDiag/sample/Decoder_zt1_5_MultivariateNormalDiag_affine_linear_operator/forward/add:0\", shape=(?, 16), dtype=float32)\n",
      "self.decoder_zt1_dist tfp.distributions.MultivariateNormalDiag(\"Decoder_zt1_5_MultivariateNormalDiag\", batch_shape=[?], event_shape=[16], dtype=float32)\n",
      "self.decoder_lstm_state Tensor(\"Decoder_zt1_5/map_lstm_states/out/Relu:0\", shape=(?, 128), dtype=float32)\n",
      "self.decoder_zt1_sample Tensor(\"Decoder_zt1_5/Decoder_zt1_5_MultivariateNormalDiag/sample/Decoder_zt1_5_MultivariateNormalDiag_affine_linear_operator/forward/add:0\", shape=(?, 16), dtype=float32)\n",
      "self.decoder_zt1_dist tfp.distributions.MultivariateNormalDiag(\"Decoder_zt1_5_MultivariateNormalDiag\", batch_shape=[?], event_shape=[16], dtype=float32)\n",
      "self.decoder_lstm_state Tensor(\"Decoder_zt1_5/map_lstm_states/out/Relu:0\", shape=(?, 128), dtype=float32)\n",
      "self.decoder_zt1_sample Tensor(\"Decoder_zt1_5/Decoder_zt1_5_MultivariateNormalDiag/sample/Decoder_zt1_5_MultivariateNormalDiag_affine_linear_operator/forward/add:0\", shape=(?, 16), dtype=float32)\n",
      "self.decoder_zt1_dist tfp.distributions.MultivariateNormalDiag(\"Decoder_zt1_5_MultivariateNormalDiag\", batch_shape=[?], event_shape=[16], dtype=float32)\n",
      "self.decoder_state_log_prob self.decoder_lstm_stateTensor(\"Decoder_state_5_1/Decoder_state_5_1_MultivariateNormalDiag_1/log_prob/add:0\", shape=(?,), dtype=float32) \n",
      "Tensor(\"Decoder_zt1_5/map_lstm_states/out/Relu:0\", shape=(?, 128), dtype=float32)self.decoder_state_sample\n",
      " Tensor(\"Decoder_state_5_1/Decoder_state_5_1_MultivariateNormalDiag/sample/Decoder_state_5_1_MultivariateNormalDiag_affine_linear_operator/forward/add:0\", shape=(?, 17), dtype=float32)\n",
      "self.decoder_r_diss tfp.distributions.MultivariateNormalDiag(\"Decoder_reward_5_MultivariateNormalDiag\", batch_shape=[?], event_shape=[1], dtype=float32)\n",
      "self.decoder_r_sample Tensor(\"Decoder_reward_5/Decoder_reward_5_MultivariateNormalDiag/sample/Decoder_reward_5_MultivariateNormalDiag_affine_linear_operator/forward/add:0\", shape=(?, 1), dtype=float32)\n",
      "self.decoder_zt1_sample Tensor(\"Decoder_zt1_5/Decoder_zt1_5_MultivariateNormalDiag/sample/Decoder_zt1_5_MultivariateNormalDiag_affine_linear_operator/forward/add:0\", shape=(?, 16), dtype=float32)\n",
      "self.decoder_zt1_dist tfp.distributions.MultivariateNormalDiag(\"Decoder_zt1_5_MultivariateNormalDiag\", batch_shape=[?], event_shape=[16], dtype=float32)\n",
      "self.decoder_lstm_state Tensor(\"Decoder_zt1_5/map_lstm_states/out/Relu:0\", shape=(?, 128), dtype=float32)\n",
      "new_lstm_state Tensor(\"Decoder_zt1_6/concat_1:0\", shape=(?, 128), dtype=float32)\n",
      "self.decoder_state_log_prob Tensor(\"Decoder_state_5_1/Decoder_state_5_1_MultivariateNormalDiag_1/log_prob/add:0\", shape=(?,), dtype=float32)\n",
      "self.decoder_state_sample Tensor(\"Decoder_state_5_1/Decoder_state_5_1_MultivariateNormalDiag/sample/Decoder_state_5_1_MultivariateNormalDiag_affine_linear_operator/forward/add:0\", shape=(?, 17), dtype=float32)\n",
      "self.decoder_r_diss tfp.distributions.MultivariateNormalDiag(\"Decoder_reward_5_MultivariateNormalDiag\", batch_shape=[?], event_shape=[1], dtype=float32)\n",
      "self.decoder_r_sample Tensor(\"Decoder_reward_5/Decoder_reward_5_MultivariateNormalDiag/sample/Decoder_reward_5_MultivariateNormalDiag_affine_linear_operator/forward/add:0\", shape=(?, 1), dtype=float32)\n",
      "self.decoder_state_log_prob Tensor(\"Decoder_state_5_1/Decoder_state_5_1_MultivariateNormalDiag_1/log_prob/add:0\", shape=(?,), dtype=float32)\n",
      "self.decoder_state_sample Tensor(\"Decoder_state_5_1/Decoder_state_5_1_MultivariateNormalDiag/sample/Decoder_state_5_1_MultivariateNormalDiag_affine_linear_operator/forward/add:0\", shape=(?, 17), dtype=float32)\n",
      "self.decoder_r_diss tfp.distributions.MultivariateNormalDiag(\"Decoder_reward_5_MultivariateNormalDiag\", batch_shape=[?], event_shape=[1], dtype=float32)\n",
      "self.decoder_r_sample Tensor(\"Decoder_reward_5/Decoder_reward_5_MultivariateNormalDiag/sample/Decoder_reward_5_MultivariateNormalDiag_affine_linear_operator/forward/add:0\", shape=(?, 1), dtype=float32)\n",
      "new_lstm_state Tensor(\"Decoder_zt1_6/concat_1:0\", shape=(?, 128), dtype=float32)\n",
      "self.decoder_state_log_prob Tensor(\"Decoder_state_5_1/Decoder_state_5_1_MultivariateNormalDiag_1/log_prob/add:0\", shape=(?,), dtype=float32)\n",
      "self.decoder_state_sample Tensor(\"Decoder_state_5_1/Decoder_state_5_1_MultivariateNormalDiag/sample/Decoder_state_5_1_MultivariateNormalDiag_affine_linear_operator/forward/add:0\", shape=(?, 17), dtype=float32)\n",
      "self.decoder_r_diss tfp.distributions.MultivariateNormalDiag(\"Decoder_reward_5_MultivariateNormalDiag\", batch_shape=[?], event_shape=[1], dtype=float32)\n",
      "self.decoder_r_sample Tensor(\"Decoder_reward_5/Decoder_reward_5_MultivariateNormalDiag/sample/Decoder_reward_5_MultivariateNormalDiag_affine_linear_operator/forward/add:0\", shape=(?, 1), dtype=float32)\n",
      "new_lstm_state Tensor(\"Decoder_zt1_6/concat_1:0\", shape=(?, 128), dtype=float32)\n",
      "new_lstm_state Tensor(\"Decoder_zt1_6/concat_1:0\", shape=(?, 128), dtype=float32)\n"
     ]
    },
    {
     "name": "stdout",
     "output_type": "stream",
     "text": [
      "self.decoder_zt1_sample Tensor(\"Decoder_zt1_6/Decoder_zt1_6_MultivariateNormalDiag/sample/Decoder_zt1_6_MultivariateNormalDiag_affine_linear_operator/forward/add:0\", shape=(?, 16), dtype=float32)\n",
      "self.decoder_zt1_dist tfp.distributions.MultivariateNormalDiag(\"Decoder_zt1_6_MultivariateNormalDiag\", batch_shape=[?], event_shape=[16], dtype=float32)\n",
      "self.decoder_lstm_state Tensor(\"Decoder_zt1_6/map_lstm_states/out/Relu:0\", shape=(?, 128), dtype=float32)\n",
      "self.decoder_zt1_sample Tensor(\"Decoder_zt1_6/Decoder_zt1_6_MultivariateNormalDiag/sample/Decoder_zt1_6_MultivariateNormalDiag_affine_linear_operator/forward/add:0\", shape=(?, 16), dtype=float32)\n",
      "self.decoder_zt1_dist tfp.distributions.MultivariateNormalDiag(\"Decoder_zt1_6_MultivariateNormalDiag\", batch_shape=[?], event_shape=[16], dtype=float32)\n",
      "self.decoder_lstm_state Tensor(\"Decoder_zt1_6/map_lstm_states/out/Relu:0\", shape=(?, 128), dtype=float32)\n",
      "self.decoder_zt1_sample Tensor(\"Decoder_zt1_6/Decoder_zt1_6_MultivariateNormalDiag/sample/Decoder_zt1_6_MultivariateNormalDiag_affine_linear_operator/forward/add:0\", shape=(?, 16), dtype=float32)\n",
      "self.decoder_zt1_dist self.decoder_state_log_prob tfp.distributions.MultivariateNormalDiag(\"Decoder_zt1_6_MultivariateNormalDiag\", batch_shape=[?], event_shape=[16], dtype=float32)Tensor(\"Decoder_state_6_1/Decoder_state_6_1_MultivariateNormalDiag_1/log_prob/add:0\", shape=(?,), dtype=float32)\n",
      "\n",
      "self.decoder_state_sampleself.decoder_lstm_state Tensor(\"Decoder_state_6_1/Decoder_state_6_1_MultivariateNormalDiag/sample/Decoder_state_6_1_MultivariateNormalDiag_affine_linear_operator/forward/add:0\", shape=(?, 17), dtype=float32) \n",
      "self.decoder_r_dissTensor(\"Decoder_zt1_6/map_lstm_states/out/Relu:0\", shape=(?, 128), dtype=float32) \n",
      "tfp.distributions.MultivariateNormalDiag(\"Decoder_reward_6_MultivariateNormalDiag\", batch_shape=[?], event_shape=[1], dtype=float32)\n",
      "self.decoder_r_sample Tensor(\"Decoder_reward_6/Decoder_reward_6_MultivariateNormalDiag/sample/Decoder_reward_6_MultivariateNormalDiag_affine_linear_operator/forward/add:0\", shape=(?, 1), dtype=float32)\n",
      "self.decoder_zt1_sample Tensor(\"Decoder_zt1_6/Decoder_zt1_6_MultivariateNormalDiag/sample/Decoder_zt1_6_MultivariateNormalDiag_affine_linear_operator/forward/add:0\", shape=(?, 16), dtype=float32)\n",
      "self.decoder_zt1_dist tfp.distributions.MultivariateNormalDiag(\"Decoder_zt1_6_MultivariateNormalDiag\", batch_shape=[?], event_shape=[16], dtype=float32)\n",
      "self.decoder_lstm_state Tensor(\"Decoder_zt1_6/map_lstm_states/out/Relu:0\", shape=(?, 128), dtype=float32)\n",
      "new_lstm_state Tensor(\"Decoder_zt1_7/concat_1:0\", shape=(?, 128), dtype=float32)\n",
      "self.decoder_state_log_prob Tensor(\"Decoder_state_6_1/Decoder_state_6_1_MultivariateNormalDiag_1/log_prob/add:0\", shape=(?,), dtype=float32)\n",
      "self.decoder_state_sample Tensor(\"Decoder_state_6_1/Decoder_state_6_1_MultivariateNormalDiag/sample/Decoder_state_6_1_MultivariateNormalDiag_affine_linear_operator/forward/add:0\", shape=(?, 17), dtype=float32)\n",
      "self.decoder_r_diss tfp.distributions.MultivariateNormalDiag(\"Decoder_reward_6_MultivariateNormalDiag\", batch_shape=[?], event_shape=[1], dtype=float32)\n",
      "self.decoder_r_sample Tensor(\"Decoder_reward_6/Decoder_reward_6_MultivariateNormalDiag/sample/Decoder_reward_6_MultivariateNormalDiag_affine_linear_operator/forward/add:0\", shape=(?, 1), dtype=float32)\n",
      "self.decoder_state_log_prob Tensor(\"Decoder_state_6_1/Decoder_state_6_1_MultivariateNormalDiag_1/log_prob/add:0\", shape=(?,), dtype=float32)\n",
      "self.decoder_state_sample Tensor(\"Decoder_state_6_1/Decoder_state_6_1_MultivariateNormalDiag/sample/Decoder_state_6_1_MultivariateNormalDiag_affine_linear_operator/forward/add:0\", shape=(?, 17), dtype=float32)\n",
      "self.decoder_r_diss tfp.distributions.MultivariateNormalDiag(\"Decoder_reward_6_MultivariateNormalDiag\", batch_shape=[?], event_shape=[1], dtype=float32)\n",
      "new_lstm_stateself.decoder_r_sample  Tensor(\"Decoder_zt1_7/concat_1:0\", shape=(?, 128), dtype=float32)Tensor(\"Decoder_reward_6/Decoder_reward_6_MultivariateNormalDiag/sample/Decoder_reward_6_MultivariateNormalDiag_affine_linear_operator/forward/add:0\", shape=(?, 1), dtype=float32)\n",
      "\n",
      "self.decoder_state_log_prob Tensor(\"Decoder_state_6_1/Decoder_state_6_1_MultivariateNormalDiag_1/log_prob/add:0\", shape=(?,), dtype=float32)\n",
      "self.decoder_state_sample Tensor(\"Decoder_state_6_1/Decoder_state_6_1_MultivariateNormalDiag/sample/Decoder_state_6_1_MultivariateNormalDiag_affine_linear_operator/forward/add:0\", shape=(?, 17), dtype=float32)\n",
      "self.decoder_r_diss tfp.distributions.MultivariateNormalDiag(\"Decoder_reward_6_MultivariateNormalDiag\", batch_shape=[?], event_shape=[1], dtype=float32)\n",
      "self.decoder_r_sample Tensor(\"Decoder_reward_6/Decoder_reward_6_MultivariateNormalDiag/sample/Decoder_reward_6_MultivariateNormalDiag_affine_linear_operator/forward/add:0\", shape=(?, 1), dtype=float32)\n",
      "new_lstm_state Tensor(\"Decoder_zt1_7/concat_1:0\", shape=(?, 128), dtype=float32)\n",
      "new_lstm_state Tensor(\"Decoder_zt1_7/concat_1:0\", shape=(?, 128), dtype=float32)\n",
      "self.decoder_zt1_sample Tensor(\"Decoder_zt1_7/Decoder_zt1_7_MultivariateNormalDiag/sample/Decoder_zt1_7_MultivariateNormalDiag_affine_linear_operator/forward/add:0\", shape=(?, 16), dtype=float32)\n",
      "self.decoder_zt1_dist tfp.distributions.MultivariateNormalDiag(\"Decoder_zt1_7_MultivariateNormalDiag\", batch_shape=[?], event_shape=[16], dtype=float32)\n",
      "self.decoder_lstm_state Tensor(\"Decoder_zt1_7/map_lstm_states/out/Relu:0\", shape=(?, 128), dtype=float32)\n",
      "self.decoder_zt1_sample Tensor(\"Decoder_zt1_7/Decoder_zt1_7_MultivariateNormalDiag/sample/Decoder_zt1_7_MultivariateNormalDiag_affine_linear_operator/forward/add:0\", shape=(?, 16), dtype=float32)\n",
      "self.decoder_zt1_dist tfp.distributions.MultivariateNormalDiag(\"Decoder_zt1_7_MultivariateNormalDiag\", batch_shape=[?], event_shape=[16], dtype=float32)\n",
      "self.decoder_lstm_state Tensor(\"Decoder_zt1_7/map_lstm_states/out/Relu:0\", shape=(?, 128), dtype=float32)\n",
      "self.decoder_zt1_sample Tensor(\"Decoder_zt1_7/Decoder_zt1_7_MultivariateNormalDiag/sample/Decoder_zt1_7_MultivariateNormalDiag_affine_linear_operator/forward/add:0\", shape=(?, 16), dtype=float32)\n",
      "self.decoder_zt1_dist tfp.distributions.MultivariateNormalDiag(\"Decoder_zt1_7_MultivariateNormalDiag\", batch_shape=[?], event_shape=[16], dtype=float32)\n",
      "self.decoder_lstm_state Tensor(\"Decoder_zt1_7/map_lstm_states/out/Relu:0\", shape=(?, 128), dtype=float32)\n",
      "self.decoder_zt1_sample Tensor(\"Decoder_zt1_7/Decoder_zt1_7_MultivariateNormalDiag/sample/Decoder_zt1_7_MultivariateNormalDiag_affine_linear_operator/forward/add:0\", shape=(?, 16), dtype=float32)\n",
      "self.decoder_zt1_dist tfp.distributions.MultivariateNormalDiag(\"Decoder_zt1_7_MultivariateNormalDiag\", batch_shape=[?], event_shape=[16], dtype=float32)\n",
      "self.decoder_lstm_state Tensor(\"Decoder_zt1_7/map_lstm_states/out/Relu:0\", shape=(?, 128), dtype=float32)\n",
      "self.decoder_state_log_prob Tensor(\"Decoder_state_7_1/Decoder_state_7_1_MultivariateNormalDiag_1/log_prob/add:0\", shape=(?,), dtype=float32)\n",
      "self.decoder_state_sample Tensor(\"Decoder_state_7_1/Decoder_state_7_1_MultivariateNormalDiag/sample/Decoder_state_7_1_MultivariateNormalDiag_affine_linear_operator/forward/add:0\", shape=(?, 17), dtype=float32)\n",
      "self.decoder_r_diss tfp.distributions.MultivariateNormalDiag(\"Decoder_reward_7_MultivariateNormalDiag\", batch_shape=[?], event_shape=[1], dtype=float32)\n",
      "self.decoder_r_sample Tensor(\"Decoder_reward_7/Decoder_reward_7_MultivariateNormalDiag/sample/Decoder_reward_7_MultivariateNormalDiag_affine_linear_operator/forward/add:0\", shape=(?, 1), dtype=float32)\n",
      "new_lstm_state Tensor(\"Decoder_zt1_8/concat_1:0\", shape=(?, 128), dtype=float32)\n",
      "self.decoder_state_log_prob Tensor(\"Decoder_state_7_1/Decoder_state_7_1_MultivariateNormalDiag_1/log_prob/add:0\", shape=(?,), dtype=float32)\n",
      "self.decoder_state_sample Tensor(\"Decoder_state_7_1/Decoder_state_7_1_MultivariateNormalDiag/sample/Decoder_state_7_1_MultivariateNormalDiag_affine_linear_operator/forward/add:0\", shape=(?, 17), dtype=float32)\n",
      "self.decoder_r_diss tfp.distributions.MultivariateNormalDiag(\"Decoder_reward_7_MultivariateNormalDiag\", batch_shape=[?], event_shape=[1], dtype=float32)\n"
     ]
    },
    {
     "name": "stdout",
     "output_type": "stream",
     "text": [
      "self.decoder_r_sample Tensor(\"Decoder_reward_7/Decoder_reward_7_MultivariateNormalDiag/sample/Decoder_reward_7_MultivariateNormalDiag_affine_linear_operator/forward/add:0\", shape=(?, 1), dtype=float32)\n",
      "self.decoder_state_log_prob Tensor(\"Decoder_state_7_1/Decoder_state_7_1_MultivariateNormalDiag_1/log_prob/add:0\", shape=(?,), dtype=float32)\n",
      "self.decoder_state_sample Tensor(\"Decoder_state_7_1/Decoder_state_7_1_MultivariateNormalDiag/sample/Decoder_state_7_1_MultivariateNormalDiag_affine_linear_operator/forward/add:0\", shape=(?, 17), dtype=float32)\n",
      "self.decoder_r_dissnew_lstm_state  tfp.distributions.MultivariateNormalDiag(\"Decoder_reward_7_MultivariateNormalDiag\", batch_shape=[?], event_shape=[1], dtype=float32)Tensor(\"Decoder_zt1_8/concat_1:0\", shape=(?, 128), dtype=float32)\n",
      "\n",
      "self.decoder_r_sample Tensor(\"Decoder_reward_7/Decoder_reward_7_MultivariateNormalDiag/sample/Decoder_reward_7_MultivariateNormalDiag_affine_linear_operator/forward/add:0\", shape=(?, 1), dtype=float32)\n",
      "self.decoder_state_log_prob Tensor(\"Decoder_state_7_1/Decoder_state_7_1_MultivariateNormalDiag_1/log_prob/add:0\", shape=(?,), dtype=float32)\n",
      "self.decoder_state_sample Tensor(\"Decoder_state_7_1/Decoder_state_7_1_MultivariateNormalDiag/sample/Decoder_state_7_1_MultivariateNormalDiag_affine_linear_operator/forward/add:0\", shape=(?, 17), dtype=float32)\n",
      "self.decoder_r_diss tfp.distributions.MultivariateNormalDiag(\"Decoder_reward_7_MultivariateNormalDiag\", batch_shape=[?], event_shape=[1], dtype=float32)\n",
      "self.decoder_r_sample Tensor(\"Decoder_reward_7/Decoder_reward_7_MultivariateNormalDiag/sample/Decoder_reward_7_MultivariateNormalDiag_affine_linear_operator/forward/add:0\", shape=(?, 1), dtype=float32)\n",
      "new_lstm_state Tensor(\"Decoder_zt1_8/concat_1:0\", shape=(?, 128), dtype=float32)\n",
      "self.decoder_zt1_sample Tensor(\"Decoder_zt1_8/Decoder_zt1_8_MultivariateNormalDiag/sample/Decoder_zt1_8_MultivariateNormalDiag_affine_linear_operator/forward/add:0\", shape=(?, 16), dtype=float32)\n",
      "self.decoder_zt1_dist tfp.distributions.MultivariateNormalDiag(\"Decoder_zt1_8_MultivariateNormalDiag\", batch_shape=[?], event_shape=[16], dtype=float32)\n",
      "self.decoder_lstm_state Tensor(\"Decoder_zt1_8/map_lstm_states/out/Relu:0\", shape=(?, 128), dtype=float32)\n",
      "new_lstm_state Tensor(\"Decoder_zt1_8/concat_1:0\", shape=(?, 128), dtype=float32)\n",
      "self.decoder_zt1_sample Tensor(\"Decoder_zt1_8/Decoder_zt1_8_MultivariateNormalDiag/sample/Decoder_zt1_8_MultivariateNormalDiag_affine_linear_operator/forward/add:0\", shape=(?, 16), dtype=float32)\n",
      "self.decoder_zt1_dist tfp.distributions.MultivariateNormalDiag(\"Decoder_zt1_8_MultivariateNormalDiag\", batch_shape=[?], event_shape=[16], dtype=float32)\n",
      "self.decoder_lstm_state Tensor(\"Decoder_zt1_8/map_lstm_states/out/Relu:0\", shape=(?, 128), dtype=float32)\n",
      "self.decoder_state_log_prob Tensor(\"Decoder_state_8_1/Decoder_state_8_1_MultivariateNormalDiag_1/log_prob/add:0\", shape=(?,), dtype=float32)\n",
      "self.decoder_state_sample Tensor(\"Decoder_state_8_1/Decoder_state_8_1_MultivariateNormalDiag/sample/Decoder_state_8_1_MultivariateNormalDiag_affine_linear_operator/forward/add:0\", shape=(?, 17), dtype=float32)\n",
      "self.decoder_r_diss tfp.distributions.MultivariateNormalDiag(\"Decoder_reward_8_MultivariateNormalDiag\", batch_shape=[?], event_shape=[1], dtype=float32)\n",
      "self.decoder_r_sample Tensor(\"Decoder_reward_8/Decoder_reward_8_MultivariateNormalDiag/sample/Decoder_reward_8_MultivariateNormalDiag_affine_linear_operator/forward/add:0\", shape=(?, 1), dtype=float32)\n",
      "self.decoder_zt1_sample Tensor(\"Decoder_zt1_8/Decoder_zt1_8_MultivariateNormalDiag/sample/Decoder_zt1_8_MultivariateNormalDiag_affine_linear_operator/forward/add:0\", shape=(?, 16), dtype=float32)\n",
      "self.decoder_zt1_dist tfp.distributions.MultivariateNormalDiag(\"Decoder_zt1_8_MultivariateNormalDiag\", batch_shape=[?], event_shape=[16], dtype=float32)\n",
      "self.decoder_lstm_state Tensor(\"Decoder_zt1_8/map_lstm_states/out/Relu:0\", shape=(?, 128), dtype=float32)\n",
      "self.decoder_zt1_sample Tensor(\"Decoder_zt1_8/Decoder_zt1_8_MultivariateNormalDiag/sample/Decoder_zt1_8_MultivariateNormalDiag_affine_linear_operator/forward/add:0\", shape=(?, 16), dtype=float32)\n",
      "self.decoder_zt1_dist tfp.distributions.MultivariateNormalDiag(\"Decoder_zt1_8_MultivariateNormalDiag\", batch_shape=[?], event_shape=[16], dtype=float32)\n",
      "self.decoder_lstm_state Tensor(\"Decoder_zt1_8/map_lstm_states/out/Relu:0\", shape=(?, 128), dtype=float32)\n",
      "new_lstm_state Tensor(\"Decoder_zt1_9/concat_1:0\", shape=(?, 128), dtype=float32)\n",
      "self.decoder_state_log_prob Tensor(\"Decoder_state_8_1/Decoder_state_8_1_MultivariateNormalDiag_1/log_prob/add:0\", shape=(?,), dtype=float32)\n",
      "self.decoder_state_sample Tensor(\"Decoder_state_8_1/Decoder_state_8_1_MultivariateNormalDiag/sample/Decoder_state_8_1_MultivariateNormalDiag_affine_linear_operator/forward/add:0\", shape=(?, 17), dtype=float32)\n",
      "self.decoder_r_diss tfp.distributions.MultivariateNormalDiag(\"Decoder_reward_8_MultivariateNormalDiag\", batch_shape=[?], event_shape=[1], dtype=float32)\n",
      "self.decoder_r_sample Tensor(\"Decoder_reward_8/Decoder_reward_8_MultivariateNormalDiag/sample/Decoder_reward_8_MultivariateNormalDiag_affine_linear_operator/forward/add:0\", shape=(?, 1), dtype=float32)\n",
      "self.decoder_state_log_prob Tensor(\"Decoder_state_8_1/Decoder_state_8_1_MultivariateNormalDiag_1/log_prob/add:0\", shape=(?,), dtype=float32)\n",
      "self.decoder_state_sample new_lstm_stateTensor(\"Decoder_state_8_1/Decoder_state_8_1_MultivariateNormalDiag/sample/Decoder_state_8_1_MultivariateNormalDiag_affine_linear_operator/forward/add:0\", shape=(?, 17), dtype=float32) \n",
      "Tensor(\"Decoder_zt1_9/concat_1:0\", shape=(?, 128), dtype=float32)self.decoder_r_diss\n",
      " tfp.distributions.MultivariateNormalDiag(\"Decoder_reward_8_MultivariateNormalDiag\", batch_shape=[?], event_shape=[1], dtype=float32)\n",
      "self.decoder_r_sample Tensor(\"Decoder_reward_8/Decoder_reward_8_MultivariateNormalDiag/sample/Decoder_reward_8_MultivariateNormalDiag_affine_linear_operator/forward/add:0\", shape=(?, 1), dtype=float32)\n",
      "self.decoder_state_log_prob Tensor(\"Decoder_state_8_1/Decoder_state_8_1_MultivariateNormalDiag_1/log_prob/add:0\", shape=(?,), dtype=float32)\n",
      "self.decoder_state_sample Tensor(\"Decoder_state_8_1/Decoder_state_8_1_MultivariateNormalDiag/sample/Decoder_state_8_1_MultivariateNormalDiag_affine_linear_operator/forward/add:0\", shape=(?, 17), dtype=float32)\n",
      "self.decoder_r_diss tfp.distributions.MultivariateNormalDiag(\"Decoder_reward_8_MultivariateNormalDiag\", batch_shape=[?], event_shape=[1], dtype=float32)\n",
      "self.decoder_r_sample Tensor(\"Decoder_reward_8/Decoder_reward_8_MultivariateNormalDiag/sample/Decoder_reward_8_MultivariateNormalDiag_affine_linear_operator/forward/add:0\", shape=(?, 1), dtype=float32)\n",
      "new_lstm_state Tensor(\"Decoder_zt1_9/concat_1:0\", shape=(?, 128), dtype=float32)\n",
      "new_lstm_state Tensor(\"Decoder_zt1_9/concat_1:0\", shape=(?, 128), dtype=float32)\n",
      "self.decoder_zt1_sample Tensor(\"Decoder_zt1_9/Decoder_zt1_9_MultivariateNormalDiag/sample/Decoder_zt1_9_MultivariateNormalDiag_affine_linear_operator/forward/add:0\", shape=(?, 16), dtype=float32)\n",
      "self.decoder_zt1_dist tfp.distributions.MultivariateNormalDiag(\"Decoder_zt1_9_MultivariateNormalDiag\", batch_shape=[?], event_shape=[16], dtype=float32)\n",
      "self.decoder_lstm_state Tensor(\"Decoder_zt1_9/map_lstm_states/out/Relu:0\", shape=(?, 128), dtype=float32)\n",
      "self.decoder_zt1_sample Tensor(\"Decoder_zt1_9/Decoder_zt1_9_MultivariateNormalDiag/sample/Decoder_zt1_9_MultivariateNormalDiag_affine_linear_operator/forward/add:0\", shape=(?, 16), dtype=float32)\n",
      "self.decoder_zt1_dist tfp.distributions.MultivariateNormalDiag(\"Decoder_zt1_9_MultivariateNormalDiag\", batch_shape=[?], event_shape=[16], dtype=float32)\n",
      "self.decoder_lstm_state Tensor(\"Decoder_zt1_9/map_lstm_states/out/Relu:0\", shape=(?, 128), dtype=float32)\n",
      "self.decoder_state_log_prob Tensor(\"Decoder_state_9_1/Decoder_state_9_1_MultivariateNormalDiag_1/log_prob/add:0\", shape=(?,), dtype=float32)\n",
      "self.decoder_state_sample Tensor(\"Decoder_state_9_1/Decoder_state_9_1_MultivariateNormalDiag/sample/Decoder_state_9_1_MultivariateNormalDiag_affine_linear_operator/forward/add:0\", shape=(?, 17), dtype=float32)\n"
     ]
    },
    {
     "name": "stdout",
     "output_type": "stream",
     "text": [
      "self.decoder_r_diss tfp.distributions.MultivariateNormalDiag(\"Decoder_reward_9_MultivariateNormalDiag\", batch_shape=[?], event_shape=[1], dtype=float32)\n",
      "self.decoder_r_sample Tensor(\"Decoder_reward_9/Decoder_reward_9_MultivariateNormalDiag/sample/Decoder_reward_9_MultivariateNormalDiag_affine_linear_operator/forward/add:0\", shape=(?, 1), dtype=float32)\n",
      "self.decoder_zt1_sample Tensor(\"Decoder_zt1_9/Decoder_zt1_9_MultivariateNormalDiag/sample/Decoder_zt1_9_MultivariateNormalDiag_affine_linear_operator/forward/add:0\", shape=(?, 16), dtype=float32)\n",
      "self.decoder_zt1_dist tfp.distributions.MultivariateNormalDiag(\"Decoder_zt1_9_MultivariateNormalDiag\", batch_shape=[?], event_shape=[16], dtype=float32)\n",
      "self.decoder_lstm_state Tensor(\"Decoder_zt1_9/map_lstm_states/out/Relu:0\", shape=(?, 128), dtype=float32)\n",
      "self.decoder_zt1_sample Tensor(\"Decoder_zt1_9/Decoder_zt1_9_MultivariateNormalDiag/sample/Decoder_zt1_9_MultivariateNormalDiag_affine_linear_operator/forward/add:0\", shape=(?, 16), dtype=float32)\n",
      "self.decoder_zt1_dist tfp.distributions.MultivariateNormalDiag(\"Decoder_zt1_9_MultivariateNormalDiag\", batch_shape=[?], event_shape=[16], dtype=float32)\n",
      "self.decoder_lstm_state Tensor(\"Decoder_zt1_9/map_lstm_states/out/Relu:0\", shape=(?, 128), dtype=float32)\n",
      "self.decoder_state_log_prob Tensor(\"Decoder_state_9_1/Decoder_state_9_1_MultivariateNormalDiag_1/log_prob/add:0\", shape=(?,), dtype=float32)\n",
      "self.decoder_state_sample Tensor(\"Decoder_state_9_1/Decoder_state_9_1_MultivariateNormalDiag/sample/Decoder_state_9_1_MultivariateNormalDiag_affine_linear_operator/forward/add:0\", shape=(?, 17), dtype=float32)\n",
      "self.decoder_r_diss tfp.distributions.MultivariateNormalDiag(\"Decoder_reward_9_MultivariateNormalDiag\", batch_shape=[?], event_shape=[1], dtype=float32)\n",
      "self.decoder_r_sample Tensor(\"Decoder_reward_9/Decoder_reward_9_MultivariateNormalDiag/sample/Decoder_reward_9_MultivariateNormalDiag_affine_linear_operator/forward/add:0\", shape=(?, 1), dtype=float32)\n",
      "self.decoder_state_log_prob Tensor(\"Decoder_state_9_1/Decoder_state_9_1_MultivariateNormalDiag_1/log_prob/add:0\", shape=(?,), dtype=float32)\n",
      "self.decoder_state_sample Tensor(\"Decoder_state_9_1/Decoder_state_9_1_MultivariateNormalDiag/sample/Decoder_state_9_1_MultivariateNormalDiag_affine_linear_operator/forward/add:0\", shape=(?, 17), dtype=float32)\n",
      "self.decoder_r_diss self.decoder_state_log_probtfp.distributions.MultivariateNormalDiag(\"Decoder_reward_9_MultivariateNormalDiag\", batch_shape=[?], event_shape=[1], dtype=float32) \n",
      "Tensor(\"Decoder_state_9_1/Decoder_state_9_1_MultivariateNormalDiag_1/log_prob/add:0\", shape=(?,), dtype=float32)self.decoder_r_sample\n",
      " self.decoder_state_sampleTensor(\"Decoder_reward_9/Decoder_reward_9_MultivariateNormalDiag/sample/Decoder_reward_9_MultivariateNormalDiag_affine_linear_operator/forward/add:0\", shape=(?, 1), dtype=float32) \n",
      "Tensor(\"Decoder_state_9_1/Decoder_state_9_1_MultivariateNormalDiag/sample/Decoder_state_9_1_MultivariateNormalDiag_affine_linear_operator/forward/add:0\", shape=(?, 17), dtype=float32)\n",
      "self.decoder_r_diss tfp.distributions.MultivariateNormalDiag(\"Decoder_reward_9_MultivariateNormalDiag\", batch_shape=[?], event_shape=[1], dtype=float32)\n",
      "self.decoder_r_sample Tensor(\"Decoder_reward_9/Decoder_reward_9_MultivariateNormalDiag/sample/Decoder_reward_9_MultivariateNormalDiag_affine_linear_operator/forward/add:0\", shape=(?, 1), dtype=float32)\n",
      "self.likelihood_s Tensor(\"Mean:0\", shape=(), dtype=float32)\n",
      "self.likelihood_r Tensor(\"Mean_1:0\", shape=(), dtype=float32)\n",
      "self.divergence1 Tensor(\"Mean_2:0\", shape=(), dtype=float32)\n",
      "self.divergence2 Tensor(\"Mean_3:0\", shape=(), dtype=float32)\n",
      "self.encoder_decoder_lstm_states_mse Tensor(\"Mean_5:0\", shape=(), dtype=float32)\n",
      "self.likelihood_s Tensor(\"Mean:0\", shape=(), dtype=float32)\n",
      "self.likelihood_r Tensor(\"Mean_1:0\", shape=(), dtype=float32)\n",
      "self.divergence1 Tensor(\"Mean_2:0\", shape=(), dtype=float32)\n",
      "self.divergence2 Tensor(\"Mean_3:0\", shape=(), dtype=float32)\n",
      "self.encoder_decoder_lstm_states_mse Tensor(\"Mean_5:0\", shape=(), dtype=float32)\n",
      "self.likelihood_s Tensor(\"Mean:0\", shape=(), dtype=float32)\n",
      "self.likelihood_r Tensor(\"Mean_1:0\", shape=(), dtype=float32)\n",
      "self.divergence1 Tensor(\"Mean_2:0\", shape=(), dtype=float32)\n",
      "self.likelihood_sself.divergence2  Tensor(\"Mean_3:0\", shape=(), dtype=float32)Tensor(\"Mean:0\", shape=(), dtype=float32)\n",
      "\n",
      "self.encoder_decoder_lstm_states_mseself.likelihood_r  Tensor(\"Mean_1:0\", shape=(), dtype=float32)Tensor(\"Mean_5:0\", shape=(), dtype=float32)\n",
      "self.divergence1\n",
      " Tensor(\"Mean_2:0\", shape=(), dtype=float32)\n",
      "self.divergence2 Tensor(\"Mean_3:0\", shape=(), dtype=float32)\n",
      "self.encoder_decoder_lstm_states_mse Tensor(\"Mean_5:0\", shape=(), dtype=float32)\n",
      "INFO:tensorflow:Restoring parameters from ../saved_model/OPE_SAC_latentPolicy_lstm_zt_zt1_ensemble_d4rlOnly_halfcheetah-medium-expert-v2_850epi_repeat1_0.0003_0.0007_1000_0.997_16_1.0_2599/ope_best.ckpt\n"
     ]
    },
    {
     "name": "stderr",
     "output_type": "stream",
     "text": [
      "INFO:tensorflow:Restoring parameters from ../saved_model/OPE_SAC_latentPolicy_lstm_zt_zt1_ensemble_d4rlOnly_halfcheetah-medium-expert-v2_850epi_repeat1_0.0003_0.0007_1000_0.997_16_1.0_2599/ope_best.ckpt\n"
     ]
    },
    {
     "name": "stdout",
     "output_type": "stream",
     "text": [
      "INFO:tensorflow:Restoring parameters from ../saved_model/OPE_SAC_latentPolicy_lstm_zt_zt1_ensemble_d4rlOnly_halfcheetah-medium-expert-v2_850epi_repeat1_0.0003_0.0007_1000_0.997_16_1.0_2599/ope_best.ckpt\n"
     ]
    },
    {
     "name": "stderr",
     "output_type": "stream",
     "text": [
      "INFO:tensorflow:Restoring parameters from ../saved_model/OPE_SAC_latentPolicy_lstm_zt_zt1_ensemble_d4rlOnly_halfcheetah-medium-expert-v2_850epi_repeat1_0.0003_0.0007_1000_0.997_16_1.0_2599/ope_best.ckpt\n"
     ]
    },
    {
     "name": "stdout",
     "output_type": "stream",
     "text": [
      "INFO:tensorflow:Restoring parameters from ../saved_model/OPE_SAC_latentPolicy_lstm_zt_zt1_ensemble_d4rlOnly_halfcheetah-medium-expert-v2_850epi_repeat1_0.0003_0.0007_1000_0.997_16_1.0_2599/ope_best.ckpt\n"
     ]
    },
    {
     "name": "stderr",
     "output_type": "stream",
     "text": [
      "INFO:tensorflow:Restoring parameters from ../saved_model/OPE_SAC_latentPolicy_lstm_zt_zt1_ensemble_d4rlOnly_halfcheetah-medium-expert-v2_850epi_repeat1_0.0003_0.0007_1000_0.997_16_1.0_2599/ope_best.ckpt\n"
     ]
    },
    {
     "name": "stdout",
     "output_type": "stream",
     "text": [
      "INFO:tensorflow:Restoring parameters from ../saved_model/OPE_SAC_latentPolicy_lstm_zt_zt1_ensemble_d4rlOnly_halfcheetah-medium-expert-v2_850epi_repeat1_0.0003_0.0007_1000_0.997_16_1.0_2599/ope_best.ckpt\n"
     ]
    },
    {
     "name": "stderr",
     "output_type": "stream",
     "text": [
      "INFO:tensorflow:Restoring parameters from ../saved_model/OPE_SAC_latentPolicy_lstm_zt_zt1_ensemble_d4rlOnly_halfcheetah-medium-expert-v2_850epi_repeat1_0.0003_0.0007_1000_0.997_16_1.0_2599/ope_best.ckpt\n",
      "load datafile: 100%|██████████| 9/9 [00:02<00:00,  3.29it/s]\n",
      "load datafile: 100%|██████████| 9/9 [00:02<00:00,  3.28it/s]\n",
      "load datafile: 100%|██████████| 9/9 [00:02<00:00,  3.28it/s]\n",
      "load datafile: 100%|██████████| 9/9 [00:02<00:00,  3.28it/s]\n",
      "halfcheetah_online_1.data\t0: 100%|██████████| 999/999 [00:03<00:00, 305.52it/s]\n",
      "halfcheetah_online_9.data\t0: 100%|██████████| 999/999 [00:03<00:00, 288.15it/s]\n",
      "halfcheetah_online_8.data\t0: 100%|██████████| 999/999 [00:03<00:00, 284.07it/s]\n",
      "halfcheetah_online_7.data\t0: 100%|██████████| 999/999 [00:03<00:00, 283.42it/s]\n",
      "halfcheetah_online_1.data\t1: 100%|██████████| 999/999 [00:03<00:00, 328.25it/s]\n",
      "halfcheetah_online_9.data\t1: 100%|██████████| 999/999 [00:03<00:00, 327.20it/s]\n",
      "halfcheetah_online_8.data\t1: 100%|██████████| 999/999 [00:03<00:00, 327.76it/s]\n",
      "halfcheetah_online_7.data\t1: 100%|██████████| 999/999 [00:03<00:00, 328.76it/s]\n",
      "halfcheetah_online_1.data\t2: 100%|██████████| 999/999 [00:03<00:00, 329.69it/s]\n",
      "halfcheetah_online_9.data\t2: 100%|██████████| 999/999 [00:03<00:00, 324.92it/s]\n",
      "halfcheetah_online_8.data\t2: 100%|██████████| 999/999 [00:03<00:00, 329.28it/s]\n",
      "halfcheetah_online_7.data\t2: 100%|██████████| 999/999 [00:03<00:00, 327.15it/s]\n",
      "halfcheetah_online_1.data\t3: 100%|██████████| 999/999 [00:03<00:00, 328.99it/s]\n",
      "halfcheetah_online_9.data\t3: 100%|██████████| 999/999 [00:03<00:00, 326.21it/s]\n",
      "halfcheetah_online_8.data\t3: 100%|██████████| 999/999 [00:03<00:00, 328.63it/s]\n",
      "halfcheetah_online_7.data\t3: 100%|██████████| 999/999 [00:03<00:00, 328.14it/s]\n",
      "halfcheetah_online_1.data\t4: 100%|██████████| 999/999 [00:03<00:00, 328.16it/s]\n",
      "halfcheetah_online_9.data\t4: 100%|██████████| 999/999 [00:03<00:00, 325.54it/s]\n",
      "halfcheetah_online_8.data\t4: 100%|██████████| 999/999 [00:03<00:00, 328.63it/s]\n",
      "halfcheetah_online_7.data\t4: 100%|██████████| 999/999 [00:03<00:00, 329.31it/s]\n",
      "halfcheetah_online_1.data\t5: 100%|██████████| 999/999 [00:03<00:00, 328.62it/s]\n",
      "halfcheetah_online_9.data\t5: 100%|██████████| 999/999 [00:03<00:00, 327.19it/s]\n",
      "halfcheetah_online_8.data\t5: 100%|██████████| 999/999 [00:03<00:00, 328.23it/s]\n",
      "halfcheetah_online_7.data\t5: 100%|██████████| 999/999 [00:03<00:00, 329.60it/s]\n",
      "halfcheetah_online_1.data\t6: 100%|██████████| 999/999 [00:03<00:00, 328.07it/s]\n",
      "halfcheetah_online_9.data\t6: 100%|██████████| 999/999 [00:03<00:00, 326.41it/s]\n",
      "halfcheetah_online_8.data\t6: 100%|██████████| 999/999 [00:03<00:00, 326.66it/s]\n",
      "halfcheetah_online_7.data\t6: 100%|██████████| 999/999 [00:03<00:00, 328.56it/s]\n",
      "halfcheetah_online_1.data\t7: 100%|██████████| 999/999 [00:03<00:00, 326.11it/s]\n",
      "halfcheetah_online_9.data\t7: 100%|██████████| 999/999 [00:03<00:00, 326.43it/s]\n",
      "halfcheetah_online_8.data\t7: 100%|██████████| 999/999 [00:03<00:00, 325.93it/s]\n",
      "halfcheetah_online_7.data\t7: 100%|██████████| 999/999 [00:03<00:00, 326.45it/s]\n",
      "halfcheetah_online_1.data\t8: 100%|██████████| 999/999 [00:03<00:00, 325.59it/s]\n",
      "halfcheetah_online_9.data\t8: 100%|██████████| 999/999 [00:03<00:00, 326.96it/s]\n",
      "halfcheetah_online_8.data\t8: 100%|██████████| 999/999 [00:03<00:00, 324.52it/s]\n",
      "halfcheetah_online_7.data\t8: 100%|██████████| 999/999 [00:03<00:00, 327.50it/s]\n",
      "halfcheetah_online_1.data\t9: 100%|██████████| 999/999 [00:03<00:00, 327.15it/s]\n",
      "halfcheetah_online_7.data\t9:  87%|████████▋ | 870/999 [00:02<00:00, 354.80it/s]/home/anaconda3/envs/ope_py37/lib/python3.8/site-packages/gym/spaces/box.py:78: UserWarning: \u001b[33mWARN: Box bound precision lowered by casting to float32\u001b[0m\n",
      "  logger.warn(f\"Box bound precision lowered by casting to {self.dtype}\")\n",
      "halfcheetah_online_8.data\t9:  95%|█████████▍| 949/999 [00:02<00:00, 380.02it/s]"
     ]
    },
    {
     "name": "stdout",
     "output_type": "stream",
     "text": [
      "self.encoder_zt_out_from_st_dist tfp.distributions.MultivariateNormalDiag(\"Encoder_zt_MultivariateNormalDiag\", batch_shape=[?], event_shape=[16], dtype=float32)\n",
      "self.encoder_zt_out_from_st_sample Tensor(\"Encoder_zt/Encoder_zt_MultivariateNormalDiag/sample/Encoder_zt_MultivariateNormalDiag_affine_linear_operator/forward/add:0\", shape=(?, 16), dtype=float32)\n",
      "self.encoder_zt1_out_from_st1_dist tfp.distributions.MultivariateNormalDiag(\"Encoder_zt_MultivariateNormalDiag_1\", batch_shape=[?], event_shape=[16], dtype=float32)\n",
      "self.encoder_zt1_out_from_st1_sample Tensor(\"Encoder_zt/Encoder_zt_MultivariateNormalDiag_1/sample/Encoder_zt_MultivariateNormalDiag_1_affine_linear_operator/forward/add:0\", shape=(?, 16), dtype=float32)\n"
     ]
    },
    {
     "name": "stderr",
     "output_type": "stream",
     "text": [
      "halfcheetah_online_9.data\t9: 100%|██████████| 999/999 [00:02<00:00, 336.31it/s]\n"
     ]
    },
    {
     "name": "stdout",
     "output_type": "stream",
     "text": [
      "self.encoder_zt1_out_from_zt_dist"
     ]
    },
    {
     "name": "stderr",
     "output_type": "stream",
     "text": [
      "2022-05-16 22:05:23.048767: I tensorflow/stream_executor/cuda/cuda_gpu_executor.cc:1082] successful NUMA node read from SysFS had negative value (-1), but there must be at least one NUMA node, so returning NUMA node zero\n",
      "2022-05-16 22:05:23.049064: I tensorflow/core/common_runtime/gpu/gpu_device.cc:1665] Found device 0 with properties: \n",
      "name: NVIDIA RTX A5000 major: 8 minor: 6 memoryClockRate(GHz): 1.695\n",
      "pciBusID: 0000:61:00.0\n",
      "2022-05-16 22:05:23.049091: I tensorflow/stream_executor/platform/default/dso_loader.cc:49] Successfully opened dynamic library libcudart.so.11.0\n",
      "2022-05-16 22:05:23.049148: I tensorflow/stream_executor/platform/default/dso_loader.cc:49] Successfully opened dynamic library libcublas.so.11\n",
      "2022-05-16 22:05:23.049164: I tensorflow/stream_executor/platform/default/dso_loader.cc:49] Successfully opened dynamic library libcufft.so.10\n",
      "2022-05-16 22:05:23.049178: I tensorflow/stream_executor/platform/default/dso_loader.cc:49] Successfully opened dynamic library libcurand.so.10\n",
      "2022-05-16 22:05:23.049191: I tensorflow/stream_executor/platform/default/dso_loader.cc:49] Successfully opened dynamic library libcusolver.so.11\n",
      "2022-05-16 22:05:23.049206: I tensorflow/stream_executor/platform/default/dso_loader.cc:49] Successfully opened dynamic library libcusparse.so.11\n",
      "2022-05-16 22:05:23.049223: I tensorflow/stream_executor/platform/default/dso_loader.cc:49] Successfully opened dynamic library libcudnn.so.8\n",
      "2022-05-16 22:05:23.049277: I tensorflow/stream_executor/cuda/cuda_gpu_executor.cc:1082] successful NUMA node read from SysFS had negative value (-1), but there must be at least one NUMA node, so returning NUMA node zero\n",
      "2022-05-16 22:05:23.049535: I tensorflow/stream_executor/cuda/cuda_gpu_executor.cc:1082] successful NUMA node read from SysFS had negative value (-1), but there must be at least one NUMA node, so returning NUMA node zero\n",
      "2022-05-16 22:05:23.049747: I tensorflow/core/common_runtime/gpu/gpu_device.cc:1793] Adding visible gpu devices: 0\n",
      "2022-05-16 22:05:23.049769: I tensorflow/core/common_runtime/gpu/gpu_device.cc:1206] Device interconnect StreamExecutor with strength 1 edge matrix:\n",
      "2022-05-16 22:05:23.049773: I tensorflow/core/common_runtime/gpu/gpu_device.cc:1212]      0 \n",
      "2022-05-16 22:05:23.049777: I tensorflow/core/common_runtime/gpu/gpu_device.cc:1225] 0:   N \n",
      "2022-05-16 22:05:23.049847: I tensorflow/stream_executor/cuda/cuda_gpu_executor.cc:1082] successful NUMA node read from SysFS had negative value (-1), but there must be at least one NUMA node, so returning NUMA node zero\n",
      "2022-05-16 22:05:23.050106: I tensorflow/stream_executor/cuda/cuda_gpu_executor.cc:1082] successful NUMA node read from SysFS had negative value (-1), but there must be at least one NUMA node, so returning NUMA node zero\n",
      "2022-05-16 22:05:23.050329: I tensorflow/core/common_runtime/gpu/gpu_device.cc:1351] Created TensorFlow device (/job:localhost/replica:0/task:0/device:GPU:0 with 21445 MB memory) -> physical GPU (device: 0, name: NVIDIA RTX A5000, pci bus id: 0000:61:00.0, compute capability: 8.6)\n"
     ]
    },
    {
     "name": "stdout",
     "output_type": "stream",
     "text": [
      " "
     ]
    },
    {
     "name": "stderr",
     "output_type": "stream",
     "text": [
      "\r",
      "halfcheetah_online_8.data\t9:  99%|█████████▉| 991/999 [00:02<00:00, 391.85it/s]"
     ]
    },
    {
     "name": "stdout",
     "output_type": "stream",
     "text": [
      "tfp.distributions.MultivariateNormalDiag(\"Encoder_zt1_1_MultivariateNormalDiag\", batch_shape=[?], event_shape=[16], dtype=float32)\n",
      "self.encoder_zt1_out_from_zt_sample Tensor(\"Encoder_zt1_1/Encoder_zt1_1_MultivariateNormalDiag/sample/Encoder_zt1_1_MultivariateNormalDiag_affine_linear_operator/forward/add:0\", shape=(?, 16), dtype=float32)\n",
      "self.encoder_lstm_state Tensor(\"Encoder_zt1/concat_1:0\", shape=(?, 128), dtype=float32)\n"
     ]
    },
    {
     "name": "stderr",
     "output_type": "stream",
     "text": [
      "halfcheetah_online_8.data\t9: 100%|██████████| 999/999 [00:02<00:00, 337.72it/s]\n",
      "halfcheetah_online_7.data\t9: 100%|██████████| 999/999 [00:02<00:00, 341.88it/s]\n"
     ]
    },
    {
     "name": "stdout",
     "output_type": "stream",
     "text": [
      "new_lstm_state Tensor(\"Decoder_zt1_0/concat_1:0\", shape=(?, 128), dtype=float32)\n"
     ]
    },
    {
     "name": "stderr",
     "output_type": "stream",
     "text": [
      "/home/anaconda3/envs/ope_py37/lib/python3.8/site-packages/gym/spaces/box.py:78: UserWarning: \u001b[33mWARN: Box bound precision lowered by casting to float32\u001b[0m\n",
      "  logger.warn(f\"Box bound precision lowered by casting to {self.dtype}\")\n",
      "/home/anaconda3/envs/ope_py37/lib/python3.8/site-packages/gym/spaces/box.py:78: UserWarning: \u001b[33mWARN: Box bound precision lowered by casting to float32\u001b[0m\n",
      "  logger.warn(f\"Box bound precision lowered by casting to {self.dtype}\")\n"
     ]
    },
    {
     "name": "stdout",
     "output_type": "stream",
     "text": [
      "self.decoder_zt1_sample Tensor(\"Decoder_zt1_0/Decoder_zt1_0_MultivariateNormalDiag/sample/Decoder_zt1_0_MultivariateNormalDiag_affine_linear_operator/forward/add:0\", shape=(?, 16), dtype=float32)\n",
      "self.decoder_zt1_dist tfp.distributions.MultivariateNormalDiag(\"Decoder_zt1_0_MultivariateNormalDiag\", batch_shape=[?], event_shape=[16], dtype=float32)\n",
      "self.decoder_lstm_state Tensor(\"Decoder_zt1_0/map_lstm_states/out/Relu:0\", shape=(?, 128), dtype=float32)\n",
      "self.encoder_zt_out_from_st_dist tfp.distributions.MultivariateNormalDiag(\"Encoder_zt_MultivariateNormalDiag\", batch_shape=[?], event_shape=[16], dtype=float32)\n",
      "self.encoder_zt_out_from_st_sampleself.decoder_state_log_prob  Tensor(\"Encoder_zt/Encoder_zt_MultivariateNormalDiag/sample/Encoder_zt_MultivariateNormalDiag_affine_linear_operator/forward/add:0\", shape=(?, 16), dtype=float32)Tensor(\"Decoder_state_0_1/Decoder_state_0_1_MultivariateNormalDiag_1/log_prob/add:0\", shape=(?,), dtype=float32)\n",
      "\n",
      "self.encoder_zt1_out_from_st1_distself.decoder_state_sample  Tensor(\"Decoder_state_0_1/Decoder_state_0_1_MultivariateNormalDiag/sample/Decoder_state_0_1_MultivariateNormalDiag_affine_linear_operator/forward/add:0\", shape=(?, 17), dtype=float32)tfp.distributions.MultivariateNormalDiag(\"Encoder_zt_MultivariateNormalDiag_1\", batch_shape=[?], event_shape=[16], dtype=float32)\n",
      "\n",
      "self.decoder_r_dissself.encoder_zt1_out_from_st1_sample  tfp.distributions.MultivariateNormalDiag(\"Decoder_reward_0_MultivariateNormalDiag\", batch_shape=[?], event_shape=[1], dtype=float32)Tensor(\"Encoder_zt/Encoder_zt_MultivariateNormalDiag_1/sample/Encoder_zt_MultivariateNormalDiag_1_affine_linear_operator/forward/add:0\", shape=(?, 16), dtype=float32)\n",
      "\n",
      "self.decoder_r_sample Tensor(\"Decoder_reward_0/Decoder_reward_0_MultivariateNormalDiag/sample/Decoder_reward_0_MultivariateNormalDiag_affine_linear_operator/forward/add:0\", shape=(?, 1), dtype=float32)\n",
      "self.encoder_zt_out_from_st_dist tfp.distributions.MultivariateNormalDiag(\"Encoder_zt_MultivariateNormalDiag\", batch_shape=[?], event_shape=[16], dtype=float32)\n",
      "self.encoder_zt_out_from_st_sample Tensor(\"Encoder_zt/Encoder_zt_MultivariateNormalDiag/sample/Encoder_zt_MultivariateNormalDiag_affine_linear_operator/forward/add:0\", shape=(?, 16), dtype=float32)\n",
      "self.encoder_zt1_out_from_st1_dist tfp.distributions.MultivariateNormalDiag(\"Encoder_zt_MultivariateNormalDiag_1\", batch_shape=[?], event_shape=[16], dtype=float32)\n",
      "self.encoder_zt1_out_from_st1_sample Tensor(\"Encoder_zt/Encoder_zt_MultivariateNormalDiag_1/sample/Encoder_zt_MultivariateNormalDiag_1_affine_linear_operator/forward/add:0\", shape=(?, 16), dtype=float32)\n",
      "new_lstm_state Tensor(\"Decoder_zt1_1/concat_1:0\", shape=(?, 128), dtype=float32)\n",
      "self.encoder_zt1_out_from_zt_dist"
     ]
    },
    {
     "name": "stderr",
     "output_type": "stream",
     "text": [
      "2022-05-16 22:05:23.425294: I tensorflow/stream_executor/cuda/cuda_gpu_executor.cc:1082] successful NUMA node read from SysFS had negative value (-1), but there must be at least one NUMA node, so returning NUMA node zero\n",
      "2022-05-16 22:05:23.425587: I tensorflow/core/common_runtime/gpu/gpu_device.cc:1665] Found device 0 with properties: \n",
      "name: NVIDIA RTX A5000 major: 8 minor: 6 memoryClockRate(GHz): 1.695\n",
      "pciBusID: 0000:61:00.0\n",
      "2022-05-16 22:05:23.425613: I tensorflow/stream_executor/platform/default/dso_loader.cc:49] Successfully opened dynamic library libcudart.so.11.0\n",
      "2022-05-16 22:05:23.425658: I tensorflow/stream_executor/platform/default/dso_loader.cc:49] Successfully opened dynamic library libcublas.so.11\n",
      "2022-05-16 22:05:23.425673: I tensorflow/stream_executor/platform/default/dso_loader.cc:49] Successfully opened dynamic library libcufft.so.10\n",
      "2022-05-16 22:05:23.425686: I tensorflow/stream_executor/platform/default/dso_loader.cc:49] Successfully opened dynamic library libcurand.so.10\n",
      "2022-05-16 22:05:23.425699: I tensorflow/stream_executor/platform/default/dso_loader.cc:49] Successfully opened dynamic library libcusolver.so.11\n",
      "2022-05-16 22:05:23.425712: I tensorflow/stream_executor/platform/default/dso_loader.cc:49] Successfully opened dynamic library libcusparse.so.11\n",
      "2022-05-16 22:05:23.425725: I tensorflow/stream_executor/platform/default/dso_loader.cc:49] Successfully opened dynamic library libcudnn.so.8\n",
      "2022-05-16 22:05:23.425776: I tensorflow/stream_executor/cuda/cuda_gpu_executor.cc:1082] successful NUMA node read from SysFS had negative value (-1), but there must be at least one NUMA node, so returning NUMA node zero\n",
      "2022-05-16 22:05:23.426032: I tensorflow/stream_executor/cuda/cuda_gpu_executor.cc:1082] successful NUMA node read from SysFS had negative value (-1), but there must be at least one NUMA node, so returning NUMA node zero\n",
      "2022-05-16 22:05:23.426240: I tensorflow/core/common_runtime/gpu/gpu_device.cc:1793] Adding visible gpu devices: 0\n",
      "2022-05-16 22:05:23.426261: I tensorflow/core/common_runtime/gpu/gpu_device.cc:1206] Device interconnect StreamExecutor with strength 1 edge matrix:\n",
      "2022-05-16 22:05:23.426264: I tensorflow/core/common_runtime/gpu/gpu_device.cc:1212]      0 \n",
      "2022-05-16 22:05:23.426267: I tensorflow/core/common_runtime/gpu/gpu_device.cc:1225] 0:   N \n",
      "2022-05-16 22:05:23.426336: I tensorflow/stream_executor/cuda/cuda_gpu_executor.cc:1082] successful NUMA node read from SysFS had negative value (-1), but there must be at least one NUMA node, so returning NUMA node zero\n",
      "2022-05-16 22:05:23.426590: I tensorflow/stream_executor/cuda/cuda_gpu_executor.cc:1082] successful NUMA node read from SysFS had negative value (-1), but there must be at least one NUMA node, so returning NUMA node zero\n",
      "2022-05-16 22:05:23.426810: I tensorflow/core/common_runtime/gpu/gpu_device.cc:1351] Created TensorFlow device (/job:localhost/replica:0/task:0/device:GPU:0 with 21445 MB memory) -> physical GPU (device: 0, name: NVIDIA RTX A5000, pci bus id: 0000:61:00.0, compute capability: 8.6)\n",
      "2022-05-16 22:05:23.440477: I tensorflow/stream_executor/cuda/cuda_gpu_executor.cc:1082] successful NUMA node read from SysFS had negative value (-1), but there must be at least one NUMA node, so returning NUMA node zero\n",
      "2022-05-16 22:05:23.440776: I tensorflow/core/common_runtime/gpu/gpu_device.cc:1665] Found device 0 with properties: \n",
      "name: NVIDIA RTX A5000 major: 8 minor: 6 memoryClockRate(GHz): 1.695\n",
      "pciBusID: 0000:61:00.0\n",
      "2022-05-16 22:05:23.440803: I tensorflow/stream_executor/platform/default/dso_loader.cc:49] Successfully opened dynamic library libcudart.so.11.0\n",
      "2022-05-16 22:05:23.440844: I tensorflow/stream_executor/platform/default/dso_loader.cc:49] Successfully opened dynamic library libcublas.so.11\n",
      "2022-05-16 22:05:23.440856: I tensorflow/stream_executor/platform/default/dso_loader.cc:49] Successfully opened dynamic library libcufft.so.10\n",
      "2022-05-16 22:05:23.440867: I tensorflow/stream_executor/platform/default/dso_loader.cc:49] Successfully opened dynamic library libcurand.so.10\n",
      "2022-05-16 22:05:23.440878: I tensorflow/stream_executor/platform/default/dso_loader.cc:49] Successfully opened dynamic library libcusolver.so.11\n",
      "2022-05-16 22:05:23.440888: I tensorflow/stream_executor/platform/default/dso_loader.cc:49] Successfully opened dynamic library libcusparse.so.11\n",
      "2022-05-16 22:05:23.440900: I tensorflow/stream_executor/platform/default/dso_loader.cc:49] Successfully opened dynamic library libcudnn.so.8\n",
      "2022-05-16 22:05:23.440951: I tensorflow/stream_executor/cuda/cuda_gpu_executor.cc:1082] successful NUMA node read from SysFS had negative value (-1), but there must be at least one NUMA node, so returning NUMA node zero\n",
      "2022-05-16 22:05:23.441212: I tensorflow/stream_executor/cuda/cuda_gpu_executor.cc:1082] successful NUMA node read from SysFS had negative value (-1), but there must be at least one NUMA node, so returning NUMA node zero\n",
      "2022-05-16 22:05:23.441420: I tensorflow/core/common_runtime/gpu/gpu_device.cc:1793] Adding visible gpu devices: 0\n",
      "2022-05-16 22:05:23.441444: I tensorflow/core/common_runtime/gpu/gpu_device.cc:1206] Device interconnect StreamExecutor with strength 1 edge matrix:\n",
      "2022-05-16 22:05:23.441448: I tensorflow/core/common_runtime/gpu/gpu_device.cc:1212]      0 \n",
      "2022-05-16 22:05:23.441452: I tensorflow/core/common_runtime/gpu/gpu_device.cc:1225] 0:   N \n",
      "2022-05-16 22:05:23.441523: I tensorflow/stream_executor/cuda/cuda_gpu_executor.cc:1082] successful NUMA node read from SysFS had negative value (-1), but there must be at least one NUMA node, so returning NUMA node zero\n",
      "2022-05-16 22:05:23.441778: I tensorflow/stream_executor/cuda/cuda_gpu_executor.cc:1082] successful NUMA node read from SysFS had negative value (-1), but there must be at least one NUMA node, so returning NUMA node zero\n",
      "2022-05-16 22:05:23.442001: I tensorflow/core/common_runtime/gpu/gpu_device.cc:1351] Created TensorFlow device (/job:localhost/replica:0/task:0/device:GPU:0 with 21453 MB memory) -> physical GPU (device: 0, name: NVIDIA RTX A5000, pci bus id: 0000:61:00.0, compute capability: 8.6)\n"
     ]
    },
    {
     "name": "stdout",
     "output_type": "stream",
     "text": [
      " tfp.distributions.MultivariateNormalDiag(\"Encoder_zt1_1_MultivariateNormalDiag\", batch_shape=[?], event_shape=[16], dtype=float32)\n",
      "self.encoder_zt1_out_from_zt_sample Tensor(\"Encoder_zt1_1/Encoder_zt1_1_MultivariateNormalDiag/sample/Encoder_zt1_1_MultivariateNormalDiag_affine_linear_operator/forward/add:0\", shape=(?, 16), dtype=float32)\n",
      "self.encoder_lstm_state Tensor(\"Encoder_zt1/concat_1:0\", shape=(?, 128), dtype=float32)\n",
      "self.encoder_zt1_out_from_zt_dist tfp.distributions.MultivariateNormalDiag(\"Encoder_zt1_1_MultivariateNormalDiag\", batch_shape=[?], event_shape=[16], dtype=float32)\n",
      "self.encoder_zt1_out_from_zt_sample Tensor(\"Encoder_zt1_1/Encoder_zt1_1_MultivariateNormalDiag/sample/Encoder_zt1_1_MultivariateNormalDiag_affine_linear_operator/forward/add:0\", shape=(?, 16), dtype=float32)\n",
      "self.encoder_lstm_state Tensor(\"Encoder_zt1/concat_1:0\", shape=(?, 128), dtype=float32)\n",
      "new_lstm_state Tensor(\"Decoder_zt1_0/concat_1:0\", shape=(?, 128), dtype=float32)\n",
      "new_lstm_state Tensor(\"Decoder_zt1_0/concat_1:0\", shape=(?, 128), dtype=float32)\n",
      "self.decoder_zt1_sample Tensor(\"Decoder_zt1_1/Decoder_zt1_1_MultivariateNormalDiag/sample/Decoder_zt1_1_MultivariateNormalDiag_affine_linear_operator/forward/add:0\", shape=(?, 16), dtype=float32)\n",
      "self.decoder_zt1_dist tfp.distributions.MultivariateNormalDiag(\"Decoder_zt1_1_MultivariateNormalDiag\", batch_shape=[?], event_shape=[16], dtype=float32)\n",
      "self.decoder_lstm_state Tensor(\"Decoder_zt1_1/map_lstm_states/out/Relu:0\", shape=(?, 128), dtype=float32)\n",
      "self.decoder_zt1_sample Tensor(\"Decoder_zt1_0/Decoder_zt1_0_MultivariateNormalDiag/sample/Decoder_zt1_0_MultivariateNormalDiag_affine_linear_operator/forward/add:0\", shape=(?, 16), dtype=float32)\n",
      "self.decoder_zt1_dist tfp.distributions.MultivariateNormalDiag(\"Decoder_zt1_0_MultivariateNormalDiag\", batch_shape=[?], event_shape=[16], dtype=float32)\n",
      "self.decoder_lstm_state Tensor(\"Decoder_zt1_0/map_lstm_states/out/Relu:0\", shape=(?, 128), dtype=float32)\n",
      "self.decoder_zt1_sample Tensor(\"Decoder_zt1_0/Decoder_zt1_0_MultivariateNormalDiag/sample/Decoder_zt1_0_MultivariateNormalDiag_affine_linear_operator/forward/add:0\", shape=(?, 16), dtype=float32)\n",
      "self.decoder_zt1_dist tfp.distributions.MultivariateNormalDiag(\"Decoder_zt1_0_MultivariateNormalDiag\", batch_shape=[?], event_shape=[16], dtype=float32)\n",
      "self.decoder_lstm_state Tensor(\"Decoder_zt1_0/map_lstm_states/out/Relu:0\", shape=(?, 128), dtype=float32)\n",
      "self.decoder_state_log_prob Tensor(\"Decoder_state_1_1/Decoder_state_1_1_MultivariateNormalDiag_1/log_prob/add:0\", shape=(?,), dtype=float32)\n",
      "self.decoder_state_sample Tensor(\"Decoder_state_1_1/Decoder_state_1_1_MultivariateNormalDiag/sample/Decoder_state_1_1_MultivariateNormalDiag_affine_linear_operator/forward/add:0\", shape=(?, 17), dtype=float32)\n",
      "self.decoder_r_diss tfp.distributions.MultivariateNormalDiag(\"Decoder_reward_1_MultivariateNormalDiag\", batch_shape=[?], event_shape=[1], dtype=float32)\n",
      "self.decoder_r_sample Tensor(\"Decoder_reward_1/Decoder_reward_1_MultivariateNormalDiag/sample/Decoder_reward_1_MultivariateNormalDiag_affine_linear_operator/forward/add:0\", shape=(?, 1), dtype=float32)\n",
      "new_lstm_state Tensor(\"Decoder_zt1_2/concat_1:0\", shape=(?, 128), dtype=float32)\n",
      "self.decoder_state_log_prob Tensor(\"Decoder_state_0_1/Decoder_state_0_1_MultivariateNormalDiag_1/log_prob/add:0\", shape=(?,), dtype=float32)\n",
      "self.decoder_state_sample Tensor(\"Decoder_state_0_1/Decoder_state_0_1_MultivariateNormalDiag/sample/Decoder_state_0_1_MultivariateNormalDiag_affine_linear_operator/forward/add:0\", shape=(?, 17), dtype=float32)\n",
      "self.decoder_r_diss tfp.distributions.MultivariateNormalDiag(\"Decoder_reward_0_MultivariateNormalDiag\", batch_shape=[?], event_shape=[1], dtype=float32)\n",
      "self.decoder_r_sample Tensor(\"Decoder_reward_0/Decoder_reward_0_MultivariateNormalDiag/sample/Decoder_reward_0_MultivariateNormalDiag_affine_linear_operator/forward/add:0\", shape=(?, 1), dtype=float32)\n",
      "self.decoder_state_log_prob Tensor(\"Decoder_state_0_1/Decoder_state_0_1_MultivariateNormalDiag_1/log_prob/add:0\", shape=(?,), dtype=float32)\n",
      "self.decoder_state_sample Tensor(\"Decoder_state_0_1/Decoder_state_0_1_MultivariateNormalDiag/sample/Decoder_state_0_1_MultivariateNormalDiag_affine_linear_operator/forward/add:0\", shape=(?, 17), dtype=float32)\n",
      "self.decoder_r_diss tfp.distributions.MultivariateNormalDiag(\"Decoder_reward_0_MultivariateNormalDiag\", batch_shape=[?], event_shape=[1], dtype=float32)\n",
      "self.decoder_r_sample Tensor(\"Decoder_reward_0/Decoder_reward_0_MultivariateNormalDiag/sample/Decoder_reward_0_MultivariateNormalDiag_affine_linear_operator/forward/add:0\", shape=(?, 1), dtype=float32)\n",
      "new_lstm_state Tensor(\"Decoder_zt1_1/concat_1:0\", shape=(?, 128), dtype=float32)\n",
      "new_lstm_state Tensor(\"Decoder_zt1_1/concat_1:0\", shape=(?, 128), dtype=float32)\n",
      "self.decoder_zt1_sample Tensor(\"Decoder_zt1_2/Decoder_zt1_2_MultivariateNormalDiag/sample/Decoder_zt1_2_MultivariateNormalDiag_affine_linear_operator/forward/add:0\", shape=(?, 16), dtype=float32)\n",
      "self.decoder_zt1_dist tfp.distributions.MultivariateNormalDiag(\"Decoder_zt1_2_MultivariateNormalDiag\", batch_shape=[?], event_shape=[16], dtype=float32)\n",
      "self.decoder_lstm_state Tensor(\"Decoder_zt1_2/map_lstm_states/out/Relu:0\", shape=(?, 128), dtype=float32)\n",
      "self.decoder_zt1_sample Tensor(\"Decoder_zt1_1/Decoder_zt1_1_MultivariateNormalDiag/sample/Decoder_zt1_1_MultivariateNormalDiag_affine_linear_operator/forward/add:0\", shape=(?, 16), dtype=float32)\n",
      "self.decoder_zt1_dist tfp.distributions.MultivariateNormalDiag(\"Decoder_zt1_1_MultivariateNormalDiag\", batch_shape=[?], event_shape=[16], dtype=float32)\n",
      "self.decoder_lstm_state Tensor(\"Decoder_zt1_1/map_lstm_states/out/Relu:0\", shape=(?, 128), dtype=float32)\n",
      "self.decoder_zt1_sample Tensor(\"Decoder_zt1_1/Decoder_zt1_1_MultivariateNormalDiag/sample/Decoder_zt1_1_MultivariateNormalDiag_affine_linear_operator/forward/add:0\", shape=(?, 16), dtype=float32)\n",
      "self.decoder_zt1_dist tfp.distributions.MultivariateNormalDiag(\"Decoder_zt1_1_MultivariateNormalDiag\", batch_shape=[?], event_shape=[16], dtype=float32)\n",
      "self.decoder_lstm_state Tensor(\"Decoder_zt1_1/map_lstm_states/out/Relu:0\", shape=(?, 128), dtype=float32)\n",
      "self.decoder_state_log_prob Tensor(\"Decoder_state_2_1/Decoder_state_2_1_MultivariateNormalDiag_1/log_prob/add:0\", shape=(?,), dtype=float32)\n",
      "self.decoder_state_sample Tensor(\"Decoder_state_2_1/Decoder_state_2_1_MultivariateNormalDiag/sample/Decoder_state_2_1_MultivariateNormalDiag_affine_linear_operator/forward/add:0\", shape=(?, 17), dtype=float32)\n",
      "self.decoder_r_diss tfp.distributions.MultivariateNormalDiag(\"Decoder_reward_2_MultivariateNormalDiag\", batch_shape=[?], event_shape=[1], dtype=float32)\n",
      "self.decoder_r_sample Tensor(\"Decoder_reward_2/Decoder_reward_2_MultivariateNormalDiag/sample/Decoder_reward_2_MultivariateNormalDiag_affine_linear_operator/forward/add:0\", shape=(?, 1), dtype=float32)\n",
      "new_lstm_state Tensor(\"Decoder_zt1_3/concat_1:0\", shape=(?, 128), dtype=float32)\n",
      "self.decoder_state_log_prob self.decoder_state_log_probTensor(\"Decoder_state_1_1/Decoder_state_1_1_MultivariateNormalDiag_1/log_prob/add:0\", shape=(?,), dtype=float32) \n",
      "Tensor(\"Decoder_state_1_1/Decoder_state_1_1_MultivariateNormalDiag_1/log_prob/add:0\", shape=(?,), dtype=float32)self.decoder_state_sample\n",
      " Tensor(\"Decoder_state_1_1/Decoder_state_1_1_MultivariateNormalDiag/sample/Decoder_state_1_1_MultivariateNormalDiag_affine_linear_operator/forward/add:0\", shape=(?, 17), dtype=float32)self.decoder_state_sample\n",
      " self.decoder_r_dissTensor(\"Decoder_state_1_1/Decoder_state_1_1_MultivariateNormalDiag/sample/Decoder_state_1_1_MultivariateNormalDiag_affine_linear_operator/forward/add:0\", shape=(?, 17), dtype=float32)\n",
      " self.decoder_r_diss tfp.distributions.MultivariateNormalDiag(\"Decoder_reward_1_MultivariateNormalDiag\", batch_shape=[?], event_shape=[1], dtype=float32)tfp.distributions.MultivariateNormalDiag(\"Decoder_reward_1_MultivariateNormalDiag\", batch_shape=[?], event_shape=[1], dtype=float32)\n",
      "\n"
     ]
    },
    {
     "name": "stdout",
     "output_type": "stream",
     "text": [
      "self.decoder_r_sampleself.decoder_r_sample  Tensor(\"Decoder_reward_1/Decoder_reward_1_MultivariateNormalDiag/sample/Decoder_reward_1_MultivariateNormalDiag_affine_linear_operator/forward/add:0\", shape=(?, 1), dtype=float32)Tensor(\"Decoder_reward_1/Decoder_reward_1_MultivariateNormalDiag/sample/Decoder_reward_1_MultivariateNormalDiag_affine_linear_operator/forward/add:0\", shape=(?, 1), dtype=float32)\n",
      "\n",
      "new_lstm_state Tensor(\"Decoder_zt1_2/concat_1:0\", shape=(?, 128), dtype=float32)new_lstm_state\n",
      " Tensor(\"Decoder_zt1_2/concat_1:0\", shape=(?, 128), dtype=float32)\n",
      "self.decoder_zt1_sample Tensor(\"Decoder_zt1_3/Decoder_zt1_3_MultivariateNormalDiag/sample/Decoder_zt1_3_MultivariateNormalDiag_affine_linear_operator/forward/add:0\", shape=(?, 16), dtype=float32)\n",
      "self.decoder_zt1_dist tfp.distributions.MultivariateNormalDiag(\"Decoder_zt1_3_MultivariateNormalDiag\", batch_shape=[?], event_shape=[16], dtype=float32)\n",
      "self.decoder_lstm_state Tensor(\"Decoder_zt1_3/map_lstm_states/out/Relu:0\", shape=(?, 128), dtype=float32)\n",
      "self.decoder_zt1_sample Tensor(\"Decoder_zt1_2/Decoder_zt1_2_MultivariateNormalDiag/sample/Decoder_zt1_2_MultivariateNormalDiag_affine_linear_operator/forward/add:0\", shape=(?, 16), dtype=float32)\n",
      "self.decoder_zt1_dist tfp.distributions.MultivariateNormalDiag(\"Decoder_zt1_2_MultivariateNormalDiag\", batch_shape=[?], event_shape=[16], dtype=float32)\n",
      "self.decoder_lstm_state Tensor(\"Decoder_zt1_2/map_lstm_states/out/Relu:0\", shape=(?, 128), dtype=float32)\n",
      "self.decoder_zt1_sample Tensor(\"Decoder_zt1_2/Decoder_zt1_2_MultivariateNormalDiag/sample/Decoder_zt1_2_MultivariateNormalDiag_affine_linear_operator/forward/add:0\", shape=(?, 16), dtype=float32)\n",
      "self.decoder_zt1_dist self.decoder_state_log_probtfp.distributions.MultivariateNormalDiag(\"Decoder_zt1_2_MultivariateNormalDiag\", batch_shape=[?], event_shape=[16], dtype=float32) \n",
      "Tensor(\"Decoder_state_3_1/Decoder_state_3_1_MultivariateNormalDiag_1/log_prob/add:0\", shape=(?,), dtype=float32)self.decoder_lstm_state\n",
      " self.decoder_state_sample Tensor(\"Decoder_zt1_2/map_lstm_states/out/Relu:0\", shape=(?, 128), dtype=float32)Tensor(\"Decoder_state_3_1/Decoder_state_3_1_MultivariateNormalDiag/sample/Decoder_state_3_1_MultivariateNormalDiag_affine_linear_operator/forward/add:0\", shape=(?, 17), dtype=float32)\n",
      "\n",
      "self.decoder_r_diss tfp.distributions.MultivariateNormalDiag(\"Decoder_reward_3_MultivariateNormalDiag\", batch_shape=[?], event_shape=[1], dtype=float32)\n",
      "self.decoder_r_sample Tensor(\"Decoder_reward_3/Decoder_reward_3_MultivariateNormalDiag/sample/Decoder_reward_3_MultivariateNormalDiag_affine_linear_operator/forward/add:0\", shape=(?, 1), dtype=float32)\n",
      "new_lstm_state Tensor(\"Decoder_zt1_4/concat_1:0\", shape=(?, 128), dtype=float32)\n",
      "self.decoder_state_log_prob Tensor(\"Decoder_state_2_1/Decoder_state_2_1_MultivariateNormalDiag_1/log_prob/add:0\", shape=(?,), dtype=float32)\n",
      "self.decoder_state_sample Tensor(\"Decoder_state_2_1/Decoder_state_2_1_MultivariateNormalDiag/sample/Decoder_state_2_1_MultivariateNormalDiag_affine_linear_operator/forward/add:0\", shape=(?, 17), dtype=float32)\n",
      "self.decoder_r_diss tfp.distributions.MultivariateNormalDiag(\"Decoder_reward_2_MultivariateNormalDiag\", batch_shape=[?], event_shape=[1], dtype=float32)\n",
      "self.decoder_r_sample Tensor(\"Decoder_reward_2/Decoder_reward_2_MultivariateNormalDiag/sample/Decoder_reward_2_MultivariateNormalDiag_affine_linear_operator/forward/add:0\", shape=(?, 1), dtype=float32)\n",
      "self.decoder_state_log_prob Tensor(\"Decoder_state_2_1/Decoder_state_2_1_MultivariateNormalDiag_1/log_prob/add:0\", shape=(?,), dtype=float32)\n",
      "self.decoder_state_sample Tensor(\"Decoder_state_2_1/Decoder_state_2_1_MultivariateNormalDiag/sample/Decoder_state_2_1_MultivariateNormalDiag_affine_linear_operator/forward/add:0\", shape=(?, 17), dtype=float32)\n",
      "self.decoder_r_diss tfp.distributions.MultivariateNormalDiag(\"Decoder_reward_2_MultivariateNormalDiag\", batch_shape=[?], event_shape=[1], dtype=float32)\n",
      "self.decoder_r_sample Tensor(\"Decoder_reward_2/Decoder_reward_2_MultivariateNormalDiag/sample/Decoder_reward_2_MultivariateNormalDiag_affine_linear_operator/forward/add:0\", shape=(?, 1), dtype=float32)\n",
      "new_lstm_state Tensor(\"Decoder_zt1_3/concat_1:0\", shape=(?, 128), dtype=float32)\n",
      "new_lstm_state Tensor(\"Decoder_zt1_3/concat_1:0\", shape=(?, 128), dtype=float32)\n",
      "self.decoder_zt1_sample Tensor(\"Decoder_zt1_3/Decoder_zt1_3_MultivariateNormalDiag/sample/Decoder_zt1_3_MultivariateNormalDiag_affine_linear_operator/forward/add:0\", shape=(?, 16), dtype=float32)\n",
      "self.decoder_zt1_dist tfp.distributions.MultivariateNormalDiag(\"Decoder_zt1_3_MultivariateNormalDiag\", batch_shape=[?], event_shape=[16], dtype=float32)\n",
      "self.decoder_lstm_state Tensor(\"Decoder_zt1_3/map_lstm_states/out/Relu:0\", shape=(?, 128), dtype=float32)\n",
      "self.decoder_zt1_sample Tensor(\"Decoder_zt1_3/Decoder_zt1_3_MultivariateNormalDiag/sample/Decoder_zt1_3_MultivariateNormalDiag_affine_linear_operator/forward/add:0\", shape=(?, 16), dtype=float32)\n",
      "self.decoder_zt1_dist tfp.distributions.MultivariateNormalDiag(\"Decoder_zt1_3_MultivariateNormalDiag\", batch_shape=[?], event_shape=[16], dtype=float32)\n",
      "self.decoder_lstm_state Tensor(\"Decoder_zt1_3/map_lstm_states/out/Relu:0\", shape=(?, 128), dtype=float32)\n",
      "self.decoder_state_log_prob Tensor(\"Decoder_state_3_1/Decoder_state_3_1_MultivariateNormalDiag_1/log_prob/add:0\", shape=(?,), dtype=float32)\n",
      "self.decoder_state_sample Tensor(\"Decoder_state_3_1/Decoder_state_3_1_MultivariateNormalDiag/sample/Decoder_state_3_1_MultivariateNormalDiag_affine_linear_operator/forward/add:0\", shape=(?, 17), dtype=float32)\n",
      "self.decoder_r_diss tfp.distributions.MultivariateNormalDiag(\"Decoder_reward_3_MultivariateNormalDiag\", batch_shape=[?], event_shape=[1], dtype=float32)\n",
      "self.decoder_r_sample Tensor(\"Decoder_reward_3/Decoder_reward_3_MultivariateNormalDiag/sample/Decoder_reward_3_MultivariateNormalDiag_affine_linear_operator/forward/add:0\", shape=(?, 1), dtype=float32)\n",
      "new_lstm_state self.decoder_state_log_probTensor(\"Decoder_zt1_4/concat_1:0\", shape=(?, 128), dtype=float32) \n",
      "Tensor(\"Decoder_state_3_1/Decoder_state_3_1_MultivariateNormalDiag_1/log_prob/add:0\", shape=(?,), dtype=float32)\n",
      "self.decoder_state_sample Tensor(\"Decoder_state_3_1/Decoder_state_3_1_MultivariateNormalDiag/sample/Decoder_state_3_1_MultivariateNormalDiag_affine_linear_operator/forward/add:0\", shape=(?, 17), dtype=float32)\n",
      "self.decoder_r_diss tfp.distributions.MultivariateNormalDiag(\"Decoder_reward_3_MultivariateNormalDiag\", batch_shape=[?], event_shape=[1], dtype=float32)\n",
      "self.decoder_r_sample Tensor(\"Decoder_reward_3/Decoder_reward_3_MultivariateNormalDiag/sample/Decoder_reward_3_MultivariateNormalDiag_affine_linear_operator/forward/add:0\", shape=(?, 1), dtype=float32)\n",
      "new_lstm_state Tensor(\"Decoder_zt1_4/concat_1:0\", shape=(?, 128), dtype=float32)\n",
      "self.decoder_zt1_sample Tensor(\"Decoder_zt1_4/Decoder_zt1_4_MultivariateNormalDiag/sample/Decoder_zt1_4_MultivariateNormalDiag_affine_linear_operator/forward/add:0\", shape=(?, 16), dtype=float32)\n",
      "self.decoder_zt1_dist tfp.distributions.MultivariateNormalDiag(\"Decoder_zt1_4_MultivariateNormalDiag\", batch_shape=[?], event_shape=[16], dtype=float32)\n",
      "self.decoder_lstm_state Tensor(\"Decoder_zt1_4/map_lstm_states/out/Relu:0\", shape=(?, 128), dtype=float32)\n",
      "self.decoder_state_log_prob Tensor(\"Decoder_state_4_1/Decoder_state_4_1_MultivariateNormalDiag_1/log_prob/add:0\", shape=(?,), dtype=float32)\n",
      "self.decoder_state_sample Tensor(\"Decoder_state_4_1/Decoder_state_4_1_MultivariateNormalDiag/sample/Decoder_state_4_1_MultivariateNormalDiag_affine_linear_operator/forward/add:0\", shape=(?, 17), dtype=float32)\n",
      "self.decoder_r_diss tfp.distributions.MultivariateNormalDiag(\"Decoder_reward_4_MultivariateNormalDiag\", batch_shape=[?], event_shape=[1], dtype=float32)\n",
      "self.decoder_r_sample Tensor(\"Decoder_reward_4/Decoder_reward_4_MultivariateNormalDiag/sample/Decoder_reward_4_MultivariateNormalDiag_affine_linear_operator/forward/add:0\", shape=(?, 1), dtype=float32)\n",
      "new_lstm_state Tensor(\"Decoder_zt1_5/concat_1:0\", shape=(?, 128), dtype=float32)\n"
     ]
    },
    {
     "name": "stdout",
     "output_type": "stream",
     "text": [
      "self.decoder_zt1_sample Tensor(\"Decoder_zt1_5/Decoder_zt1_5_MultivariateNormalDiag/sample/Decoder_zt1_5_MultivariateNormalDiag_affine_linear_operator/forward/add:0\", shape=(?, 16), dtype=float32)\n",
      "self.decoder_zt1_dist tfp.distributions.MultivariateNormalDiag(\"Decoder_zt1_5_MultivariateNormalDiag\", batch_shape=[?], event_shape=[16], dtype=float32)\n",
      "self.decoder_lstm_state Tensor(\"Decoder_zt1_5/map_lstm_states/out/Relu:0\", shape=(?, 128), dtype=float32)\n",
      "self.decoder_zt1_sample Tensor(\"Decoder_zt1_4/Decoder_zt1_4_MultivariateNormalDiag/sample/Decoder_zt1_4_MultivariateNormalDiag_affine_linear_operator/forward/add:0\", shape=(?, 16), dtype=float32)\n",
      "self.decoder_zt1_dist tfp.distributions.MultivariateNormalDiag(\"Decoder_zt1_4_MultivariateNormalDiag\", batch_shape=[?], event_shape=[16], dtype=float32)\n",
      "self.decoder_lstm_state Tensor(\"Decoder_zt1_4/map_lstm_states/out/Relu:0\", shape=(?, 128), dtype=float32)\n",
      "self.decoder_state_log_prob Tensor(\"Decoder_state_5_1/Decoder_state_5_1_MultivariateNormalDiag_1/log_prob/add:0\", shape=(?,), dtype=float32)\n",
      "self.decoder_state_sample Tensor(\"Decoder_state_5_1/Decoder_state_5_1_MultivariateNormalDiag/sample/Decoder_state_5_1_MultivariateNormalDiag_affine_linear_operator/forward/add:0\", shape=(?, 17), dtype=float32)\n",
      "self.decoder_r_diss tfp.distributions.MultivariateNormalDiag(\"Decoder_reward_5_MultivariateNormalDiag\", batch_shape=[?], event_shape=[1], dtype=float32)\n",
      "self.decoder_r_sample Tensor(\"Decoder_reward_5/Decoder_reward_5_MultivariateNormalDiag/sample/Decoder_reward_5_MultivariateNormalDiag_affine_linear_operator/forward/add:0\", shape=(?, 1), dtype=float32)\n",
      "self.decoder_zt1_sample Tensor(\"Decoder_zt1_4/Decoder_zt1_4_MultivariateNormalDiag/sample/Decoder_zt1_4_MultivariateNormalDiag_affine_linear_operator/forward/add:0\", shape=(?, 16), dtype=float32)\n",
      "self.decoder_zt1_dist tfp.distributions.MultivariateNormalDiag(\"Decoder_zt1_4_MultivariateNormalDiag\", batch_shape=[?], event_shape=[16], dtype=float32)\n",
      "self.decoder_lstm_state Tensor(\"Decoder_zt1_4/map_lstm_states/out/Relu:0\", shape=(?, 128), dtype=float32)\n",
      "new_lstm_state Tensor(\"Decoder_zt1_6/concat_1:0\", shape=(?, 128), dtype=float32)\n",
      "self.decoder_state_log_prob Tensor(\"Decoder_state_4_1/Decoder_state_4_1_MultivariateNormalDiag_1/log_prob/add:0\", shape=(?,), dtype=float32)\n",
      "self.decoder_state_sample Tensor(\"Decoder_state_4_1/Decoder_state_4_1_MultivariateNormalDiag/sample/Decoder_state_4_1_MultivariateNormalDiag_affine_linear_operator/forward/add:0\", shape=(?, 17), dtype=float32)\n",
      "self.decoder_r_diss tfp.distributions.MultivariateNormalDiag(\"Decoder_reward_4_MultivariateNormalDiag\", batch_shape=[?], event_shape=[1], dtype=float32)\n",
      "self.decoder_r_sample Tensor(\"Decoder_reward_4/Decoder_reward_4_MultivariateNormalDiag/sample/Decoder_reward_4_MultivariateNormalDiag_affine_linear_operator/forward/add:0\", shape=(?, 1), dtype=float32)\n",
      "new_lstm_state Tensor(\"Decoder_zt1_5/concat_1:0\", shape=(?, 128), dtype=float32)\n",
      "self.decoder_state_log_prob Tensor(\"Decoder_state_4_1/Decoder_state_4_1_MultivariateNormalDiag_1/log_prob/add:0\", shape=(?,), dtype=float32)\n",
      "self.decoder_state_sample Tensor(\"Decoder_state_4_1/Decoder_state_4_1_MultivariateNormalDiag/sample/Decoder_state_4_1_MultivariateNormalDiag_affine_linear_operator/forward/add:0\", shape=(?, 17), dtype=float32)\n",
      "self.decoder_r_diss tfp.distributions.MultivariateNormalDiag(\"Decoder_reward_4_MultivariateNormalDiag\", batch_shape=[?], event_shape=[1], dtype=float32)\n",
      "self.decoder_r_sample Tensor(\"Decoder_reward_4/Decoder_reward_4_MultivariateNormalDiag/sample/Decoder_reward_4_MultivariateNormalDiag_affine_linear_operator/forward/add:0\", shape=(?, 1), dtype=float32)\n",
      "self.decoder_zt1_sample Tensor(\"Decoder_zt1_6/Decoder_zt1_6_MultivariateNormalDiag/sample/Decoder_zt1_6_MultivariateNormalDiag_affine_linear_operator/forward/add:0\", shape=(?, 16), dtype=float32)\n",
      "self.decoder_zt1_dist tfp.distributions.MultivariateNormalDiag(\"Decoder_zt1_6_MultivariateNormalDiag\", batch_shape=[?], event_shape=[16], dtype=float32)\n",
      "self.decoder_lstm_state Tensor(\"Decoder_zt1_6/map_lstm_states/out/Relu:0\", shape=(?, 128), dtype=float32)\n",
      "new_lstm_state Tensor(\"Decoder_zt1_5/concat_1:0\", shape=(?, 128), dtype=float32)\n",
      "self.decoder_zt1_sample Tensor(\"Decoder_zt1_5/Decoder_zt1_5_MultivariateNormalDiag/sample/Decoder_zt1_5_MultivariateNormalDiag_affine_linear_operator/forward/add:0\", shape=(?, 16), dtype=float32)\n",
      "self.decoder_zt1_dist tfp.distributions.MultivariateNormalDiag(\"Decoder_zt1_5_MultivariateNormalDiag\", batch_shape=[?], event_shape=[16], dtype=float32)\n",
      "self.decoder_lstm_state Tensor(\"Decoder_zt1_5/map_lstm_states/out/Relu:0\", shape=(?, 128), dtype=float32)\n",
      "self.decoder_state_log_prob Tensor(\"Decoder_state_6_1/Decoder_state_6_1_MultivariateNormalDiag_1/log_prob/add:0\", shape=(?,), dtype=float32)\n",
      "self.decoder_state_sample Tensor(\"Decoder_state_6_1/Decoder_state_6_1_MultivariateNormalDiag/sample/Decoder_state_6_1_MultivariateNormalDiag_affine_linear_operator/forward/add:0\", shape=(?, 17), dtype=float32)\n",
      "self.decoder_r_diss tfp.distributions.MultivariateNormalDiag(\"Decoder_reward_6_MultivariateNormalDiag\", batch_shape=[?], event_shape=[1], dtype=float32)\n",
      "self.decoder_r_sample Tensor(\"Decoder_reward_6/Decoder_reward_6_MultivariateNormalDiag/sample/Decoder_reward_6_MultivariateNormalDiag_affine_linear_operator/forward/add:0\", shape=(?, 1), dtype=float32)\n",
      "self.decoder_zt1_sample Tensor(\"Decoder_zt1_5/Decoder_zt1_5_MultivariateNormalDiag/sample/Decoder_zt1_5_MultivariateNormalDiag_affine_linear_operator/forward/add:0\", shape=(?, 16), dtype=float32)\n",
      "self.decoder_zt1_dist tfp.distributions.MultivariateNormalDiag(\"Decoder_zt1_5_MultivariateNormalDiag\", batch_shape=[?], event_shape=[16], dtype=float32)\n",
      "self.decoder_lstm_state Tensor(\"Decoder_zt1_5/map_lstm_states/out/Relu:0\", shape=(?, 128), dtype=float32)\n",
      "new_lstm_state Tensor(\"Decoder_zt1_7/concat_1:0\", shape=(?, 128), dtype=float32)\n",
      "self.decoder_state_log_prob Tensor(\"Decoder_state_5_1/Decoder_state_5_1_MultivariateNormalDiag_1/log_prob/add:0\", shape=(?,), dtype=float32)\n",
      "self.decoder_state_sample Tensor(\"Decoder_state_5_1/Decoder_state_5_1_MultivariateNormalDiag/sample/Decoder_state_5_1_MultivariateNormalDiag_affine_linear_operator/forward/add:0\", shape=(?, 17), dtype=float32)\n",
      "self.decoder_r_diss tfp.distributions.MultivariateNormalDiag(\"Decoder_reward_5_MultivariateNormalDiag\", batch_shape=[?], event_shape=[1], dtype=float32)\n",
      "self.decoder_r_sample Tensor(\"Decoder_reward_5/Decoder_reward_5_MultivariateNormalDiag/sample/Decoder_reward_5_MultivariateNormalDiag_affine_linear_operator/forward/add:0\", shape=(?, 1), dtype=float32)\n",
      "new_lstm_state Tensor(\"Decoder_zt1_6/concat_1:0\", shape=(?, 128), dtype=float32)\n",
      "self.decoder_state_log_prob Tensor(\"Decoder_state_5_1/Decoder_state_5_1_MultivariateNormalDiag_1/log_prob/add:0\", shape=(?,), dtype=float32)\n",
      "self.decoder_state_sample Tensor(\"Decoder_state_5_1/Decoder_state_5_1_MultivariateNormalDiag/sample/Decoder_state_5_1_MultivariateNormalDiag_affine_linear_operator/forward/add:0\", shape=(?, 17), dtype=float32)\n",
      "self.decoder_r_diss tfp.distributions.MultivariateNormalDiag(\"Decoder_reward_5_MultivariateNormalDiag\", batch_shape=[?], event_shape=[1], dtype=float32)\n",
      "self.decoder_r_sample Tensor(\"Decoder_reward_5/Decoder_reward_5_MultivariateNormalDiag/sample/Decoder_reward_5_MultivariateNormalDiag_affine_linear_operator/forward/add:0\", shape=(?, 1), dtype=float32)\n",
      "self.decoder_zt1_sample Tensor(\"Decoder_zt1_7/Decoder_zt1_7_MultivariateNormalDiag/sample/Decoder_zt1_7_MultivariateNormalDiag_affine_linear_operator/forward/add:0\", shape=(?, 16), dtype=float32)\n",
      "self.decoder_zt1_dist tfp.distributions.MultivariateNormalDiag(\"Decoder_zt1_7_MultivariateNormalDiag\", batch_shape=[?], event_shape=[16], dtype=float32)\n",
      "self.decoder_lstm_state Tensor(\"Decoder_zt1_7/map_lstm_states/out/Relu:0\", shape=(?, 128), dtype=float32)\n",
      "new_lstm_state Tensor(\"Decoder_zt1_6/concat_1:0\", shape=(?, 128), dtype=float32)\n",
      "self.decoder_zt1_sample Tensor(\"Decoder_zt1_6/Decoder_zt1_6_MultivariateNormalDiag/sample/Decoder_zt1_6_MultivariateNormalDiag_affine_linear_operator/forward/add:0\", shape=(?, 16), dtype=float32)\n"
     ]
    },
    {
     "name": "stdout",
     "output_type": "stream",
     "text": [
      "self.decoder_zt1_dist tfp.distributions.MultivariateNormalDiag(\"Decoder_zt1_6_MultivariateNormalDiag\", batch_shape=[?], event_shape=[16], dtype=float32)\n",
      "self.decoder_lstm_state Tensor(\"Decoder_zt1_6/map_lstm_states/out/Relu:0\", shape=(?, 128), dtype=float32)\n",
      "self.decoder_state_log_prob Tensor(\"Decoder_state_7_1/Decoder_state_7_1_MultivariateNormalDiag_1/log_prob/add:0\", shape=(?,), dtype=float32)\n",
      "self.decoder_state_sample Tensor(\"Decoder_state_7_1/Decoder_state_7_1_MultivariateNormalDiag/sample/Decoder_state_7_1_MultivariateNormalDiag_affine_linear_operator/forward/add:0\", shape=(?, 17), dtype=float32)\n",
      "self.decoder_r_diss tfp.distributions.MultivariateNormalDiag(\"Decoder_reward_7_MultivariateNormalDiag\", batch_shape=[?], event_shape=[1], dtype=float32)\n",
      "self.decoder_r_sample Tensor(\"Decoder_reward_7/Decoder_reward_7_MultivariateNormalDiag/sample/Decoder_reward_7_MultivariateNormalDiag_affine_linear_operator/forward/add:0\", shape=(?, 1), dtype=float32)\n",
      "self.decoder_zt1_sample Tensor(\"Decoder_zt1_6/Decoder_zt1_6_MultivariateNormalDiag/sample/Decoder_zt1_6_MultivariateNormalDiag_affine_linear_operator/forward/add:0\", shape=(?, 16), dtype=float32)\n",
      "self.decoder_zt1_dist tfp.distributions.MultivariateNormalDiag(\"Decoder_zt1_6_MultivariateNormalDiag\", batch_shape=[?], event_shape=[16], dtype=float32)\n",
      "self.decoder_lstm_state Tensor(\"Decoder_zt1_6/map_lstm_states/out/Relu:0\", shape=(?, 128), dtype=float32)\n",
      "new_lstm_state Tensor(\"Decoder_zt1_8/concat_1:0\", shape=(?, 128), dtype=float32)\n",
      "self.decoder_state_log_prob Tensor(\"Decoder_state_6_1/Decoder_state_6_1_MultivariateNormalDiag_1/log_prob/add:0\", shape=(?,), dtype=float32)\n",
      "self.decoder_state_sample Tensor(\"Decoder_state_6_1/Decoder_state_6_1_MultivariateNormalDiag/sample/Decoder_state_6_1_MultivariateNormalDiag_affine_linear_operator/forward/add:0\", shape=(?, 17), dtype=float32)\n",
      "self.decoder_r_diss tfp.distributions.MultivariateNormalDiag(\"Decoder_reward_6_MultivariateNormalDiag\", batch_shape=[?], event_shape=[1], dtype=float32)\n",
      "self.decoder_r_sample Tensor(\"Decoder_reward_6/Decoder_reward_6_MultivariateNormalDiag/sample/Decoder_reward_6_MultivariateNormalDiag_affine_linear_operator/forward/add:0\", shape=(?, 1), dtype=float32)\n",
      "new_lstm_state Tensor(\"Decoder_zt1_7/concat_1:0\", shape=(?, 128), dtype=float32)\n",
      "self.decoder_state_log_prob Tensor(\"Decoder_state_6_1/Decoder_state_6_1_MultivariateNormalDiag_1/log_prob/add:0\", shape=(?,), dtype=float32)\n",
      "self.decoder_state_sample Tensor(\"Decoder_state_6_1/Decoder_state_6_1_MultivariateNormalDiag/sample/Decoder_state_6_1_MultivariateNormalDiag_affine_linear_operator/forward/add:0\", shape=(?, 17), dtype=float32)\n",
      "self.decoder_r_diss tfp.distributions.MultivariateNormalDiag(\"Decoder_reward_6_MultivariateNormalDiag\", batch_shape=[?], event_shape=[1], dtype=float32)\n",
      "self.decoder_r_sample Tensor(\"Decoder_reward_6/Decoder_reward_6_MultivariateNormalDiag/sample/Decoder_reward_6_MultivariateNormalDiag_affine_linear_operator/forward/add:0\", shape=(?, 1), dtype=float32)\n",
      "self.decoder_zt1_sample Tensor(\"Decoder_zt1_8/Decoder_zt1_8_MultivariateNormalDiag/sample/Decoder_zt1_8_MultivariateNormalDiag_affine_linear_operator/forward/add:0\", shape=(?, 16), dtype=float32)\n",
      "self.decoder_zt1_dist tfp.distributions.MultivariateNormalDiag(\"Decoder_zt1_8_MultivariateNormalDiag\", batch_shape=[?], event_shape=[16], dtype=float32)\n",
      "self.decoder_lstm_state Tensor(\"Decoder_zt1_8/map_lstm_states/out/Relu:0\", shape=(?, 128), dtype=float32)\n",
      "new_lstm_state Tensor(\"Decoder_zt1_7/concat_1:0\", shape=(?, 128), dtype=float32)\n",
      "self.decoder_zt1_sample Tensor(\"Decoder_zt1_7/Decoder_zt1_7_MultivariateNormalDiag/sample/Decoder_zt1_7_MultivariateNormalDiag_affine_linear_operator/forward/add:0\", shape=(?, 16), dtype=float32)\n",
      "self.decoder_zt1_dist tfp.distributions.MultivariateNormalDiag(\"Decoder_zt1_7_MultivariateNormalDiag\", batch_shape=[?], event_shape=[16], dtype=float32)\n",
      "self.decoder_lstm_state Tensor(\"Decoder_zt1_7/map_lstm_states/out/Relu:0\", shape=(?, 128), dtype=float32)\n",
      "self.decoder_state_log_prob Tensor(\"Decoder_state_8_1/Decoder_state_8_1_MultivariateNormalDiag_1/log_prob/add:0\", shape=(?,), dtype=float32)\n",
      "self.decoder_state_sample Tensor(\"Decoder_state_8_1/Decoder_state_8_1_MultivariateNormalDiag/sample/Decoder_state_8_1_MultivariateNormalDiag_affine_linear_operator/forward/add:0\", shape=(?, 17), dtype=float32)\n",
      "self.decoder_r_diss tfp.distributions.MultivariateNormalDiag(\"Decoder_reward_8_MultivariateNormalDiag\", batch_shape=[?], event_shape=[1], dtype=float32)\n",
      "self.decoder_r_sample Tensor(\"Decoder_reward_8/Decoder_reward_8_MultivariateNormalDiag/sample/Decoder_reward_8_MultivariateNormalDiag_affine_linear_operator/forward/add:0\", shape=(?, 1), dtype=float32)\n",
      "self.decoder_zt1_sample Tensor(\"Decoder_zt1_7/Decoder_zt1_7_MultivariateNormalDiag/sample/Decoder_zt1_7_MultivariateNormalDiag_affine_linear_operator/forward/add:0\", shape=(?, 16), dtype=float32)\n",
      "self.decoder_zt1_dist tfp.distributions.MultivariateNormalDiag(\"Decoder_zt1_7_MultivariateNormalDiag\", batch_shape=[?], event_shape=[16], dtype=float32)\n",
      "self.decoder_lstm_state Tensor(\"Decoder_zt1_7/map_lstm_states/out/Relu:0\", shape=(?, 128), dtype=float32)\n",
      "new_lstm_state Tensor(\"Decoder_zt1_9/concat_1:0\", shape=(?, 128), dtype=float32)\n",
      "self.decoder_state_log_prob Tensor(\"Decoder_state_7_1/Decoder_state_7_1_MultivariateNormalDiag_1/log_prob/add:0\", shape=(?,), dtype=float32)\n",
      "self.decoder_state_sample Tensor(\"Decoder_state_7_1/Decoder_state_7_1_MultivariateNormalDiag/sample/Decoder_state_7_1_MultivariateNormalDiag_affine_linear_operator/forward/add:0\", shape=(?, 17), dtype=float32)\n",
      "self.decoder_r_diss tfp.distributions.MultivariateNormalDiag(\"Decoder_reward_7_MultivariateNormalDiag\", batch_shape=[?], event_shape=[1], dtype=float32)\n",
      "self.decoder_r_sample Tensor(\"Decoder_reward_7/Decoder_reward_7_MultivariateNormalDiag/sample/Decoder_reward_7_MultivariateNormalDiag_affine_linear_operator/forward/add:0\", shape=(?, 1), dtype=float32)\n",
      "new_lstm_state Tensor(\"Decoder_zt1_8/concat_1:0\", shape=(?, 128), dtype=float32)\n",
      "self.decoder_state_log_prob Tensor(\"Decoder_state_7_1/Decoder_state_7_1_MultivariateNormalDiag_1/log_prob/add:0\", shape=(?,), dtype=float32)\n",
      "self.decoder_state_sample Tensor(\"Decoder_state_7_1/Decoder_state_7_1_MultivariateNormalDiag/sample/Decoder_state_7_1_MultivariateNormalDiag_affine_linear_operator/forward/add:0\", shape=(?, 17), dtype=float32)\n",
      "self.decoder_r_diss tfp.distributions.MultivariateNormalDiag(\"Decoder_reward_7_MultivariateNormalDiag\", batch_shape=[?], event_shape=[1], dtype=float32)\n",
      "self.decoder_r_sample Tensor(\"Decoder_reward_7/Decoder_reward_7_MultivariateNormalDiag/sample/Decoder_reward_7_MultivariateNormalDiag_affine_linear_operator/forward/add:0\", shape=(?, 1), dtype=float32)\n",
      "new_lstm_state Tensor(\"Decoder_zt1_8/concat_1:0\", shape=(?, 128), dtype=float32)\n",
      "self.decoder_zt1_sample Tensor(\"Decoder_zt1_9/Decoder_zt1_9_MultivariateNormalDiag/sample/Decoder_zt1_9_MultivariateNormalDiag_affine_linear_operator/forward/add:0\", shape=(?, 16), dtype=float32)\n",
      "self.decoder_zt1_dist tfp.distributions.MultivariateNormalDiag(\"Decoder_zt1_9_MultivariateNormalDiag\", batch_shape=[?], event_shape=[16], dtype=float32)\n",
      "self.decoder_lstm_state Tensor(\"Decoder_zt1_9/map_lstm_states/out/Relu:0\", shape=(?, 128), dtype=float32)\n",
      "self.decoder_zt1_sample Tensor(\"Decoder_zt1_8/Decoder_zt1_8_MultivariateNormalDiag/sample/Decoder_zt1_8_MultivariateNormalDiag_affine_linear_operator/forward/add:0\", shape=(?, 16), dtype=float32)\n",
      "self.decoder_zt1_dist tfp.distributions.MultivariateNormalDiag(\"Decoder_zt1_8_MultivariateNormalDiag\", batch_shape=[?], event_shape=[16], dtype=float32)\n",
      "self.decoder_lstm_state Tensor(\"Decoder_zt1_8/map_lstm_states/out/Relu:0\", shape=(?, 128), dtype=float32)\n",
      "self.decoder_state_log_prob Tensor(\"Decoder_state_9_1/Decoder_state_9_1_MultivariateNormalDiag_1/log_prob/add:0\", shape=(?,), dtype=float32)\n",
      "self.decoder_state_sample Tensor(\"Decoder_state_9_1/Decoder_state_9_1_MultivariateNormalDiag/sample/Decoder_state_9_1_MultivariateNormalDiag_affine_linear_operator/forward/add:0\", shape=(?, 17), dtype=float32)\n"
     ]
    },
    {
     "name": "stdout",
     "output_type": "stream",
     "text": [
      "self.decoder_r_diss tfp.distributions.MultivariateNormalDiag(\"Decoder_reward_9_MultivariateNormalDiag\", batch_shape=[?], event_shape=[1], dtype=float32)\n",
      "self.decoder_r_sample Tensor(\"Decoder_reward_9/Decoder_reward_9_MultivariateNormalDiag/sample/Decoder_reward_9_MultivariateNormalDiag_affine_linear_operator/forward/add:0\", shape=(?, 1), dtype=float32)\n",
      "self.decoder_zt1_sample Tensor(\"Decoder_zt1_8/Decoder_zt1_8_MultivariateNormalDiag/sample/Decoder_zt1_8_MultivariateNormalDiag_affine_linear_operator/forward/add:0\", shape=(?, 16), dtype=float32)\n",
      "self.decoder_zt1_dist tfp.distributions.MultivariateNormalDiag(\"Decoder_zt1_8_MultivariateNormalDiag\", batch_shape=[?], event_shape=[16], dtype=float32)\n",
      "self.decoder_lstm_state Tensor(\"Decoder_zt1_8/map_lstm_states/out/Relu:0\", shape=(?, 128), dtype=float32)\n",
      "self.decoder_state_log_prob Tensor(\"Decoder_state_8_1/Decoder_state_8_1_MultivariateNormalDiag_1/log_prob/add:0\", shape=(?,), dtype=float32)\n",
      "self.decoder_state_sample Tensor(\"Decoder_state_8_1/Decoder_state_8_1_MultivariateNormalDiag/sample/Decoder_state_8_1_MultivariateNormalDiag_affine_linear_operator/forward/add:0\", shape=(?, 17), dtype=float32)\n",
      "self.decoder_r_diss tfp.distributions.MultivariateNormalDiag(\"Decoder_reward_8_MultivariateNormalDiag\", batch_shape=[?], event_shape=[1], dtype=float32)\n",
      "self.decoder_r_sample Tensor(\"Decoder_reward_8/Decoder_reward_8_MultivariateNormalDiag/sample/Decoder_reward_8_MultivariateNormalDiag_affine_linear_operator/forward/add:0\", shape=(?, 1), dtype=float32)\n",
      "new_lstm_state Tensor(\"Decoder_zt1_9/concat_1:0\", shape=(?, 128), dtype=float32)\n",
      "self.decoder_state_log_prob Tensor(\"Decoder_state_8_1/Decoder_state_8_1_MultivariateNormalDiag_1/log_prob/add:0\", shape=(?,), dtype=float32)\n",
      "self.decoder_state_sample Tensor(\"Decoder_state_8_1/Decoder_state_8_1_MultivariateNormalDiag/sample/Decoder_state_8_1_MultivariateNormalDiag_affine_linear_operator/forward/add:0\", shape=(?, 17), dtype=float32)\n",
      "self.decoder_r_diss tfp.distributions.MultivariateNormalDiag(\"Decoder_reward_8_MultivariateNormalDiag\", batch_shape=[?], event_shape=[1], dtype=float32)\n",
      "self.decoder_r_sample Tensor(\"Decoder_reward_8/Decoder_reward_8_MultivariateNormalDiag/sample/Decoder_reward_8_MultivariateNormalDiag_affine_linear_operator/forward/add:0\", shape=(?, 1), dtype=float32)\n",
      "new_lstm_state Tensor(\"Decoder_zt1_9/concat_1:0\", shape=(?, 128), dtype=float32)\n",
      "self.decoder_zt1_sample Tensor(\"Decoder_zt1_9/Decoder_zt1_9_MultivariateNormalDiag/sample/Decoder_zt1_9_MultivariateNormalDiag_affine_linear_operator/forward/add:0\", shape=(?, 16), dtype=float32)\n",
      "self.decoder_zt1_dist tfp.distributions.MultivariateNormalDiag(\"Decoder_zt1_9_MultivariateNormalDiag\", batch_shape=[?], event_shape=[16], dtype=float32)\n",
      "self.decoder_lstm_state Tensor(\"Decoder_zt1_9/map_lstm_states/out/Relu:0\", shape=(?, 128), dtype=float32)\n",
      "self.decoder_zt1_sample Tensor(\"Decoder_zt1_9/Decoder_zt1_9_MultivariateNormalDiag/sample/Decoder_zt1_9_MultivariateNormalDiag_affine_linear_operator/forward/add:0\", shape=(?, 16), dtype=float32)\n",
      "self.decoder_zt1_dist tfp.distributions.MultivariateNormalDiag(\"Decoder_zt1_9_MultivariateNormalDiag\", batch_shape=[?], event_shape=[16], dtype=float32)\n",
      "self.decoder_lstm_state Tensor(\"Decoder_zt1_9/map_lstm_states/out/Relu:0\", shape=(?, 128), dtype=float32)\n",
      "self.decoder_state_log_prob Tensor(\"Decoder_state_9_1/Decoder_state_9_1_MultivariateNormalDiag_1/log_prob/add:0\", shape=(?,), dtype=float32)\n",
      "self.decoder_state_sample Tensor(\"Decoder_state_9_1/Decoder_state_9_1_MultivariateNormalDiag/sample/Decoder_state_9_1_MultivariateNormalDiag_affine_linear_operator/forward/add:0\", shape=(?, 17), dtype=float32)\n",
      "self.decoder_r_diss tfp.distributions.MultivariateNormalDiag(\"Decoder_reward_9_MultivariateNormalDiag\", batch_shape=[?], event_shape=[1], dtype=float32)\n",
      "self.decoder_r_sample Tensor(\"Decoder_reward_9/Decoder_reward_9_MultivariateNormalDiag/sample/Decoder_reward_9_MultivariateNormalDiag_affine_linear_operator/forward/add:0\", shape=(?, 1), dtype=float32)\n",
      "self.decoder_state_log_prob Tensor(\"Decoder_state_9_1/Decoder_state_9_1_MultivariateNormalDiag_1/log_prob/add:0\", shape=(?,), dtype=float32)\n",
      "self.decoder_state_sample Tensor(\"Decoder_state_9_1/Decoder_state_9_1_MultivariateNormalDiag/sample/Decoder_state_9_1_MultivariateNormalDiag_affine_linear_operator/forward/add:0\", shape=(?, 17), dtype=float32)\n",
      "self.decoder_r_diss tfp.distributions.MultivariateNormalDiag(\"Decoder_reward_9_MultivariateNormalDiag\", batch_shape=[?], event_shape=[1], dtype=float32)\n",
      "self.decoder_r_sample Tensor(\"Decoder_reward_9/Decoder_reward_9_MultivariateNormalDiag/sample/Decoder_reward_9_MultivariateNormalDiag_affine_linear_operator/forward/add:0\", shape=(?, 1), dtype=float32)\n",
      "self.likelihood_s Tensor(\"Mean:0\", shape=(), dtype=float32)\n",
      "self.likelihood_r Tensor(\"Mean_1:0\", shape=(), dtype=float32)\n",
      "self.divergence1 Tensor(\"Mean_2:0\", shape=(), dtype=float32)\n",
      "self.divergence2 Tensor(\"Mean_3:0\", shape=(), dtype=float32)\n",
      "self.encoder_decoder_lstm_states_mse Tensor(\"Mean_5:0\", shape=(), dtype=float32)\n",
      "self.likelihood_s Tensor(\"Mean:0\", shape=(), dtype=float32)\n",
      "self.likelihood_r Tensor(\"Mean_1:0\", shape=(), dtype=float32)\n",
      "self.divergence1 Tensor(\"Mean_2:0\", shape=(), dtype=float32)\n",
      "self.divergence2 Tensor(\"Mean_3:0\", shape=(), dtype=float32)\n",
      "self.encoder_decoder_lstm_states_mse Tensor(\"Mean_5:0\", shape=(), dtype=float32)\n",
      "self.likelihood_s Tensor(\"Mean:0\", shape=(), dtype=float32)\n",
      "self.likelihood_r Tensor(\"Mean_1:0\", shape=(), dtype=float32)\n",
      "self.divergence1 Tensor(\"Mean_2:0\", shape=(), dtype=float32)\n",
      "self.divergence2 Tensor(\"Mean_3:0\", shape=(), dtype=float32)\n",
      "self.encoder_decoder_lstm_states_mse Tensor(\"Mean_5:0\", shape=(), dtype=float32)\n",
      "INFO:tensorflow:Restoring parameters from ../saved_model/OPE_SAC_latentPolicy_lstm_zt_zt1_ensemble_d4rlOnly_halfcheetah-medium-expert-v2_850epi_repeat1_0.0003_0.0007_1000_0.997_16_1.0_2599/ope_best.ckpt\n"
     ]
    },
    {
     "name": "stderr",
     "output_type": "stream",
     "text": [
      "INFO:tensorflow:Restoring parameters from ../saved_model/OPE_SAC_latentPolicy_lstm_zt_zt1_ensemble_d4rlOnly_halfcheetah-medium-expert-v2_850epi_repeat1_0.0003_0.0007_1000_0.997_16_1.0_2599/ope_best.ckpt\n"
     ]
    },
    {
     "name": "stdout",
     "output_type": "stream",
     "text": [
      "INFO:tensorflow:Restoring parameters from ../saved_model/OPE_SAC_latentPolicy_lstm_zt_zt1_ensemble_d4rlOnly_halfcheetah-medium-expert-v2_850epi_repeat1_0.0003_0.0007_1000_0.997_16_1.0_2599/ope_best.ckpt\n"
     ]
    },
    {
     "name": "stderr",
     "output_type": "stream",
     "text": [
      "INFO:tensorflow:Restoring parameters from ../saved_model/OPE_SAC_latentPolicy_lstm_zt_zt1_ensemble_d4rlOnly_halfcheetah-medium-expert-v2_850epi_repeat1_0.0003_0.0007_1000_0.997_16_1.0_2599/ope_best.ckpt\n"
     ]
    },
    {
     "name": "stdout",
     "output_type": "stream",
     "text": [
      "INFO:tensorflow:Restoring parameters from ../saved_model/OPE_SAC_latentPolicy_lstm_zt_zt1_ensemble_d4rlOnly_halfcheetah-medium-expert-v2_850epi_repeat1_0.0003_0.0007_1000_0.997_16_1.0_2599/ope_best.ckpt\n"
     ]
    },
    {
     "name": "stderr",
     "output_type": "stream",
     "text": [
      "INFO:tensorflow:Restoring parameters from ../saved_model/OPE_SAC_latentPolicy_lstm_zt_zt1_ensemble_d4rlOnly_halfcheetah-medium-expert-v2_850epi_repeat1_0.0003_0.0007_1000_0.997_16_1.0_2599/ope_best.ckpt\n",
      "load datafile: 100%|██████████| 9/9 [00:02<00:00,  3.21it/s]\n",
      "load datafile: 100%|██████████| 9/9 [00:02<00:00,  3.24it/s]\n",
      "load datafile: 100%|██████████| 9/9 [00:02<00:00,  3.25it/s]\n",
      "halfcheetah_online_6.data\t0: 100%|██████████| 999/999 [00:02<00:00, 457.52it/s]\n",
      "halfcheetah_online_2.data\t0: 100%|██████████| 999/999 [00:02<00:00, 357.72it/s]\n",
      "halfcheetah_online_5.data\t0: 100%|██████████| 999/999 [00:02<00:00, 341.15it/s]\n",
      "halfcheetah_online_6.data\t1: 100%|██████████| 999/999 [00:02<00:00, 422.55it/s]\n",
      "halfcheetah_online_2.data\t1: 100%|██████████| 999/999 [00:02<00:00, 415.04it/s]\n",
      "halfcheetah_online_5.data\t1: 100%|██████████| 999/999 [00:02<00:00, 417.17it/s]\n",
      "halfcheetah_online_6.data\t2: 100%|██████████| 999/999 [00:02<00:00, 430.71it/s]\n",
      "halfcheetah_online_6.data\t3:  52%|█████▏    | 520/999 [00:01<00:01, 422.69it/s]\n",
      "halfcheetah_online_5.data\t2: 100%|██████████| 999/999 [00:02<00:00, 418.17it/s]\n",
      "halfcheetah_online_6.data\t3: 100%|██████████| 999/999 [00:02<00:00, 423.77it/s]\n",
      "halfcheetah_online_5.data\t3:  85%|████████▌ | 851/999 [00:02<00:00, 421.60it/s]\n",
      "halfcheetah_online_5.data\t3: 100%|██████████| 999/999 [00:02<00:00, 419.63it/s]\n",
      "halfcheetah_online_6.data\t4: 100%|██████████| 999/999 [00:02<00:00, 422.57it/s]\n",
      "halfcheetah_online_2.data\t4: 100%|██████████| 999/999 [00:02<00:00, 416.05it/s]\n",
      "halfcheetah_online_5.data\t4: 100%|██████████| 999/999 [00:02<00:00, 416.46it/s]\n",
      "halfcheetah_online_6.data\t5: 100%|██████████| 999/999 [00:02<00:00, 423.68it/s]\n",
      "halfcheetah_online_2.data\t5: 100%|██████████| 999/999 [00:02<00:00, 418.06it/s]\n",
      "halfcheetah_online_5.data\t5: 100%|██████████| 999/999 [00:02<00:00, 419.96it/s]\n",
      "halfcheetah_online_6.data\t6: 100%|██████████| 999/999 [00:02<00:00, 423.39it/s]\n",
      "halfcheetah_online_2.data\t6: 100%|██████████| 999/999 [00:02<00:00, 424.16it/s]\n",
      "halfcheetah_online_5.data\t6: 100%|██████████| 999/999 [00:02<00:00, 416.20it/s]\n",
      "halfcheetah_online_6.data\t7: 100%|██████████| 999/999 [00:02<00:00, 413.52it/s]\n",
      "halfcheetah_online_2.data\t7: 100%|██████████| 999/999 [00:02<00:00, 425.25it/s]\n",
      "halfcheetah_online_5.data\t7: 100%|██████████| 999/999 [00:02<00:00, 418.19it/s]\n",
      "halfcheetah_online_6.data\t8: 100%|██████████| 999/999 [00:02<00:00, 414.59it/s]\n",
      "halfcheetah_online_2.data\t8: 100%|██████████| 999/999 [00:02<00:00, 424.91it/s]\n",
      "halfcheetah_online_5.data\t8: 100%|██████████| 999/999 [00:02<00:00, 406.39it/s]\n",
      "halfcheetah_online_6.data\t9: 100%|██████████| 999/999 [00:02<00:00, 424.48it/s]\n",
      "halfcheetah_online_2.data\t9: 100%|██████████| 999/999 [00:02<00:00, 475.93it/s]\n",
      "halfcheetah_online_5.data\t9: 100%|██████████| 999/999 [00:01<00:00, 536.17it/s]\n"
     ]
    }
   ],
   "source": [
    "pool = mp.Pool(4)\n",
    "ZTs = pool.map(gen_zt, [i for i in os.listdir() if i.find(\"data\")!=-1])\n",
    "pool.close()\n",
    "pool.join()"
   ]
  },
  {
   "cell_type": "code",
   "execution_count": 7,
   "id": "34413634",
   "metadata": {},
   "outputs": [
    {
     "data": {
      "text/plain": [
       "['halfcheetah_online_0.data',\n",
       " 'halfcheetah_online_3.data',\n",
       " 'halfcheetah_online_10.data',\n",
       " 'halfcheetah_online_4.data',\n",
       " 'halfcheetah_online_1.data',\n",
       " 'halfcheetah_online_9.data',\n",
       " 'halfcheetah_online_8.data',\n",
       " 'halfcheetah_online_7.data',\n",
       " 'halfcheetah_online_6.data',\n",
       " 'halfcheetah_online_5.data',\n",
       " 'halfcheetah_online_2.data']"
      ]
     },
     "execution_count": 7,
     "metadata": {},
     "output_type": "execute_result"
    }
   ],
   "source": [
    "[i for i in os.listdir() if i.find(\"data\")!=-1]"
   ]
  },
  {
   "cell_type": "code",
   "execution_count": 8,
   "id": "e8f5d144",
   "metadata": {},
   "outputs": [],
   "source": [
    "dict_zts = dict(ZTs)"
   ]
  },
  {
   "cell_type": "code",
   "execution_count": 9,
   "id": "aa02cc1d",
   "metadata": {},
   "outputs": [],
   "source": [
    "feat_cols = [ 'dim'+str(i) for i in range(16) ]"
   ]
  },
  {
   "cell_type": "code",
   "execution_count": 10,
   "id": "3d570df1",
   "metadata": {},
   "outputs": [],
   "source": [
    "df = pd.DataFrame(np.vstack([np.asarray(dict_zts[i]).reshape(-1,16) for i in [i.split(\".\")[0] for i in os.listdir() if i.find(\"data\")!=-1]]), columns=feat_cols)"
   ]
  },
  {
   "cell_type": "code",
   "execution_count": 11,
   "id": "04b10974",
   "metadata": {},
   "outputs": [],
   "source": [
    "ys = np.asarray([[int(i.split(\".\")[0].split(\"_\")[-1])]*np.asarray(dict_zts[i.split(\".\")[0]]).reshape(-1,16).shape[0] for i in os.listdir() if i.find(\"data\")!=-1]).reshape(-1)"
   ]
  },
  {
   "cell_type": "code",
   "execution_count": 12,
   "id": "57b2a387",
   "metadata": {},
   "outputs": [],
   "source": [
    "df['y'] = ys"
   ]
  },
  {
   "cell_type": "code",
   "execution_count": 13,
   "id": "3b4f8dcc",
   "metadata": {},
   "outputs": [
    {
     "data": {
      "text/html": [
       "<div>\n",
       "<style scoped>\n",
       "    .dataframe tbody tr th:only-of-type {\n",
       "        vertical-align: middle;\n",
       "    }\n",
       "\n",
       "    .dataframe tbody tr th {\n",
       "        vertical-align: top;\n",
       "    }\n",
       "\n",
       "    .dataframe thead th {\n",
       "        text-align: right;\n",
       "    }\n",
       "</style>\n",
       "<table border=\"1\" class=\"dataframe\">\n",
       "  <thead>\n",
       "    <tr style=\"text-align: right;\">\n",
       "      <th></th>\n",
       "      <th>dim0</th>\n",
       "      <th>dim1</th>\n",
       "      <th>dim2</th>\n",
       "      <th>dim3</th>\n",
       "      <th>dim4</th>\n",
       "      <th>dim5</th>\n",
       "      <th>dim6</th>\n",
       "      <th>dim7</th>\n",
       "      <th>dim8</th>\n",
       "      <th>dim9</th>\n",
       "      <th>dim10</th>\n",
       "      <th>dim11</th>\n",
       "      <th>dim12</th>\n",
       "      <th>dim13</th>\n",
       "      <th>dim14</th>\n",
       "      <th>dim15</th>\n",
       "      <th>y</th>\n",
       "    </tr>\n",
       "  </thead>\n",
       "  <tbody>\n",
       "    <tr>\n",
       "      <th>0</th>\n",
       "      <td>-0.100458</td>\n",
       "      <td>0.561327</td>\n",
       "      <td>-0.910746</td>\n",
       "      <td>1.103830</td>\n",
       "      <td>0.560289</td>\n",
       "      <td>-0.875533</td>\n",
       "      <td>-0.000882</td>\n",
       "      <td>0.073561</td>\n",
       "      <td>1.990916</td>\n",
       "      <td>-0.113063</td>\n",
       "      <td>0.482653</td>\n",
       "      <td>0.036144</td>\n",
       "      <td>0.953930</td>\n",
       "      <td>-0.024509</td>\n",
       "      <td>-0.829092</td>\n",
       "      <td>0.523017</td>\n",
       "      <td>0</td>\n",
       "    </tr>\n",
       "    <tr>\n",
       "      <th>1</th>\n",
       "      <td>-0.492739</td>\n",
       "      <td>1.731252</td>\n",
       "      <td>-0.594089</td>\n",
       "      <td>-0.022423</td>\n",
       "      <td>-0.930330</td>\n",
       "      <td>-0.186605</td>\n",
       "      <td>0.463611</td>\n",
       "      <td>-3.236784</td>\n",
       "      <td>1.643942</td>\n",
       "      <td>-0.890220</td>\n",
       "      <td>-0.520769</td>\n",
       "      <td>-0.403287</td>\n",
       "      <td>1.124725</td>\n",
       "      <td>0.332884</td>\n",
       "      <td>-0.752095</td>\n",
       "      <td>0.021883</td>\n",
       "      <td>0</td>\n",
       "    </tr>\n",
       "    <tr>\n",
       "      <th>2</th>\n",
       "      <td>1.025240</td>\n",
       "      <td>2.927313</td>\n",
       "      <td>-0.761748</td>\n",
       "      <td>-0.153405</td>\n",
       "      <td>0.193566</td>\n",
       "      <td>-0.065348</td>\n",
       "      <td>0.316131</td>\n",
       "      <td>-2.911434</td>\n",
       "      <td>0.197730</td>\n",
       "      <td>-0.082623</td>\n",
       "      <td>1.383354</td>\n",
       "      <td>0.101907</td>\n",
       "      <td>1.515867</td>\n",
       "      <td>0.010273</td>\n",
       "      <td>0.417499</td>\n",
       "      <td>0.599092</td>\n",
       "      <td>0</td>\n",
       "    </tr>\n",
       "    <tr>\n",
       "      <th>3</th>\n",
       "      <td>-1.798901</td>\n",
       "      <td>2.028157</td>\n",
       "      <td>-0.252033</td>\n",
       "      <td>-0.483164</td>\n",
       "      <td>-0.427922</td>\n",
       "      <td>-0.940149</td>\n",
       "      <td>0.661013</td>\n",
       "      <td>-1.308416</td>\n",
       "      <td>1.880395</td>\n",
       "      <td>-0.321224</td>\n",
       "      <td>0.764362</td>\n",
       "      <td>-0.231982</td>\n",
       "      <td>0.139978</td>\n",
       "      <td>-0.676366</td>\n",
       "      <td>0.382864</td>\n",
       "      <td>0.080961</td>\n",
       "      <td>0</td>\n",
       "    </tr>\n",
       "    <tr>\n",
       "      <th>4</th>\n",
       "      <td>-2.894905</td>\n",
       "      <td>0.923608</td>\n",
       "      <td>0.045525</td>\n",
       "      <td>-0.385605</td>\n",
       "      <td>-0.223715</td>\n",
       "      <td>-0.189107</td>\n",
       "      <td>-0.754759</td>\n",
       "      <td>1.010062</td>\n",
       "      <td>-2.016533</td>\n",
       "      <td>0.766576</td>\n",
       "      <td>2.316059</td>\n",
       "      <td>-0.054308</td>\n",
       "      <td>1.001139</td>\n",
       "      <td>-0.228702</td>\n",
       "      <td>0.987047</td>\n",
       "      <td>-0.305960</td>\n",
       "      <td>0</td>\n",
       "    </tr>\n",
       "    <tr>\n",
       "      <th>...</th>\n",
       "      <td>...</td>\n",
       "      <td>...</td>\n",
       "      <td>...</td>\n",
       "      <td>...</td>\n",
       "      <td>...</td>\n",
       "      <td>...</td>\n",
       "      <td>...</td>\n",
       "      <td>...</td>\n",
       "      <td>...</td>\n",
       "      <td>...</td>\n",
       "      <td>...</td>\n",
       "      <td>...</td>\n",
       "      <td>...</td>\n",
       "      <td>...</td>\n",
       "      <td>...</td>\n",
       "      <td>...</td>\n",
       "      <td>...</td>\n",
       "    </tr>\n",
       "    <tr>\n",
       "      <th>109885</th>\n",
       "      <td>-20.724096</td>\n",
       "      <td>1.917329</td>\n",
       "      <td>-0.474752</td>\n",
       "      <td>0.169352</td>\n",
       "      <td>-0.443399</td>\n",
       "      <td>0.340085</td>\n",
       "      <td>0.487143</td>\n",
       "      <td>23.810799</td>\n",
       "      <td>-4.614813</td>\n",
       "      <td>0.487296</td>\n",
       "      <td>6.942506</td>\n",
       "      <td>-0.396922</td>\n",
       "      <td>-0.628809</td>\n",
       "      <td>0.397817</td>\n",
       "      <td>0.449421</td>\n",
       "      <td>-0.308515</td>\n",
       "      <td>2</td>\n",
       "    </tr>\n",
       "    <tr>\n",
       "      <th>109886</th>\n",
       "      <td>2.367545</td>\n",
       "      <td>0.558362</td>\n",
       "      <td>0.383618</td>\n",
       "      <td>0.031599</td>\n",
       "      <td>-0.142313</td>\n",
       "      <td>1.005257</td>\n",
       "      <td>1.369817</td>\n",
       "      <td>-7.329798</td>\n",
       "      <td>-6.523495</td>\n",
       "      <td>0.147469</td>\n",
       "      <td>0.820081</td>\n",
       "      <td>0.250884</td>\n",
       "      <td>-0.110497</td>\n",
       "      <td>0.119647</td>\n",
       "      <td>-0.306856</td>\n",
       "      <td>0.240034</td>\n",
       "      <td>2</td>\n",
       "    </tr>\n",
       "    <tr>\n",
       "      <th>109887</th>\n",
       "      <td>19.995888</td>\n",
       "      <td>18.484625</td>\n",
       "      <td>0.656991</td>\n",
       "      <td>0.920404</td>\n",
       "      <td>-0.894970</td>\n",
       "      <td>0.037069</td>\n",
       "      <td>0.182288</td>\n",
       "      <td>-25.115166</td>\n",
       "      <td>-11.241591</td>\n",
       "      <td>-0.076435</td>\n",
       "      <td>13.360517</td>\n",
       "      <td>-0.825956</td>\n",
       "      <td>-0.337628</td>\n",
       "      <td>0.528028</td>\n",
       "      <td>0.442671</td>\n",
       "      <td>0.092039</td>\n",
       "      <td>2</td>\n",
       "    </tr>\n",
       "    <tr>\n",
       "      <th>109888</th>\n",
       "      <td>14.948554</td>\n",
       "      <td>11.019533</td>\n",
       "      <td>0.319281</td>\n",
       "      <td>-0.404831</td>\n",
       "      <td>-0.043191</td>\n",
       "      <td>-0.056808</td>\n",
       "      <td>-0.283809</td>\n",
       "      <td>-15.040665</td>\n",
       "      <td>-17.474834</td>\n",
       "      <td>-0.193020</td>\n",
       "      <td>8.678701</td>\n",
       "      <td>0.000443</td>\n",
       "      <td>-0.508403</td>\n",
       "      <td>0.088946</td>\n",
       "      <td>0.556542</td>\n",
       "      <td>0.237677</td>\n",
       "      <td>2</td>\n",
       "    </tr>\n",
       "    <tr>\n",
       "      <th>109889</th>\n",
       "      <td>-22.976292</td>\n",
       "      <td>2.005556</td>\n",
       "      <td>-0.568022</td>\n",
       "      <td>0.306288</td>\n",
       "      <td>-0.409651</td>\n",
       "      <td>-0.397902</td>\n",
       "      <td>0.134733</td>\n",
       "      <td>24.552759</td>\n",
       "      <td>-0.041242</td>\n",
       "      <td>-0.602368</td>\n",
       "      <td>1.001172</td>\n",
       "      <td>0.821106</td>\n",
       "      <td>0.395234</td>\n",
       "      <td>-0.221682</td>\n",
       "      <td>0.798948</td>\n",
       "      <td>-0.589313</td>\n",
       "      <td>2</td>\n",
       "    </tr>\n",
       "  </tbody>\n",
       "</table>\n",
       "<p>109890 rows × 17 columns</p>\n",
       "</div>"
      ],
      "text/plain": [
       "             dim0       dim1      dim2      dim3      dim4      dim5  \\\n",
       "0       -0.100458   0.561327 -0.910746  1.103830  0.560289 -0.875533   \n",
       "1       -0.492739   1.731252 -0.594089 -0.022423 -0.930330 -0.186605   \n",
       "2        1.025240   2.927313 -0.761748 -0.153405  0.193566 -0.065348   \n",
       "3       -1.798901   2.028157 -0.252033 -0.483164 -0.427922 -0.940149   \n",
       "4       -2.894905   0.923608  0.045525 -0.385605 -0.223715 -0.189107   \n",
       "...           ...        ...       ...       ...       ...       ...   \n",
       "109885 -20.724096   1.917329 -0.474752  0.169352 -0.443399  0.340085   \n",
       "109886   2.367545   0.558362  0.383618  0.031599 -0.142313  1.005257   \n",
       "109887  19.995888  18.484625  0.656991  0.920404 -0.894970  0.037069   \n",
       "109888  14.948554  11.019533  0.319281 -0.404831 -0.043191 -0.056808   \n",
       "109889 -22.976292   2.005556 -0.568022  0.306288 -0.409651 -0.397902   \n",
       "\n",
       "            dim6       dim7       dim8      dim9      dim10     dim11  \\\n",
       "0      -0.000882   0.073561   1.990916 -0.113063   0.482653  0.036144   \n",
       "1       0.463611  -3.236784   1.643942 -0.890220  -0.520769 -0.403287   \n",
       "2       0.316131  -2.911434   0.197730 -0.082623   1.383354  0.101907   \n",
       "3       0.661013  -1.308416   1.880395 -0.321224   0.764362 -0.231982   \n",
       "4      -0.754759   1.010062  -2.016533  0.766576   2.316059 -0.054308   \n",
       "...          ...        ...        ...       ...        ...       ...   \n",
       "109885  0.487143  23.810799  -4.614813  0.487296   6.942506 -0.396922   \n",
       "109886  1.369817  -7.329798  -6.523495  0.147469   0.820081  0.250884   \n",
       "109887  0.182288 -25.115166 -11.241591 -0.076435  13.360517 -0.825956   \n",
       "109888 -0.283809 -15.040665 -17.474834 -0.193020   8.678701  0.000443   \n",
       "109889  0.134733  24.552759  -0.041242 -0.602368   1.001172  0.821106   \n",
       "\n",
       "           dim12     dim13     dim14     dim15  y  \n",
       "0       0.953930 -0.024509 -0.829092  0.523017  0  \n",
       "1       1.124725  0.332884 -0.752095  0.021883  0  \n",
       "2       1.515867  0.010273  0.417499  0.599092  0  \n",
       "3       0.139978 -0.676366  0.382864  0.080961  0  \n",
       "4       1.001139 -0.228702  0.987047 -0.305960  0  \n",
       "...          ...       ...       ...       ... ..  \n",
       "109885 -0.628809  0.397817  0.449421 -0.308515  2  \n",
       "109886 -0.110497  0.119647 -0.306856  0.240034  2  \n",
       "109887 -0.337628  0.528028  0.442671  0.092039  2  \n",
       "109888 -0.508403  0.088946  0.556542  0.237677  2  \n",
       "109889  0.395234 -0.221682  0.798948 -0.589313  2  \n",
       "\n",
       "[109890 rows x 17 columns]"
      ]
     },
     "execution_count": 13,
     "metadata": {},
     "output_type": "execute_result"
    }
   ],
   "source": [
    "df"
   ]
  },
  {
   "cell_type": "code",
   "execution_count": 14,
   "id": "c77bc425",
   "metadata": {},
   "outputs": [],
   "source": [
    "np.random.seed(2599)"
   ]
  },
  {
   "cell_type": "code",
   "execution_count": 15,
   "id": "5b292fd1",
   "metadata": {},
   "outputs": [],
   "source": [
    "rndperm = np.random.permutation(df.shape[0])"
   ]
  },
  {
   "cell_type": "code",
   "execution_count": 16,
   "id": "a77477bd",
   "metadata": {},
   "outputs": [],
   "source": [
    "N = df.shape[0]\n",
    "df_subset = df.loc[rndperm[:N],:].copy()\n",
    "data_subset = df_subset[feat_cols].values\n",
    "pca = PCA(n_components=5)\n",
    "pca_result = pca.fit_transform(data_subset)"
   ]
  },
  {
   "cell_type": "code",
   "execution_count": 17,
   "id": "025d436e",
   "metadata": {},
   "outputs": [
    {
     "name": "stdout",
     "output_type": "stream",
     "text": [
      "Cumulative explained variation for 50 principal components: 0.9958704568426678\n"
     ]
    }
   ],
   "source": [
    "print('Cumulative explained variation for 50 principal components: {}'.format(np.sum(pca.explained_variance_ratio_)))"
   ]
  },
  {
   "cell_type": "code",
   "execution_count": 18,
   "id": "77a2e9d6",
   "metadata": {},
   "outputs": [
    {
     "name": "stdout",
     "output_type": "stream",
     "text": [
      "[t-SNE] Computing 121 nearest neighbors...\n",
      "[t-SNE] Indexed 109890 samples in 0.100s...\n"
     ]
    },
    {
     "name": "stderr",
     "output_type": "stream",
     "text": [
      "/home/anaconda3/envs/ope_py37/lib/python3.8/site-packages/sklearn/manifold/_t_sne.py:780: FutureWarning: The default initialization in TSNE will change from 'random' to 'pca' in 1.2.\n",
      "  warnings.warn(\n",
      "/home/anaconda3/envs/ope_py37/lib/python3.8/site-packages/sklearn/manifold/_t_sne.py:790: FutureWarning: The default learning rate in TSNE will change from 200.0 to 'auto' in 1.2.\n",
      "  warnings.warn(\n"
     ]
    },
    {
     "name": "stdout",
     "output_type": "stream",
     "text": [
      "[t-SNE] Computed neighbors for 109890 samples in 5.721s...\n",
      "[t-SNE] Computed conditional probabilities for sample 1000 / 109890\n",
      "[t-SNE] Computed conditional probabilities for sample 2000 / 109890\n",
      "[t-SNE] Computed conditional probabilities for sample 3000 / 109890\n",
      "[t-SNE] Computed conditional probabilities for sample 4000 / 109890\n",
      "[t-SNE] Computed conditional probabilities for sample 5000 / 109890\n",
      "[t-SNE] Computed conditional probabilities for sample 6000 / 109890\n",
      "[t-SNE] Computed conditional probabilities for sample 7000 / 109890\n",
      "[t-SNE] Computed conditional probabilities for sample 8000 / 109890\n",
      "[t-SNE] Computed conditional probabilities for sample 9000 / 109890\n",
      "[t-SNE] Computed conditional probabilities for sample 10000 / 109890\n",
      "[t-SNE] Computed conditional probabilities for sample 11000 / 109890\n",
      "[t-SNE] Computed conditional probabilities for sample 12000 / 109890\n",
      "[t-SNE] Computed conditional probabilities for sample 13000 / 109890\n",
      "[t-SNE] Computed conditional probabilities for sample 14000 / 109890\n",
      "[t-SNE] Computed conditional probabilities for sample 15000 / 109890\n",
      "[t-SNE] Computed conditional probabilities for sample 16000 / 109890\n",
      "[t-SNE] Computed conditional probabilities for sample 17000 / 109890\n",
      "[t-SNE] Computed conditional probabilities for sample 18000 / 109890\n",
      "[t-SNE] Computed conditional probabilities for sample 19000 / 109890\n",
      "[t-SNE] Computed conditional probabilities for sample 20000 / 109890\n",
      "[t-SNE] Computed conditional probabilities for sample 21000 / 109890\n",
      "[t-SNE] Computed conditional probabilities for sample 22000 / 109890\n",
      "[t-SNE] Computed conditional probabilities for sample 23000 / 109890\n",
      "[t-SNE] Computed conditional probabilities for sample 24000 / 109890\n",
      "[t-SNE] Computed conditional probabilities for sample 25000 / 109890\n",
      "[t-SNE] Computed conditional probabilities for sample 26000 / 109890\n",
      "[t-SNE] Computed conditional probabilities for sample 27000 / 109890\n",
      "[t-SNE] Computed conditional probabilities for sample 28000 / 109890\n",
      "[t-SNE] Computed conditional probabilities for sample 29000 / 109890\n",
      "[t-SNE] Computed conditional probabilities for sample 30000 / 109890\n",
      "[t-SNE] Computed conditional probabilities for sample 31000 / 109890\n",
      "[t-SNE] Computed conditional probabilities for sample 32000 / 109890\n",
      "[t-SNE] Computed conditional probabilities for sample 33000 / 109890\n",
      "[t-SNE] Computed conditional probabilities for sample 34000 / 109890\n",
      "[t-SNE] Computed conditional probabilities for sample 35000 / 109890\n",
      "[t-SNE] Computed conditional probabilities for sample 36000 / 109890\n",
      "[t-SNE] Computed conditional probabilities for sample 37000 / 109890\n",
      "[t-SNE] Computed conditional probabilities for sample 38000 / 109890\n",
      "[t-SNE] Computed conditional probabilities for sample 39000 / 109890\n",
      "[t-SNE] Computed conditional probabilities for sample 40000 / 109890\n",
      "[t-SNE] Computed conditional probabilities for sample 41000 / 109890\n",
      "[t-SNE] Computed conditional probabilities for sample 42000 / 109890\n",
      "[t-SNE] Computed conditional probabilities for sample 43000 / 109890\n",
      "[t-SNE] Computed conditional probabilities for sample 44000 / 109890\n",
      "[t-SNE] Computed conditional probabilities for sample 45000 / 109890\n",
      "[t-SNE] Computed conditional probabilities for sample 46000 / 109890\n",
      "[t-SNE] Computed conditional probabilities for sample 47000 / 109890\n",
      "[t-SNE] Computed conditional probabilities for sample 48000 / 109890\n",
      "[t-SNE] Computed conditional probabilities for sample 49000 / 109890\n",
      "[t-SNE] Computed conditional probabilities for sample 50000 / 109890\n",
      "[t-SNE] Computed conditional probabilities for sample 51000 / 109890\n",
      "[t-SNE] Computed conditional probabilities for sample 52000 / 109890\n",
      "[t-SNE] Computed conditional probabilities for sample 53000 / 109890\n",
      "[t-SNE] Computed conditional probabilities for sample 54000 / 109890\n",
      "[t-SNE] Computed conditional probabilities for sample 55000 / 109890\n",
      "[t-SNE] Computed conditional probabilities for sample 56000 / 109890\n",
      "[t-SNE] Computed conditional probabilities for sample 57000 / 109890\n",
      "[t-SNE] Computed conditional probabilities for sample 58000 / 109890\n",
      "[t-SNE] Computed conditional probabilities for sample 59000 / 109890\n",
      "[t-SNE] Computed conditional probabilities for sample 60000 / 109890\n",
      "[t-SNE] Computed conditional probabilities for sample 61000 / 109890\n",
      "[t-SNE] Computed conditional probabilities for sample 62000 / 109890\n",
      "[t-SNE] Computed conditional probabilities for sample 63000 / 109890\n",
      "[t-SNE] Computed conditional probabilities for sample 64000 / 109890\n",
      "[t-SNE] Computed conditional probabilities for sample 65000 / 109890\n",
      "[t-SNE] Computed conditional probabilities for sample 66000 / 109890\n",
      "[t-SNE] Computed conditional probabilities for sample 67000 / 109890\n",
      "[t-SNE] Computed conditional probabilities for sample 68000 / 109890\n",
      "[t-SNE] Computed conditional probabilities for sample 69000 / 109890\n",
      "[t-SNE] Computed conditional probabilities for sample 70000 / 109890\n",
      "[t-SNE] Computed conditional probabilities for sample 71000 / 109890\n",
      "[t-SNE] Computed conditional probabilities for sample 72000 / 109890\n",
      "[t-SNE] Computed conditional probabilities for sample 73000 / 109890\n",
      "[t-SNE] Computed conditional probabilities for sample 74000 / 109890\n",
      "[t-SNE] Computed conditional probabilities for sample 75000 / 109890\n",
      "[t-SNE] Computed conditional probabilities for sample 76000 / 109890\n",
      "[t-SNE] Computed conditional probabilities for sample 77000 / 109890\n",
      "[t-SNE] Computed conditional probabilities for sample 78000 / 109890\n",
      "[t-SNE] Computed conditional probabilities for sample 79000 / 109890\n",
      "[t-SNE] Computed conditional probabilities for sample 80000 / 109890\n",
      "[t-SNE] Computed conditional probabilities for sample 81000 / 109890\n",
      "[t-SNE] Computed conditional probabilities for sample 82000 / 109890\n",
      "[t-SNE] Computed conditional probabilities for sample 83000 / 109890\n",
      "[t-SNE] Computed conditional probabilities for sample 84000 / 109890\n",
      "[t-SNE] Computed conditional probabilities for sample 85000 / 109890\n",
      "[t-SNE] Computed conditional probabilities for sample 86000 / 109890\n",
      "[t-SNE] Computed conditional probabilities for sample 87000 / 109890\n",
      "[t-SNE] Computed conditional probabilities for sample 88000 / 109890\n",
      "[t-SNE] Computed conditional probabilities for sample 89000 / 109890\n",
      "[t-SNE] Computed conditional probabilities for sample 90000 / 109890\n",
      "[t-SNE] Computed conditional probabilities for sample 91000 / 109890\n",
      "[t-SNE] Computed conditional probabilities for sample 92000 / 109890\n",
      "[t-SNE] Computed conditional probabilities for sample 93000 / 109890\n",
      "[t-SNE] Computed conditional probabilities for sample 94000 / 109890\n",
      "[t-SNE] Computed conditional probabilities for sample 95000 / 109890\n",
      "[t-SNE] Computed conditional probabilities for sample 96000 / 109890\n",
      "[t-SNE] Computed conditional probabilities for sample 97000 / 109890\n",
      "[t-SNE] Computed conditional probabilities for sample 98000 / 109890\n",
      "[t-SNE] Computed conditional probabilities for sample 99000 / 109890\n",
      "[t-SNE] Computed conditional probabilities for sample 100000 / 109890\n",
      "[t-SNE] Computed conditional probabilities for sample 101000 / 109890\n",
      "[t-SNE] Computed conditional probabilities for sample 102000 / 109890\n",
      "[t-SNE] Computed conditional probabilities for sample 103000 / 109890\n",
      "[t-SNE] Computed conditional probabilities for sample 104000 / 109890\n",
      "[t-SNE] Computed conditional probabilities for sample 105000 / 109890\n",
      "[t-SNE] Computed conditional probabilities for sample 106000 / 109890\n",
      "[t-SNE] Computed conditional probabilities for sample 107000 / 109890\n",
      "[t-SNE] Computed conditional probabilities for sample 108000 / 109890\n",
      "[t-SNE] Computed conditional probabilities for sample 109000 / 109890\n",
      "[t-SNE] Computed conditional probabilities for sample 109890 / 109890\n",
      "[t-SNE] Mean sigma: 0.783720\n",
      "[t-SNE] KL divergence after 250 iterations with early exaggeration: 97.699318\n",
      "[t-SNE] KL divergence after 251 iterations: 179769313486231570814527423731704356798070567525844996598917476803157260780028538760589558632766878171540458953514382464234321326889464182768467546703537516986049910576551282076245490090389328944075868508455133942304583236903222948165808559332123348274797826204144723168738177180919299881250404026184124858368.000000\n"
     ]
    }
   ],
   "source": [
    "tsne = TSNE(n_components=2, verbose=1, perplexity=40, n_iter=250)\n",
    "tsne_results = tsne.fit_transform(pca_result)\n",
    "# tsne_results = tsne.fit_transform(features_test)"
   ]
  },
  {
   "cell_type": "code",
   "execution_count": 21,
   "id": "cbe6a5e9",
   "metadata": {},
   "outputs": [],
   "source": [
    "a = sns.color_palette(\"hls\", 11)\n",
    "\n",
    "b = a[0]\n",
    "\n",
    "for i in range(len(a)-1):\n",
    "    a[i] = a[i+1]\n",
    "\n",
    "a[-1] = b"
   ]
  },
  {
   "cell_type": "code",
   "execution_count": 24,
   "id": "adea9015",
   "metadata": {},
   "outputs": [
    {
     "data": {
      "image/png": "[encoded data removed]",
      "text/plain": [
       "<Figure size 432x288 with 1 Axes>"
      ]
     },
     "metadata": {},
     "output_type": "display_data"
    }
   ],
   "source": [
    "df_subset['tsne-2d-one'] = tsne_results[:,0]\n",
    "df_subset['tsne-2d-two'] = tsne_results[:,1]\n",
    "f = plt.figure()\n",
    "sns.scatterplot(\n",
    "    x=\"tsne-2d-one\", y=\"tsne-2d-two\",\n",
    "    hue=\"y\",\n",
    "#     palette=sns.color_palette(\"hls\", 11),\n",
    "    palette=a,\n",
    "    data=df_subset,\n",
    "    legend=False,\n",
    "    alpha=0.3,\n",
    "    s=1\n",
    ")\n",
    "plt.xlabel(\"\")\n",
    "plt.ylabel(\"\")\n",
    "plt.xticks([])\n",
    "plt.yticks([])\n",
    "plt.savefig(\"ensemble_2_color2.png\",dpi=200)"
   ]
  },
  {
   "cell_type": "code",
   "execution_count": 25,
   "id": "17db908d",
   "metadata": {},
   "outputs": [
    {
     "data": {
      "text/plain": [
       "([], [])"
      ]
     },
     "execution_count": 25,
     "metadata": {},
     "output_type": "execute_result"
    },
    {
     "data": {
      "image/png": "[encoded data removed]",
      "text/plain": [
       "<Figure size 432x288 with 1 Axes>"
      ]
     },
     "metadata": {},
     "output_type": "display_data"
    }
   ],
   "source": [
    "df_subset['tsne-2d-one'] = tsne_results[:,0]\n",
    "df_subset['tsne-2d-two'] = tsne_results[:,1]\n",
    "f = plt.figure()\n",
    "sns.scatterplot(\n",
    "    x=\"tsne-2d-one\", y=\"tsne-2d-two\",\n",
    "    hue=\"y\",\n",
    "    palette=sns.color_palette(\"hls\", 11),\n",
    "    data=df_subset,\n",
    "    legend=True,\n",
    "    alpha=0.3,\n",
    "    s=1\n",
    ")\n",
    "plt.xlabel(\"\")\n",
    "plt.ylabel(\"\")\n",
    "plt.xticks([])\n",
    "plt.yticks([])"
   ]
  }
 ],
 "metadata": {
  "kernelspec": {
   "display_name": "Python 3 (ipykernel)",
   "language": "python",
   "name": "python3"
  },
  "language_info": {
   "codemirror_mode": {
    "name": "ipython",
    "version": 3
   },
   "file_extension": ".py",
   "mimetype": "text/x-python",
   "name": "python",
   "nbconvert_exporter": "python",
   "pygments_lexer": "ipython3",
   "version": "3.8.12"
  }
 },
 "nbformat": 4,
 "nbformat_minor": 5
}
